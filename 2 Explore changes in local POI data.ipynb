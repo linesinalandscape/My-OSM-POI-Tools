{
 "cells": [
  {
   "cell_type": "markdown",
   "metadata": {},
   "source": [
    "# Exploring OpenStreetMap POIs with the Overpass Python wrapper and Pandas - Part 2\n",
    "\n",
    "## Background\n",
    "\n",
    "I created this notebook to help me explore OpenStreetMap Point of Interest (POI) data in a small area (and to improve my beginner's knowledge of Python and Pandas). It uses the [Overpass API Python wrapper](https://github.com/mvexel/overpass-api-python-wrapper) to obtain data from OpenStreetMap (OSM).  \n",
    "\n",
    "In Part 1 I worked out how to get data from Overpass in the format I needed for a single point in time. Here I will extend this to comparisons at different dates.\n",
    "\n",
    "Please see the [README](README.md) for more information.\n",
    "\n",
    "## Retrieving data at two points in time\n",
    "\n",
    "Import the same packages as in Part 1:"
   ]
  },
  {
   "cell_type": "code",
   "execution_count": 1,
   "metadata": {},
   "outputs": [],
   "source": [
    "import overpass\n",
    "import pandas as pd\n",
    "import plotly.express as px\n",
    "import os"
   ]
  },
  {
   "cell_type": "markdown",
   "metadata": {},
   "source": [
    "In the previous notebook, I only requested *current* data from the Overpass API, so the query results reflected the state of the OpenStreetMap database at the moment I ran the query. But Overpass also allows access to the entire previous history of OSM objects (including objects that have been deleted). This is called \"Attic Data\", and I'll need it to compare my POI data at different points in time.\n",
    "\n",
    "I'm going to wrap up the code from the previous notebook inside a function, and add an optional parameter to indicated the date of the Attic Data. If the parameter is not passed, the query will return current data."
   ]
  },
  {
   "cell_type": "code",
   "execution_count": 2,
   "metadata": {},
   "outputs": [],
   "source": [
    "def get_POIs(attic_date=''):\n",
    "\n",
    "    # set timeout\n",
    "    # queries on current data should be fast, but attic queries can take longer\n",
    "    if attic_date == '':\n",
    "        api_timeout = (20, 20)  # set both connection timeout and read timeout\n",
    "    else:\n",
    "        api_timeout = (60, 60)\n",
    "\n",
    "    # initialize the API\n",
    "    api = overpass.API(timeout=api_timeout)\n",
    "\n",
    "    # include center coordinates for ways and relations\n",
    "    api_verbosity = 'center'\n",
    "\n",
    "    # specify administrative areas to search and construct string\n",
    "    areas = [\n",
    "        '9764340',  # Cristo de la Epidemia\n",
    "        '9764345',  # La Victoria\n",
    "        '9764343',  # Barcenillas\n",
    "        '9764342',  # Conde de Ureña\n",
    "    ]\n",
    "    areas_str = ',\\n'.join(areas)\n",
    "    areas_str = f'rel(id:\\n{areas_str});\\nmap_to_area->.searchArea;\\n'\n",
    "\n",
    "    # specify features to include and construct string\n",
    "    feature_keys = [\n",
    "        'shop',\n",
    "        'healthcare',\n",
    "        'amenity',\n",
    "        'office',\n",
    "        'craft',\n",
    "        'tourism',\n",
    "        'leisure'\n",
    "    ]\n",
    "    features_formatted = (\n",
    "        f'nwr(area.searchArea)[\"{feature_key}\"]' for feature_key in feature_keys\n",
    "    )\n",
    "    features_str = ';\\n'.join(features_formatted)\n",
    "    features_str = f'(\\n{features_str};\\n);'\n",
    "\n",
    "    api_query = areas_str + features_str\n",
    "\n",
    "    # list output fields, add feature keys to list, and construct format string\n",
    "    keys = [\n",
    "        'name',\n",
    "        '\"addr:street\"',\n",
    "        '\"addr:place\"',\n",
    "        '\"addr:housenumber\"',\n",
    "        '\"addr:postcode\"',\n",
    "        'brand',\n",
    "        '\"brand:wikidata\"',\n",
    "        'check_date',\n",
    "        '::id',\n",
    "        '::type',\n",
    "        '::lat',\n",
    "        '::lon'\n",
    "    ] + feature_keys\n",
    "    api_format = ',\\n'.join(keys)\n",
    "    api_format = f'csv({api_format})'\n",
    "\n",
    "    # get data from the API\n",
    "    data = api.get(api_query, responseformat=api_format,\n",
    "                   verbosity=api_verbosity, date=attic_date)\n",
    "\n",
    "    # create DataFrame using the first row of the query response as column names\n",
    "    headers = data[0]\n",
    "    del (data[0])\n",
    "    df = pd.DataFrame(data, columns=headers)\n",
    "\n",
    "    # map feature key/values to a single key/value combination\n",
    "    def get_feature(row):\n",
    "        # set feature key and value based on the first non-empty feature key\n",
    "        for key in feature_keys:\n",
    "            if row[key] != '':\n",
    "                return key, row[key]\n",
    "        return '', ''\n",
    "\n",
    "    # create and populate the new key/value columns, dropping the originals\n",
    "    df.insert(0, 'feature_key', '')\n",
    "    df.insert(1, 'feature_value', '')\n",
    "    df[['feature_key', 'feature_value']] = df.apply(get_feature,\n",
    "                                                    axis=1, result_type='expand')\n",
    "    df.drop(columns=feature_keys, inplace=True)\n",
    "\n",
    "    # create \"feature group\"\n",
    "    # (higher level than feature key/value, but more granular than key alone)\n",
    "    feature_group_mapping = {\n",
    "        # main groups follow \"Beautified JOSM\" presets\n",
    "        ('amenity', 'restaurant'): 'amenity - food+drinks',\n",
    "        ('amenity', 'fast_food'): 'amenity - food+drinks',\n",
    "        ('amenity', 'food_court'): 'amenity - food+drinks',\n",
    "        ('amenity', 'cafe'): 'amenity - food+drinks',\n",
    "        ('amenity', 'ice_cream'): 'amenity - food+drinks',\n",
    "        ('amenity', 'pub'): 'amenity - food+drinks',\n",
    "        ('amenity', 'biergarten'): 'amenity - food+drinks',\n",
    "        ('amenity', 'bar'): 'amenity - food+drinks',\n",
    "        ('amenity', 'bench'): 'minor',\n",
    "        ('amenity', 'drinking_water'): 'minor',\n",
    "        ('amenity', 'fountain'): 'minor',\n",
    "        ('amenity', 'parking'): 'minor',\n",
    "        ('amenity', 'parking_entrance'): 'minor',\n",
    "        ('amenity', 'parking_space'): 'minor',\n",
    "        ('amenity', 'bicycle_parking'): 'minor',\n",
    "        ('amenity', 'motorcycle_parking'): 'minor',\n",
    "        ('amenity', 'recycling'): 'minor',\n",
    "        ('amenity', 'waste_basket'): 'minor',\n",
    "        ('amenity', 'waste_disposal'): 'minor',\n",
    "        ('shop', 'supermarket'): 'shop - food',\n",
    "        ('shop', 'convenience'): 'shop - food',\n",
    "        ('shop', 'general'): 'shop - food',\n",
    "        ('shop', 'kiosk'): 'shop - food',\n",
    "        ('shop', 'bakery'): 'shop - food',\n",
    "        ('shop', 'butcher'): 'shop - food',\n",
    "        ('shop', 'seafood'): 'shop - food',\n",
    "        ('shop', 'dairy'): 'shop - food',\n",
    "        ('shop', 'cheese'): 'shop - food',\n",
    "        ('shop', 'frozen_food'): 'shop - food',\n",
    "        ('shop', 'deli'): 'shop - food',\n",
    "        ('shop', 'pastry'): 'shop - food',\n",
    "        ('shop', 'confectionery'): 'shop - food',\n",
    "        ('shop', 'chocolate'): 'shop - food',\n",
    "        ('shop', 'tea'): 'shop - food',\n",
    "        ('shop', 'coffee'): 'shop - food',\n",
    "        ('shop', 'herbalist'): 'shop - food',\n",
    "        ('shop', 'greengrocer'): 'shop - food',\n",
    "        ('shop', 'organic'): 'shop - food',\n",
    "        ('shop', 'water'): 'shop - food',\n",
    "        ('shop', 'alcohol'): 'shop - food',\n",
    "        ('shop', 'beverages'): 'shop - food',\n",
    "        ('shop', 'wine'): 'shop - food',\n",
    "        ('shop', 'nutrition_supplements'): 'shop - food',\n",
    "        ('shop', 'health_food'): 'shop - food',\n",
    "        ('shop', 'spices'): 'shop - food',\n",
    "        ('shop', 'hairdresser'): 'shop - beauty',\n",
    "        ('shop', 'beauty'): 'shop - beauty',\n",
    "        ('shop', 'clothes'): 'shop - clothes',\n",
    "        ('shop', 'boutique'): 'shop - clothes',\n",
    "        ('shop', 'shoes'): 'shop - clothes',\n",
    "        ('shop', 'shoe_repair'): 'shop - clothes',\n",
    "        ('shop', 'outdoor'): 'shop - clothes',\n",
    "        ('shop', 'dry_cleaning'): 'shop - clothes',\n",
    "        ('shop', 'laundry'): 'shop - clothes',\n",
    "        ('shop', 'tailor'): 'shop - clothes',\n",
    "        ('shop', 'fabric'): 'shop - clothes',\n",
    "        ('shop', 'chemist'): 'shop - for the body',\n",
    "        ('shop', 'cosmetics'): 'shop - for the body',\n",
    "        ('shop', 'perfumery'): 'shop - for the body',\n",
    "        ('shop', 'beauty'): 'shop - for the body',\n",
    "        ('shop', 'massage'): 'shop - for the body',\n",
    "        ('shop', 'tobacco'): 'shop - for the body',\n",
    "        ('shop', 'e-cigarette'): 'shop - for the body',\n",
    "        ('shop', 'hairdresser'): 'shop - for the body',\n",
    "        ('shop', 'tattoo'): 'shop - for the body',\n",
    "        ('shop', 'optician'): 'shop - for the body',\n",
    "        ('shop', 'hearing_aids'): 'shop - for the body',\n",
    "        ('shop', 'medical_supply'): 'shop - for the body',\n",
    "        ('shop', 'jewelry'): 'shop - for the body',\n",
    "        ('shop', 'erotic'): 'shop - for the body',\n",
    "        ('leisure', 'garden'): 'minor',\n",
    "        ('leisure', 'pitch'): 'minor',\n",
    "        ('leisure', 'swimming_pool'): 'minor',\n",
    "        ('tourism', 'artwork'): 'minor'\n",
    "    }\n",
    "\n",
    "    # function to apply the mapping\n",
    "    def get_feature_group(row):\n",
    "        # map key and value to feature_group\n",
    "        # default to ' - general' if not specifically mapped\n",
    "        key = row['feature_key']\n",
    "        value = row['feature_value']\n",
    "        return feature_group_mapping.get((key, value), f'{key} - general')\n",
    "\n",
    "    # Apply the mapping to populate feature_group for each row\n",
    "    df.insert(1, 'feature_group',  '')\n",
    "    df['feature_group'] = df.apply(get_feature_group, axis=1)\n",
    "\n",
    "    # drop minor features\n",
    "    df = df[~(df['feature_group'] == 'minor')]\n",
    "\n",
    "    # remove @ from names\n",
    "    df.rename(columns={'@id': 'id', '@type': 'type',\n",
    "                       '@lat': 'lat', '@lon': 'lon'}, inplace=True)\n",
    "\n",
    "    # set type of non string columns\n",
    "    df['lat'] = pd.to_numeric(df['lat'])\n",
    "    df['lon'] = pd.to_numeric(df['lon'])\n",
    "    df['check_date'] = pd.to_datetime(df['check_date'])\n",
    "\n",
    "    # add column for street or place\n",
    "    # populate with addr:street except where addr:place exists\n",
    "    df.insert(8, 'addr:street_or_place', '')\n",
    "    df['addr:street_or_place'] = df['addr:street'].mask(\n",
    "        ~(df['addr:place'] == ''), df['addr:place'])\n",
    "    # drop the old columns\n",
    "    df.drop(columns=['addr:place', 'addr:street'], inplace=True)\n",
    "\n",
    "    # create index and OSM link column\n",
    "    df['full_id'] = df['type'] + '/' + df['id']\n",
    "    df['osm_link'] = 'https://www.openstreetmap.org/' + df['full_id']\n",
    "    df.set_index('full_id', inplace=True)\n",
    "\n",
    "    # drop the columns now captured by the index\n",
    "    df.drop(columns=['id', 'type'], inplace=True)\n",
    "\n",
    "    return df"
   ]
  },
  {
   "cell_type": "markdown",
   "metadata": {},
   "source": [
    "I'm going to query for current data first. I could call get_POIs without a date, but the results might change if anyone edits the map while I am working on this. So I'm going to set a date to ensure I get the same data as in Part 1."
   ]
  },
  {
   "cell_type": "code",
   "execution_count": 3,
   "metadata": {},
   "outputs": [
    {
     "data": {
      "text/plain": [
       "392"
      ]
     },
     "execution_count": 3,
     "metadata": {},
     "output_type": "execute_result"
    }
   ],
   "source": [
    "date_new = '2024-10-29'\n",
    "df_new = get_POIs(date_new)\n",
    "len(df_new)"
   ]
  },
  {
   "cell_type": "markdown",
   "metadata": {},
   "source": [
    "As expected, I have 392 POIs. The time taken by the API query has increased quite a lot compared to the query on current data, so I would only include a date when looking at recent data if I specifically need a snapshot at a fixed point in time.\n",
    "\n",
    "The analysis of \"check_date\" in Part 1 showed that my intensive updating of POIs in this area started in late August. To see how that activity has affected the data, I'm going to compare POIs at dates two months apart. Of course the comparison may also reflect real changes such as shops opening and closing. But over such a short period, during which I was actively mapping POIs, those real changes are likely to account for a relatively small share of changes in the data."
   ]
  },
  {
   "cell_type": "code",
   "execution_count": 4,
   "metadata": {},
   "outputs": [
    {
     "data": {
      "text/plain": [
       "267"
      ]
     },
     "execution_count": 4,
     "metadata": {},
     "output_type": "execute_result"
    }
   ],
   "source": [
    "date_old = '2024-08-15'\n",
    "df_old = get_POIs(date_old)\n",
    "len(df_old)"
   ]
  },
  {
   "cell_type": "markdown",
   "metadata": {},
   "source": [
    "As I expected given that I added quite a few new POIs recently, there are fewer rows in the older data (254 versus 376).\n",
    "\n",
    "Now to set up some folder and file names:"
   ]
  },
  {
   "cell_type": "code",
   "execution_count": 5,
   "metadata": {},
   "outputs": [],
   "source": [
    "output_folder = 'output'\n",
    "os.makedirs(output_folder, exist_ok=True)\n",
    "output_file = 'compare-data-' + date_old + '-to-' + date_new\n",
    "output_file_csv = os.path.join(output_folder, output_file + '.csv')\n",
    "output_file_html = os.path.join(output_folder, output_file + '.html')"
   ]
  },
  {
   "cell_type": "markdown",
   "metadata": {},
   "source": [
    "## Comparing tag frequency\n",
    "\n",
    "Define a function to create a DataFrame summarising tag counts as in Part 1, and call it with both old and new data:  "
   ]
  },
  {
   "cell_type": "code",
   "execution_count": 6,
   "metadata": {},
   "outputs": [
    {
     "name": "stdout",
     "output_type": "stream",
     "text": [
      "121\n",
      "\n",
      "96\n",
      "\n",
      "  feature_key          feature_group feature_value  frequency  frequency_pc\n",
      "0        shop    shop - for the body   hairdresser         29      7.397959\n",
      "1     amenity  amenity - food+drinks          cafe         19      4.846939\n",
      "2     amenity  amenity - food+drinks    restaurant         17      4.336735\n",
      "3     amenity  amenity - food+drinks     fast_food         14      3.571429\n",
      "4        shop            shop - food   greengrocer         12      3.061224\n",
      "\n",
      "  feature_key          feature_group feature_value  frequency  frequency_pc\n",
      "0     amenity  amenity - food+drinks    restaurant         20      7.490637\n",
      "1     amenity  amenity - food+drinks          cafe         15      5.617978\n",
      "2        shop         shop - clothes       clothes         13      4.868914\n",
      "3        shop            shop - food   convenience         12      4.494382\n",
      "4        shop    shop - for the body   hairdresser          9      3.370787\n"
     ]
    }
   ],
   "source": [
    "def get_tag_summary(df):\n",
    "    df_tags = pd.DataFrame(\n",
    "        df[['feature_key', 'feature_group', 'feature_value']]\n",
    "        .value_counts().reset_index())\n",
    "\n",
    "    df_tags.rename(columns={'count': 'frequency'}, inplace=True)\n",
    "\n",
    "    total = df_tags['frequency'].sum()\n",
    "    df_tags['frequency_pc'] = (df_tags['frequency'] / total) * 100\n",
    "\n",
    "    return df_tags\n",
    "\n",
    "\n",
    "df_tags_new = get_tag_summary(df_new)\n",
    "df_tags_old = get_tag_summary(df_old)\n",
    "\n",
    "print(len(df_tags_new))\n",
    "print()\n",
    "print(len(df_tags_old))\n",
    "print()\n",
    "print(df_tags_new.head())\n",
    "print()\n",
    "print(df_tags_old.head())"
   ]
  },
  {
   "cell_type": "markdown",
   "metadata": {},
   "source": [
    "It seems that my intensive mapping campaign has increased the number of unique tags in the data by 25. And there's a strong hint that it has also changed the relative proportions of mapped POIs: Previously \"amenity = restaurant\" was the most common POI, but it has now been overtaken by \"shop=hairdresser\", and by some distance. That agrees with my subjective impression that I mapped a lot of previous missing hairdressers. \n",
    "\n",
    "Now I can join the two tag summary DataFrames, usign an outer join so that I have a row for every tag that appears in either dataset:"
   ]
  },
  {
   "cell_type": "code",
   "execution_count": 7,
   "metadata": {},
   "outputs": [
    {
     "data": {
      "text/html": [
       "<div>\n",
       "<style scoped>\n",
       "    .dataframe tbody tr th:only-of-type {\n",
       "        vertical-align: middle;\n",
       "    }\n",
       "\n",
       "    .dataframe tbody tr th {\n",
       "        vertical-align: top;\n",
       "    }\n",
       "\n",
       "    .dataframe thead th {\n",
       "        text-align: right;\n",
       "    }\n",
       "</style>\n",
       "<table border=\"1\" class=\"dataframe\">\n",
       "  <thead>\n",
       "    <tr style=\"text-align: right;\">\n",
       "      <th></th>\n",
       "      <th>feature_key</th>\n",
       "      <th>feature_group</th>\n",
       "      <th>feature_value</th>\n",
       "      <th>frequency_new</th>\n",
       "      <th>frequency_pc_new</th>\n",
       "      <th>frequency_old</th>\n",
       "      <th>frequency_pc_old</th>\n",
       "      <th>freq_diff</th>\n",
       "    </tr>\n",
       "  </thead>\n",
       "  <tbody>\n",
       "    <tr>\n",
       "      <th>0</th>\n",
       "      <td>amenity</td>\n",
       "      <td>amenity - food+drinks</td>\n",
       "      <td>bar</td>\n",
       "      <td>2.0</td>\n",
       "      <td>0.510204</td>\n",
       "      <td>2.0</td>\n",
       "      <td>0.749064</td>\n",
       "      <td>0.0</td>\n",
       "    </tr>\n",
       "    <tr>\n",
       "      <th>1</th>\n",
       "      <td>amenity</td>\n",
       "      <td>amenity - food+drinks</td>\n",
       "      <td>cafe</td>\n",
       "      <td>19.0</td>\n",
       "      <td>4.846939</td>\n",
       "      <td>15.0</td>\n",
       "      <td>5.617978</td>\n",
       "      <td>4.0</td>\n",
       "    </tr>\n",
       "    <tr>\n",
       "      <th>2</th>\n",
       "      <td>amenity</td>\n",
       "      <td>amenity - food+drinks</td>\n",
       "      <td>fast_food</td>\n",
       "      <td>14.0</td>\n",
       "      <td>3.571429</td>\n",
       "      <td>8.0</td>\n",
       "      <td>2.996255</td>\n",
       "      <td>6.0</td>\n",
       "    </tr>\n",
       "    <tr>\n",
       "      <th>3</th>\n",
       "      <td>amenity</td>\n",
       "      <td>amenity - food+drinks</td>\n",
       "      <td>ice_cream</td>\n",
       "      <td>2.0</td>\n",
       "      <td>0.510204</td>\n",
       "      <td>3.0</td>\n",
       "      <td>1.123596</td>\n",
       "      <td>-1.0</td>\n",
       "    </tr>\n",
       "    <tr>\n",
       "      <th>4</th>\n",
       "      <td>amenity</td>\n",
       "      <td>amenity - food+drinks</td>\n",
       "      <td>pub</td>\n",
       "      <td>2.0</td>\n",
       "      <td>0.510204</td>\n",
       "      <td>1.0</td>\n",
       "      <td>0.374532</td>\n",
       "      <td>1.0</td>\n",
       "    </tr>\n",
       "  </tbody>\n",
       "</table>\n",
       "</div>"
      ],
      "text/plain": [
       "  feature_key          feature_group feature_value  frequency_new  \\\n",
       "0     amenity  amenity - food+drinks           bar            2.0   \n",
       "1     amenity  amenity - food+drinks          cafe           19.0   \n",
       "2     amenity  amenity - food+drinks     fast_food           14.0   \n",
       "3     amenity  amenity - food+drinks     ice_cream            2.0   \n",
       "4     amenity  amenity - food+drinks           pub            2.0   \n",
       "\n",
       "   frequency_pc_new  frequency_old  frequency_pc_old  freq_diff  \n",
       "0          0.510204            2.0          0.749064        0.0  \n",
       "1          4.846939           15.0          5.617978        4.0  \n",
       "2          3.571429            8.0          2.996255        6.0  \n",
       "3          0.510204            3.0          1.123596       -1.0  \n",
       "4          0.510204            1.0          0.374532        1.0  "
      ]
     },
     "execution_count": 7,
     "metadata": {},
     "output_type": "execute_result"
    }
   ],
   "source": [
    "df_tags = pd.merge(df_tags_new, df_tags_old, how='outer', on=[\n",
    "                   'feature_key', 'feature_group', 'feature_value'],\n",
    "                   sort=True, suffixes=('_new', '_old'))\n",
    "df_tags.fillna(0, inplace=True)\n",
    "df_tags['freq_diff'] = df_tags['frequency_new'] - df_tags['frequency_old']\n",
    "\n",
    "df_tags.head()"
   ]
  },
  {
   "cell_type": "code",
   "execution_count": 8,
   "metadata": {},
   "outputs": [
    {
     "name": "stdout",
     "output_type": "stream",
     "text": [
      "9\n",
      "\n",
      "34\n"
     ]
    }
   ],
   "source": [
    "print(len(df_tags[df_tags['frequency_new'] == 0]))\n",
    "print()\n",
    "print(len(df_tags[df_tags['frequency_old'] == 0]))"
   ]
  },
  {
   "cell_type": "markdown",
   "metadata": {},
   "source": [
    "I can now see that the net increase of 25 tags consists of 34 new tags less 9 that have disappeared. I'd better have a look at the disappeared tags to make sure nothing odd is happening:"
   ]
  },
  {
   "cell_type": "code",
   "execution_count": 9,
   "metadata": {},
   "outputs": [
    {
     "data": {
      "text/html": [
       "<div>\n",
       "<style scoped>\n",
       "    .dataframe tbody tr th:only-of-type {\n",
       "        vertical-align: middle;\n",
       "    }\n",
       "\n",
       "    .dataframe tbody tr th {\n",
       "        vertical-align: top;\n",
       "    }\n",
       "\n",
       "    .dataframe thead th {\n",
       "        text-align: right;\n",
       "    }\n",
       "</style>\n",
       "<table border=\"1\" class=\"dataframe\">\n",
       "  <thead>\n",
       "    <tr style=\"text-align: right;\">\n",
       "      <th></th>\n",
       "      <th>feature_key</th>\n",
       "      <th>feature_group</th>\n",
       "      <th>feature_value</th>\n",
       "      <th>frequency_new</th>\n",
       "      <th>frequency_pc_new</th>\n",
       "      <th>frequency_old</th>\n",
       "      <th>frequency_pc_old</th>\n",
       "      <th>freq_diff</th>\n",
       "    </tr>\n",
       "  </thead>\n",
       "  <tbody>\n",
       "    <tr>\n",
       "      <th>35</th>\n",
       "      <td>healthcare</td>\n",
       "      <td>healthcare - general</td>\n",
       "      <td>clinic</td>\n",
       "      <td>0.0</td>\n",
       "      <td>0.0</td>\n",
       "      <td>1.0</td>\n",
       "      <td>0.374532</td>\n",
       "      <td>-1.0</td>\n",
       "    </tr>\n",
       "    <tr>\n",
       "      <th>42</th>\n",
       "      <td>leisure</td>\n",
       "      <td>leisure - general</td>\n",
       "      <td>dance</td>\n",
       "      <td>0.0</td>\n",
       "      <td>0.0</td>\n",
       "      <td>1.0</td>\n",
       "      <td>0.374532</td>\n",
       "      <td>-1.0</td>\n",
       "    </tr>\n",
       "    <tr>\n",
       "      <th>65</th>\n",
       "      <td>shop</td>\n",
       "      <td>shop - clothes</td>\n",
       "      <td>tailor</td>\n",
       "      <td>0.0</td>\n",
       "      <td>0.0</td>\n",
       "      <td>1.0</td>\n",
       "      <td>0.374532</td>\n",
       "      <td>-1.0</td>\n",
       "    </tr>\n",
       "    <tr>\n",
       "      <th>70</th>\n",
       "      <td>shop</td>\n",
       "      <td>shop - food</td>\n",
       "      <td>deli</td>\n",
       "      <td>0.0</td>\n",
       "      <td>0.0</td>\n",
       "      <td>1.0</td>\n",
       "      <td>0.374532</td>\n",
       "      <td>-1.0</td>\n",
       "    </tr>\n",
       "    <tr>\n",
       "      <th>76</th>\n",
       "      <td>shop</td>\n",
       "      <td>shop - food</td>\n",
       "      <td>seafood</td>\n",
       "      <td>0.0</td>\n",
       "      <td>0.0</td>\n",
       "      <td>1.0</td>\n",
       "      <td>0.374532</td>\n",
       "      <td>-1.0</td>\n",
       "    </tr>\n",
       "    <tr>\n",
       "      <th>84</th>\n",
       "      <td>shop</td>\n",
       "      <td>shop - for the body</td>\n",
       "      <td>perfumery</td>\n",
       "      <td>0.0</td>\n",
       "      <td>0.0</td>\n",
       "      <td>1.0</td>\n",
       "      <td>0.374532</td>\n",
       "      <td>-1.0</td>\n",
       "    </tr>\n",
       "    <tr>\n",
       "      <th>92</th>\n",
       "      <td>shop</td>\n",
       "      <td>shop - general</td>\n",
       "      <td>car</td>\n",
       "      <td>0.0</td>\n",
       "      <td>0.0</td>\n",
       "      <td>1.0</td>\n",
       "      <td>0.374532</td>\n",
       "      <td>-1.0</td>\n",
       "    </tr>\n",
       "    <tr>\n",
       "      <th>99</th>\n",
       "      <td>shop</td>\n",
       "      <td>shop - general</td>\n",
       "      <td>curtain</td>\n",
       "      <td>0.0</td>\n",
       "      <td>0.0</td>\n",
       "      <td>1.0</td>\n",
       "      <td>0.374532</td>\n",
       "      <td>-1.0</td>\n",
       "    </tr>\n",
       "    <tr>\n",
       "      <th>102</th>\n",
       "      <td>shop</td>\n",
       "      <td>shop - general</td>\n",
       "      <td>electronics</td>\n",
       "      <td>0.0</td>\n",
       "      <td>0.0</td>\n",
       "      <td>1.0</td>\n",
       "      <td>0.374532</td>\n",
       "      <td>-1.0</td>\n",
       "    </tr>\n",
       "  </tbody>\n",
       "</table>\n",
       "</div>"
      ],
      "text/plain": [
       "    feature_key         feature_group feature_value  frequency_new  \\\n",
       "35   healthcare  healthcare - general        clinic            0.0   \n",
       "42      leisure     leisure - general         dance            0.0   \n",
       "65         shop        shop - clothes        tailor            0.0   \n",
       "70         shop           shop - food          deli            0.0   \n",
       "76         shop           shop - food       seafood            0.0   \n",
       "84         shop   shop - for the body     perfumery            0.0   \n",
       "92         shop        shop - general           car            0.0   \n",
       "99         shop        shop - general       curtain            0.0   \n",
       "102        shop        shop - general   electronics            0.0   \n",
       "\n",
       "     frequency_pc_new  frequency_old  frequency_pc_old  freq_diff  \n",
       "35                0.0            1.0          0.374532       -1.0  \n",
       "42                0.0            1.0          0.374532       -1.0  \n",
       "65                0.0            1.0          0.374532       -1.0  \n",
       "70                0.0            1.0          0.374532       -1.0  \n",
       "76                0.0            1.0          0.374532       -1.0  \n",
       "84                0.0            1.0          0.374532       -1.0  \n",
       "92                0.0            1.0          0.374532       -1.0  \n",
       "99                0.0            1.0          0.374532       -1.0  \n",
       "102               0.0            1.0          0.374532       -1.0  "
      ]
     },
     "execution_count": 9,
     "metadata": {},
     "output_type": "execute_result"
    }
   ],
   "source": [
    "df_tags[df_tags['frequency_new'] == 0]"
   ]
  },
  {
   "cell_type": "markdown",
   "metadata": {},
   "source": [
    "This looks OK: all of the \"lost\" tags occurred only once in the original data. Most of them have disappeared because the relevant POI no longer exists - I recognise many of them from memory. A few have been replaced by more precise tags.\n",
    "\n",
    "Now, the same check for the tags that have newly appeared:"
   ]
  },
  {
   "cell_type": "code",
   "execution_count": 10,
   "metadata": {},
   "outputs": [
    {
     "data": {
      "text/html": [
       "<div>\n",
       "<style scoped>\n",
       "    .dataframe tbody tr th:only-of-type {\n",
       "        vertical-align: middle;\n",
       "    }\n",
       "\n",
       "    .dataframe tbody tr th {\n",
       "        vertical-align: top;\n",
       "    }\n",
       "\n",
       "    .dataframe thead th {\n",
       "        text-align: right;\n",
       "    }\n",
       "</style>\n",
       "<table border=\"1\" class=\"dataframe\">\n",
       "  <thead>\n",
       "    <tr style=\"text-align: right;\">\n",
       "      <th></th>\n",
       "      <th>feature_key</th>\n",
       "      <th>feature_group</th>\n",
       "      <th>feature_value</th>\n",
       "      <th>frequency_new</th>\n",
       "      <th>frequency_pc_new</th>\n",
       "      <th>frequency_old</th>\n",
       "      <th>frequency_pc_old</th>\n",
       "      <th>freq_diff</th>\n",
       "    </tr>\n",
       "  </thead>\n",
       "  <tbody>\n",
       "    <tr>\n",
       "      <th>10</th>\n",
       "      <td>amenity</td>\n",
       "      <td>amenity - general</td>\n",
       "      <td>dancing_school</td>\n",
       "      <td>1.0</td>\n",
       "      <td>0.255102</td>\n",
       "      <td>0.0</td>\n",
       "      <td>0.0</td>\n",
       "      <td>1.0</td>\n",
       "    </tr>\n",
       "    <tr>\n",
       "      <th>12</th>\n",
       "      <td>amenity</td>\n",
       "      <td>amenity - general</td>\n",
       "      <td>events_venue</td>\n",
       "      <td>2.0</td>\n",
       "      <td>0.510204</td>\n",
       "      <td>0.0</td>\n",
       "      <td>0.0</td>\n",
       "      <td>2.0</td>\n",
       "    </tr>\n",
       "    <tr>\n",
       "      <th>16</th>\n",
       "      <td>amenity</td>\n",
       "      <td>amenity - general</td>\n",
       "      <td>music_school</td>\n",
       "      <td>1.0</td>\n",
       "      <td>0.255102</td>\n",
       "      <td>0.0</td>\n",
       "      <td>0.0</td>\n",
       "      <td>1.0</td>\n",
       "    </tr>\n",
       "    <tr>\n",
       "      <th>19</th>\n",
       "      <td>amenity</td>\n",
       "      <td>amenity - general</td>\n",
       "      <td>prep_school</td>\n",
       "      <td>3.0</td>\n",
       "      <td>0.765306</td>\n",
       "      <td>0.0</td>\n",
       "      <td>0.0</td>\n",
       "      <td>3.0</td>\n",
       "    </tr>\n",
       "    <tr>\n",
       "      <th>21</th>\n",
       "      <td>amenity</td>\n",
       "      <td>amenity - general</td>\n",
       "      <td>social_facility</td>\n",
       "      <td>3.0</td>\n",
       "      <td>0.765306</td>\n",
       "      <td>0.0</td>\n",
       "      <td>0.0</td>\n",
       "      <td>3.0</td>\n",
       "    </tr>\n",
       "    <tr>\n",
       "      <th>25</th>\n",
       "      <td>amenity</td>\n",
       "      <td>amenity - general</td>\n",
       "      <td>trade_school</td>\n",
       "      <td>1.0</td>\n",
       "      <td>0.255102</td>\n",
       "      <td>0.0</td>\n",
       "      <td>0.0</td>\n",
       "      <td>1.0</td>\n",
       "    </tr>\n",
       "    <tr>\n",
       "      <th>27</th>\n",
       "      <td>craft</td>\n",
       "      <td>craft - general</td>\n",
       "      <td>ceramic_painting</td>\n",
       "      <td>1.0</td>\n",
       "      <td>0.255102</td>\n",
       "      <td>0.0</td>\n",
       "      <td>0.0</td>\n",
       "      <td>1.0</td>\n",
       "    </tr>\n",
       "    <tr>\n",
       "      <th>30</th>\n",
       "      <td>craft</td>\n",
       "      <td>craft - general</td>\n",
       "      <td>electrician</td>\n",
       "      <td>1.0</td>\n",
       "      <td>0.255102</td>\n",
       "      <td>0.0</td>\n",
       "      <td>0.0</td>\n",
       "      <td>1.0</td>\n",
       "    </tr>\n",
       "    <tr>\n",
       "      <th>32</th>\n",
       "      <td>craft</td>\n",
       "      <td>craft - general</td>\n",
       "      <td>glaziery</td>\n",
       "      <td>1.0</td>\n",
       "      <td>0.255102</td>\n",
       "      <td>0.0</td>\n",
       "      <td>0.0</td>\n",
       "      <td>1.0</td>\n",
       "    </tr>\n",
       "    <tr>\n",
       "      <th>33</th>\n",
       "      <td>craft</td>\n",
       "      <td>craft - general</td>\n",
       "      <td>photographer</td>\n",
       "      <td>4.0</td>\n",
       "      <td>1.020408</td>\n",
       "      <td>0.0</td>\n",
       "      <td>0.0</td>\n",
       "      <td>4.0</td>\n",
       "    </tr>\n",
       "    <tr>\n",
       "      <th>34</th>\n",
       "      <td>healthcare</td>\n",
       "      <td>healthcare - general</td>\n",
       "      <td>centre</td>\n",
       "      <td>1.0</td>\n",
       "      <td>0.255102</td>\n",
       "      <td>0.0</td>\n",
       "      <td>0.0</td>\n",
       "      <td>1.0</td>\n",
       "    </tr>\n",
       "    <tr>\n",
       "      <th>36</th>\n",
       "      <td>healthcare</td>\n",
       "      <td>healthcare - general</td>\n",
       "      <td>counselling</td>\n",
       "      <td>1.0</td>\n",
       "      <td>0.255102</td>\n",
       "      <td>0.0</td>\n",
       "      <td>0.0</td>\n",
       "      <td>1.0</td>\n",
       "    </tr>\n",
       "    <tr>\n",
       "      <th>43</th>\n",
       "      <td>leisure</td>\n",
       "      <td>leisure - general</td>\n",
       "      <td>escape_game</td>\n",
       "      <td>1.0</td>\n",
       "      <td>0.255102</td>\n",
       "      <td>0.0</td>\n",
       "      <td>0.0</td>\n",
       "      <td>1.0</td>\n",
       "    </tr>\n",
       "    <tr>\n",
       "      <th>48</th>\n",
       "      <td>office</td>\n",
       "      <td>office - general</td>\n",
       "      <td>accountant</td>\n",
       "      <td>1.0</td>\n",
       "      <td>0.255102</td>\n",
       "      <td>0.0</td>\n",
       "      <td>0.0</td>\n",
       "      <td>1.0</td>\n",
       "    </tr>\n",
       "    <tr>\n",
       "      <th>49</th>\n",
       "      <td>office</td>\n",
       "      <td>office - general</td>\n",
       "      <td>architect</td>\n",
       "      <td>1.0</td>\n",
       "      <td>0.255102</td>\n",
       "      <td>0.0</td>\n",
       "      <td>0.0</td>\n",
       "      <td>1.0</td>\n",
       "    </tr>\n",
       "    <tr>\n",
       "      <th>52</th>\n",
       "      <td>office</td>\n",
       "      <td>office - general</td>\n",
       "      <td>coworking</td>\n",
       "      <td>1.0</td>\n",
       "      <td>0.255102</td>\n",
       "      <td>0.0</td>\n",
       "      <td>0.0</td>\n",
       "      <td>1.0</td>\n",
       "    </tr>\n",
       "    <tr>\n",
       "      <th>55</th>\n",
       "      <td>office</td>\n",
       "      <td>office - general</td>\n",
       "      <td>employment_agency</td>\n",
       "      <td>1.0</td>\n",
       "      <td>0.255102</td>\n",
       "      <td>0.0</td>\n",
       "      <td>0.0</td>\n",
       "      <td>1.0</td>\n",
       "    </tr>\n",
       "    <tr>\n",
       "      <th>58</th>\n",
       "      <td>office</td>\n",
       "      <td>office - general</td>\n",
       "      <td>graphic_design</td>\n",
       "      <td>2.0</td>\n",
       "      <td>0.510204</td>\n",
       "      <td>0.0</td>\n",
       "      <td>0.0</td>\n",
       "      <td>2.0</td>\n",
       "    </tr>\n",
       "    <tr>\n",
       "      <th>60</th>\n",
       "      <td>office</td>\n",
       "      <td>office - general</td>\n",
       "      <td>lawyer</td>\n",
       "      <td>1.0</td>\n",
       "      <td>0.255102</td>\n",
       "      <td>0.0</td>\n",
       "      <td>0.0</td>\n",
       "      <td>1.0</td>\n",
       "    </tr>\n",
       "    <tr>\n",
       "      <th>71</th>\n",
       "      <td>shop</td>\n",
       "      <td>shop - food</td>\n",
       "      <td>frozen_food</td>\n",
       "      <td>2.0</td>\n",
       "      <td>0.510204</td>\n",
       "      <td>0.0</td>\n",
       "      <td>0.0</td>\n",
       "      <td>2.0</td>\n",
       "    </tr>\n",
       "    <tr>\n",
       "      <th>80</th>\n",
       "      <td>shop</td>\n",
       "      <td>shop - for the body</td>\n",
       "      <td>e-cigarette</td>\n",
       "      <td>1.0</td>\n",
       "      <td>0.255102</td>\n",
       "      <td>0.0</td>\n",
       "      <td>0.0</td>\n",
       "      <td>1.0</td>\n",
       "    </tr>\n",
       "    <tr>\n",
       "      <th>85</th>\n",
       "      <td>shop</td>\n",
       "      <td>shop - for the body</td>\n",
       "      <td>tattoo</td>\n",
       "      <td>2.0</td>\n",
       "      <td>0.510204</td>\n",
       "      <td>0.0</td>\n",
       "      <td>0.0</td>\n",
       "      <td>2.0</td>\n",
       "    </tr>\n",
       "    <tr>\n",
       "      <th>88</th>\n",
       "      <td>shop</td>\n",
       "      <td>shop - general</td>\n",
       "      <td>art</td>\n",
       "      <td>1.0</td>\n",
       "      <td>0.255102</td>\n",
       "      <td>0.0</td>\n",
       "      <td>0.0</td>\n",
       "      <td>1.0</td>\n",
       "    </tr>\n",
       "    <tr>\n",
       "      <th>95</th>\n",
       "      <td>shop</td>\n",
       "      <td>shop - general</td>\n",
       "      <td>collector</td>\n",
       "      <td>1.0</td>\n",
       "      <td>0.255102</td>\n",
       "      <td>0.0</td>\n",
       "      <td>0.0</td>\n",
       "      <td>1.0</td>\n",
       "    </tr>\n",
       "    <tr>\n",
       "      <th>100</th>\n",
       "      <td>shop</td>\n",
       "      <td>shop - general</td>\n",
       "      <td>doityourself</td>\n",
       "      <td>1.0</td>\n",
       "      <td>0.255102</td>\n",
       "      <td>0.0</td>\n",
       "      <td>0.0</td>\n",
       "      <td>1.0</td>\n",
       "    </tr>\n",
       "    <tr>\n",
       "      <th>103</th>\n",
       "      <td>shop</td>\n",
       "      <td>shop - general</td>\n",
       "      <td>esoteric</td>\n",
       "      <td>1.0</td>\n",
       "      <td>0.255102</td>\n",
       "      <td>0.0</td>\n",
       "      <td>0.0</td>\n",
       "      <td>1.0</td>\n",
       "    </tr>\n",
       "    <tr>\n",
       "      <th>104</th>\n",
       "      <td>shop</td>\n",
       "      <td>shop - general</td>\n",
       "      <td>florist</td>\n",
       "      <td>2.0</td>\n",
       "      <td>0.510204</td>\n",
       "      <td>0.0</td>\n",
       "      <td>0.0</td>\n",
       "      <td>2.0</td>\n",
       "    </tr>\n",
       "    <tr>\n",
       "      <th>108</th>\n",
       "      <td>shop</td>\n",
       "      <td>shop - general</td>\n",
       "      <td>interior_decoration</td>\n",
       "      <td>1.0</td>\n",
       "      <td>0.255102</td>\n",
       "      <td>0.0</td>\n",
       "      <td>0.0</td>\n",
       "      <td>1.0</td>\n",
       "    </tr>\n",
       "    <tr>\n",
       "      <th>109</th>\n",
       "      <td>shop</td>\n",
       "      <td>shop - general</td>\n",
       "      <td>kitchen</td>\n",
       "      <td>1.0</td>\n",
       "      <td>0.255102</td>\n",
       "      <td>0.0</td>\n",
       "      <td>0.0</td>\n",
       "      <td>1.0</td>\n",
       "    </tr>\n",
       "    <tr>\n",
       "      <th>114</th>\n",
       "      <td>shop</td>\n",
       "      <td>shop - general</td>\n",
       "      <td>party</td>\n",
       "      <td>1.0</td>\n",
       "      <td>0.255102</td>\n",
       "      <td>0.0</td>\n",
       "      <td>0.0</td>\n",
       "      <td>1.0</td>\n",
       "    </tr>\n",
       "    <tr>\n",
       "      <th>115</th>\n",
       "      <td>shop</td>\n",
       "      <td>shop - general</td>\n",
       "      <td>pet</td>\n",
       "      <td>1.0</td>\n",
       "      <td>0.255102</td>\n",
       "      <td>0.0</td>\n",
       "      <td>0.0</td>\n",
       "      <td>1.0</td>\n",
       "    </tr>\n",
       "    <tr>\n",
       "      <th>118</th>\n",
       "      <td>shop</td>\n",
       "      <td>shop - general</td>\n",
       "      <td>religion</td>\n",
       "      <td>1.0</td>\n",
       "      <td>0.255102</td>\n",
       "      <td>0.0</td>\n",
       "      <td>0.0</td>\n",
       "      <td>1.0</td>\n",
       "    </tr>\n",
       "    <tr>\n",
       "      <th>119</th>\n",
       "      <td>shop</td>\n",
       "      <td>shop - general</td>\n",
       "      <td>repair</td>\n",
       "      <td>1.0</td>\n",
       "      <td>0.255102</td>\n",
       "      <td>0.0</td>\n",
       "      <td>0.0</td>\n",
       "      <td>1.0</td>\n",
       "    </tr>\n",
       "    <tr>\n",
       "      <th>122</th>\n",
       "      <td>shop</td>\n",
       "      <td>shop - general</td>\n",
       "      <td>storage_rental</td>\n",
       "      <td>2.0</td>\n",
       "      <td>0.510204</td>\n",
       "      <td>0.0</td>\n",
       "      <td>0.0</td>\n",
       "      <td>2.0</td>\n",
       "    </tr>\n",
       "  </tbody>\n",
       "</table>\n",
       "</div>"
      ],
      "text/plain": [
       "    feature_key         feature_group        feature_value  frequency_new  \\\n",
       "10      amenity     amenity - general       dancing_school            1.0   \n",
       "12      amenity     amenity - general         events_venue            2.0   \n",
       "16      amenity     amenity - general         music_school            1.0   \n",
       "19      amenity     amenity - general          prep_school            3.0   \n",
       "21      amenity     amenity - general      social_facility            3.0   \n",
       "25      amenity     amenity - general         trade_school            1.0   \n",
       "27        craft       craft - general     ceramic_painting            1.0   \n",
       "30        craft       craft - general          electrician            1.0   \n",
       "32        craft       craft - general             glaziery            1.0   \n",
       "33        craft       craft - general         photographer            4.0   \n",
       "34   healthcare  healthcare - general               centre            1.0   \n",
       "36   healthcare  healthcare - general          counselling            1.0   \n",
       "43      leisure     leisure - general          escape_game            1.0   \n",
       "48       office      office - general           accountant            1.0   \n",
       "49       office      office - general            architect            1.0   \n",
       "52       office      office - general            coworking            1.0   \n",
       "55       office      office - general    employment_agency            1.0   \n",
       "58       office      office - general       graphic_design            2.0   \n",
       "60       office      office - general               lawyer            1.0   \n",
       "71         shop           shop - food          frozen_food            2.0   \n",
       "80         shop   shop - for the body          e-cigarette            1.0   \n",
       "85         shop   shop - for the body               tattoo            2.0   \n",
       "88         shop        shop - general                  art            1.0   \n",
       "95         shop        shop - general            collector            1.0   \n",
       "100        shop        shop - general         doityourself            1.0   \n",
       "103        shop        shop - general             esoteric            1.0   \n",
       "104        shop        shop - general              florist            2.0   \n",
       "108        shop        shop - general  interior_decoration            1.0   \n",
       "109        shop        shop - general              kitchen            1.0   \n",
       "114        shop        shop - general                party            1.0   \n",
       "115        shop        shop - general                  pet            1.0   \n",
       "118        shop        shop - general             religion            1.0   \n",
       "119        shop        shop - general               repair            1.0   \n",
       "122        shop        shop - general       storage_rental            2.0   \n",
       "\n",
       "     frequency_pc_new  frequency_old  frequency_pc_old  freq_diff  \n",
       "10           0.255102            0.0               0.0        1.0  \n",
       "12           0.510204            0.0               0.0        2.0  \n",
       "16           0.255102            0.0               0.0        1.0  \n",
       "19           0.765306            0.0               0.0        3.0  \n",
       "21           0.765306            0.0               0.0        3.0  \n",
       "25           0.255102            0.0               0.0        1.0  \n",
       "27           0.255102            0.0               0.0        1.0  \n",
       "30           0.255102            0.0               0.0        1.0  \n",
       "32           0.255102            0.0               0.0        1.0  \n",
       "33           1.020408            0.0               0.0        4.0  \n",
       "34           0.255102            0.0               0.0        1.0  \n",
       "36           0.255102            0.0               0.0        1.0  \n",
       "43           0.255102            0.0               0.0        1.0  \n",
       "48           0.255102            0.0               0.0        1.0  \n",
       "49           0.255102            0.0               0.0        1.0  \n",
       "52           0.255102            0.0               0.0        1.0  \n",
       "55           0.255102            0.0               0.0        1.0  \n",
       "58           0.510204            0.0               0.0        2.0  \n",
       "60           0.255102            0.0               0.0        1.0  \n",
       "71           0.510204            0.0               0.0        2.0  \n",
       "80           0.255102            0.0               0.0        1.0  \n",
       "85           0.510204            0.0               0.0        2.0  \n",
       "88           0.255102            0.0               0.0        1.0  \n",
       "95           0.255102            0.0               0.0        1.0  \n",
       "100          0.255102            0.0               0.0        1.0  \n",
       "103          0.255102            0.0               0.0        1.0  \n",
       "104          0.510204            0.0               0.0        2.0  \n",
       "108          0.255102            0.0               0.0        1.0  \n",
       "109          0.255102            0.0               0.0        1.0  \n",
       "114          0.255102            0.0               0.0        1.0  \n",
       "115          0.255102            0.0               0.0        1.0  \n",
       "118          0.255102            0.0               0.0        1.0  \n",
       "119          0.255102            0.0               0.0        1.0  \n",
       "122          0.510204            0.0               0.0        2.0  "
      ]
     },
     "execution_count": 10,
     "metadata": {},
     "output_type": "execute_result"
    }
   ],
   "source": [
    "df_tags[df_tags['frequency_old'] == 0]"
   ]
  },
  {
   "cell_type": "markdown",
   "metadata": {},
   "source": [
    "Again, everything looks fine here. I remember creating most of those tags.\n",
    "\n",
    "Let's summarise the change in tag frequency by group:"
   ]
  },
  {
   "cell_type": "code",
   "execution_count": 11,
   "metadata": {},
   "outputs": [
    {
     "data": {
      "text/html": [
       "<div>\n",
       "<style scoped>\n",
       "    .dataframe tbody tr th:only-of-type {\n",
       "        vertical-align: middle;\n",
       "    }\n",
       "\n",
       "    .dataframe tbody tr th {\n",
       "        vertical-align: top;\n",
       "    }\n",
       "\n",
       "    .dataframe thead th {\n",
       "        text-align: right;\n",
       "    }\n",
       "</style>\n",
       "<table border=\"1\" class=\"dataframe\">\n",
       "  <thead>\n",
       "    <tr style=\"text-align: right;\">\n",
       "      <th></th>\n",
       "      <th>frequency_new</th>\n",
       "      <th>frequency_old</th>\n",
       "      <th>freq_diff</th>\n",
       "      <th>perc_diff</th>\n",
       "    </tr>\n",
       "    <tr>\n",
       "      <th>feature_group</th>\n",
       "      <th></th>\n",
       "      <th></th>\n",
       "      <th></th>\n",
       "      <th></th>\n",
       "    </tr>\n",
       "  </thead>\n",
       "  <tbody>\n",
       "    <tr>\n",
       "      <th>amenity - food+drinks</th>\n",
       "      <td>56.0</td>\n",
       "      <td>49.0</td>\n",
       "      <td>7.0</td>\n",
       "      <td>14.285714</td>\n",
       "    </tr>\n",
       "    <tr>\n",
       "      <th>amenity - general</th>\n",
       "      <td>48.0</td>\n",
       "      <td>33.0</td>\n",
       "      <td>15.0</td>\n",
       "      <td>45.454545</td>\n",
       "    </tr>\n",
       "    <tr>\n",
       "      <th>craft - general</th>\n",
       "      <td>14.0</td>\n",
       "      <td>3.0</td>\n",
       "      <td>11.0</td>\n",
       "      <td>366.666667</td>\n",
       "    </tr>\n",
       "    <tr>\n",
       "      <th>healthcare - general</th>\n",
       "      <td>26.0</td>\n",
       "      <td>17.0</td>\n",
       "      <td>9.0</td>\n",
       "      <td>52.941176</td>\n",
       "    </tr>\n",
       "    <tr>\n",
       "      <th>leisure - general</th>\n",
       "      <td>16.0</td>\n",
       "      <td>13.0</td>\n",
       "      <td>3.0</td>\n",
       "      <td>23.076923</td>\n",
       "    </tr>\n",
       "    <tr>\n",
       "      <th>office - general</th>\n",
       "      <td>42.0</td>\n",
       "      <td>17.0</td>\n",
       "      <td>25.0</td>\n",
       "      <td>147.058824</td>\n",
       "    </tr>\n",
       "    <tr>\n",
       "      <th>shop - clothes</th>\n",
       "      <td>15.0</td>\n",
       "      <td>17.0</td>\n",
       "      <td>-2.0</td>\n",
       "      <td>-11.764706</td>\n",
       "    </tr>\n",
       "    <tr>\n",
       "      <th>shop - food</th>\n",
       "      <td>52.0</td>\n",
       "      <td>45.0</td>\n",
       "      <td>7.0</td>\n",
       "      <td>15.555556</td>\n",
       "    </tr>\n",
       "    <tr>\n",
       "      <th>shop - for the body</th>\n",
       "      <td>51.0</td>\n",
       "      <td>24.0</td>\n",
       "      <td>27.0</td>\n",
       "      <td>112.500000</td>\n",
       "    </tr>\n",
       "    <tr>\n",
       "      <th>shop - general</th>\n",
       "      <td>61.0</td>\n",
       "      <td>42.0</td>\n",
       "      <td>19.0</td>\n",
       "      <td>45.238095</td>\n",
       "    </tr>\n",
       "    <tr>\n",
       "      <th>tourism - general</th>\n",
       "      <td>11.0</td>\n",
       "      <td>7.0</td>\n",
       "      <td>4.0</td>\n",
       "      <td>57.142857</td>\n",
       "    </tr>\n",
       "  </tbody>\n",
       "</table>\n",
       "</div>"
      ],
      "text/plain": [
       "                       frequency_new  frequency_old  freq_diff   perc_diff\n",
       "feature_group                                                             \n",
       "amenity - food+drinks           56.0           49.0        7.0   14.285714\n",
       "amenity - general               48.0           33.0       15.0   45.454545\n",
       "craft - general                 14.0            3.0       11.0  366.666667\n",
       "healthcare - general            26.0           17.0        9.0   52.941176\n",
       "leisure - general               16.0           13.0        3.0   23.076923\n",
       "office - general                42.0           17.0       25.0  147.058824\n",
       "shop - clothes                  15.0           17.0       -2.0  -11.764706\n",
       "shop - food                     52.0           45.0        7.0   15.555556\n",
       "shop - for the body             51.0           24.0       27.0  112.500000\n",
       "shop - general                  61.0           42.0       19.0   45.238095\n",
       "tourism - general               11.0            7.0        4.0   57.142857"
      ]
     },
     "execution_count": 11,
     "metadata": {},
     "output_type": "execute_result"
    }
   ],
   "source": [
    "df_groups = df_tags[['feature_group',\n",
    "                     'frequency_new', 'frequency_old', 'freq_diff']]\n",
    "df_groups = df_groups.groupby('feature_group').sum()\n",
    "df_groups['perc_diff'] = (df_groups['freq_diff'] /\n",
    "                          df_groups['frequency_old']) * 100\n",
    "df_groups"
   ]
  },
  {
   "cell_type": "markdown",
   "metadata": {},
   "source": [
    "Some groups were much better mapped than others a couple of months ago. Amenities serving food and shops selling mainly food both seem to have been fairly well covered, whereas a lot of office and craft POIs had flown under the radar. \n",
    "\n",
    "I suspect the large increase in \"for the body\" is due to hairdressers and beauty salons - let's check that:"
   ]
  },
  {
   "cell_type": "code",
   "execution_count": 12,
   "metadata": {},
   "outputs": [
    {
     "data": {
      "text/html": [
       "<div>\n",
       "<style scoped>\n",
       "    .dataframe tbody tr th:only-of-type {\n",
       "        vertical-align: middle;\n",
       "    }\n",
       "\n",
       "    .dataframe tbody tr th {\n",
       "        vertical-align: top;\n",
       "    }\n",
       "\n",
       "    .dataframe thead th {\n",
       "        text-align: right;\n",
       "    }\n",
       "</style>\n",
       "<table border=\"1\" class=\"dataframe\">\n",
       "  <thead>\n",
       "    <tr style=\"text-align: right;\">\n",
       "      <th></th>\n",
       "      <th>feature_key</th>\n",
       "      <th>feature_group</th>\n",
       "      <th>feature_value</th>\n",
       "      <th>frequency_new</th>\n",
       "      <th>frequency_pc_new</th>\n",
       "      <th>frequency_old</th>\n",
       "      <th>frequency_pc_old</th>\n",
       "      <th>freq_diff</th>\n",
       "    </tr>\n",
       "  </thead>\n",
       "  <tbody>\n",
       "    <tr>\n",
       "      <th>78</th>\n",
       "      <td>shop</td>\n",
       "      <td>shop - for the body</td>\n",
       "      <td>beauty</td>\n",
       "      <td>9.0</td>\n",
       "      <td>2.295918</td>\n",
       "      <td>6.0</td>\n",
       "      <td>2.247191</td>\n",
       "      <td>3.0</td>\n",
       "    </tr>\n",
       "    <tr>\n",
       "      <th>81</th>\n",
       "      <td>shop</td>\n",
       "      <td>shop - for the body</td>\n",
       "      <td>hairdresser</td>\n",
       "      <td>29.0</td>\n",
       "      <td>7.397959</td>\n",
       "      <td>9.0</td>\n",
       "      <td>3.370787</td>\n",
       "      <td>20.0</td>\n",
       "    </tr>\n",
       "  </tbody>\n",
       "</table>\n",
       "</div>"
      ],
      "text/plain": [
       "   feature_key        feature_group feature_value  frequency_new  \\\n",
       "78        shop  shop - for the body        beauty            9.0   \n",
       "81        shop  shop - for the body   hairdresser           29.0   \n",
       "\n",
       "    frequency_pc_new  frequency_old  frequency_pc_old  freq_diff  \n",
       "78          2.295918            6.0          2.247191        3.0  \n",
       "81          7.397959            9.0          3.370787       20.0  "
      ]
     },
     "execution_count": 12,
     "metadata": {},
     "output_type": "execute_result"
    }
   ],
   "source": [
    "df_tags[df_tags['feature_value'].isin(['hairdresser', 'beauty'])]"
   ]
  },
  {
   "cell_type": "markdown",
   "metadata": {},
   "source": [
    "As I suspected, a lot of hair/beauty salons have been added, increasing their combined count from 15 to 38."
   ]
  },
  {
   "cell_type": "code",
   "execution_count": 13,
   "metadata": {},
   "outputs": [
    {
     "data": {
      "text/html": [
       "<div>\n",
       "<style scoped>\n",
       "    .dataframe tbody tr th:only-of-type {\n",
       "        vertical-align: middle;\n",
       "    }\n",
       "\n",
       "    .dataframe tbody tr th {\n",
       "        vertical-align: top;\n",
       "    }\n",
       "\n",
       "    .dataframe thead th {\n",
       "        text-align: right;\n",
       "    }\n",
       "</style>\n",
       "<table border=\"1\" class=\"dataframe\">\n",
       "  <thead>\n",
       "    <tr style=\"text-align: right;\">\n",
       "      <th></th>\n",
       "      <th>feature_key</th>\n",
       "      <th>feature_group</th>\n",
       "      <th>feature_value</th>\n",
       "      <th>frequency_new</th>\n",
       "      <th>frequency_pc_new</th>\n",
       "      <th>frequency_old</th>\n",
       "      <th>frequency_pc_old</th>\n",
       "      <th>freq_diff</th>\n",
       "    </tr>\n",
       "  </thead>\n",
       "  <tbody>\n",
       "    <tr>\n",
       "      <th>48</th>\n",
       "      <td>office</td>\n",
       "      <td>office - general</td>\n",
       "      <td>accountant</td>\n",
       "      <td>1.0</td>\n",
       "      <td>0.255102</td>\n",
       "      <td>0.0</td>\n",
       "      <td>0.000000</td>\n",
       "      <td>1.0</td>\n",
       "    </tr>\n",
       "    <tr>\n",
       "      <th>49</th>\n",
       "      <td>office</td>\n",
       "      <td>office - general</td>\n",
       "      <td>architect</td>\n",
       "      <td>1.0</td>\n",
       "      <td>0.255102</td>\n",
       "      <td>0.0</td>\n",
       "      <td>0.000000</td>\n",
       "      <td>1.0</td>\n",
       "    </tr>\n",
       "    <tr>\n",
       "      <th>50</th>\n",
       "      <td>office</td>\n",
       "      <td>office - general</td>\n",
       "      <td>association</td>\n",
       "      <td>4.0</td>\n",
       "      <td>1.020408</td>\n",
       "      <td>1.0</td>\n",
       "      <td>0.374532</td>\n",
       "      <td>3.0</td>\n",
       "    </tr>\n",
       "    <tr>\n",
       "      <th>51</th>\n",
       "      <td>office</td>\n",
       "      <td>office - general</td>\n",
       "      <td>company</td>\n",
       "      <td>6.0</td>\n",
       "      <td>1.530612</td>\n",
       "      <td>2.0</td>\n",
       "      <td>0.749064</td>\n",
       "      <td>4.0</td>\n",
       "    </tr>\n",
       "    <tr>\n",
       "      <th>52</th>\n",
       "      <td>office</td>\n",
       "      <td>office - general</td>\n",
       "      <td>coworking</td>\n",
       "      <td>1.0</td>\n",
       "      <td>0.255102</td>\n",
       "      <td>0.0</td>\n",
       "      <td>0.000000</td>\n",
       "      <td>1.0</td>\n",
       "    </tr>\n",
       "    <tr>\n",
       "      <th>53</th>\n",
       "      <td>office</td>\n",
       "      <td>office - general</td>\n",
       "      <td>diplomatic</td>\n",
       "      <td>1.0</td>\n",
       "      <td>0.255102</td>\n",
       "      <td>1.0</td>\n",
       "      <td>0.374532</td>\n",
       "      <td>0.0</td>\n",
       "    </tr>\n",
       "    <tr>\n",
       "      <th>54</th>\n",
       "      <td>office</td>\n",
       "      <td>office - general</td>\n",
       "      <td>educational_institution</td>\n",
       "      <td>1.0</td>\n",
       "      <td>0.255102</td>\n",
       "      <td>1.0</td>\n",
       "      <td>0.374532</td>\n",
       "      <td>0.0</td>\n",
       "    </tr>\n",
       "    <tr>\n",
       "      <th>55</th>\n",
       "      <td>office</td>\n",
       "      <td>office - general</td>\n",
       "      <td>employment_agency</td>\n",
       "      <td>1.0</td>\n",
       "      <td>0.255102</td>\n",
       "      <td>0.0</td>\n",
       "      <td>0.000000</td>\n",
       "      <td>1.0</td>\n",
       "    </tr>\n",
       "    <tr>\n",
       "      <th>56</th>\n",
       "      <td>office</td>\n",
       "      <td>office - general</td>\n",
       "      <td>energy_supplier</td>\n",
       "      <td>1.0</td>\n",
       "      <td>0.255102</td>\n",
       "      <td>1.0</td>\n",
       "      <td>0.374532</td>\n",
       "      <td>0.0</td>\n",
       "    </tr>\n",
       "    <tr>\n",
       "      <th>57</th>\n",
       "      <td>office</td>\n",
       "      <td>office - general</td>\n",
       "      <td>estate_agent</td>\n",
       "      <td>9.0</td>\n",
       "      <td>2.295918</td>\n",
       "      <td>7.0</td>\n",
       "      <td>2.621723</td>\n",
       "      <td>2.0</td>\n",
       "    </tr>\n",
       "    <tr>\n",
       "      <th>58</th>\n",
       "      <td>office</td>\n",
       "      <td>office - general</td>\n",
       "      <td>graphic_design</td>\n",
       "      <td>2.0</td>\n",
       "      <td>0.510204</td>\n",
       "      <td>0.0</td>\n",
       "      <td>0.000000</td>\n",
       "      <td>2.0</td>\n",
       "    </tr>\n",
       "    <tr>\n",
       "      <th>59</th>\n",
       "      <td>office</td>\n",
       "      <td>office - general</td>\n",
       "      <td>insurance</td>\n",
       "      <td>5.0</td>\n",
       "      <td>1.275510</td>\n",
       "      <td>1.0</td>\n",
       "      <td>0.374532</td>\n",
       "      <td>4.0</td>\n",
       "    </tr>\n",
       "    <tr>\n",
       "      <th>60</th>\n",
       "      <td>office</td>\n",
       "      <td>office - general</td>\n",
       "      <td>lawyer</td>\n",
       "      <td>1.0</td>\n",
       "      <td>0.255102</td>\n",
       "      <td>0.0</td>\n",
       "      <td>0.000000</td>\n",
       "      <td>1.0</td>\n",
       "    </tr>\n",
       "    <tr>\n",
       "      <th>61</th>\n",
       "      <td>office</td>\n",
       "      <td>office - general</td>\n",
       "      <td>property_management</td>\n",
       "      <td>8.0</td>\n",
       "      <td>2.040816</td>\n",
       "      <td>3.0</td>\n",
       "      <td>1.123596</td>\n",
       "      <td>5.0</td>\n",
       "    </tr>\n",
       "  </tbody>\n",
       "</table>\n",
       "</div>"
      ],
      "text/plain": [
       "   feature_key     feature_group            feature_value  frequency_new  \\\n",
       "48      office  office - general               accountant            1.0   \n",
       "49      office  office - general                architect            1.0   \n",
       "50      office  office - general              association            4.0   \n",
       "51      office  office - general                  company            6.0   \n",
       "52      office  office - general                coworking            1.0   \n",
       "53      office  office - general               diplomatic            1.0   \n",
       "54      office  office - general  educational_institution            1.0   \n",
       "55      office  office - general        employment_agency            1.0   \n",
       "56      office  office - general          energy_supplier            1.0   \n",
       "57      office  office - general             estate_agent            9.0   \n",
       "58      office  office - general           graphic_design            2.0   \n",
       "59      office  office - general                insurance            5.0   \n",
       "60      office  office - general                   lawyer            1.0   \n",
       "61      office  office - general      property_management            8.0   \n",
       "\n",
       "    frequency_pc_new  frequency_old  frequency_pc_old  freq_diff  \n",
       "48          0.255102            0.0          0.000000        1.0  \n",
       "49          0.255102            0.0          0.000000        1.0  \n",
       "50          1.020408            1.0          0.374532        3.0  \n",
       "51          1.530612            2.0          0.749064        4.0  \n",
       "52          0.255102            0.0          0.000000        1.0  \n",
       "53          0.255102            1.0          0.374532        0.0  \n",
       "54          0.255102            1.0          0.374532        0.0  \n",
       "55          0.255102            0.0          0.000000        1.0  \n",
       "56          0.255102            1.0          0.374532        0.0  \n",
       "57          2.295918            7.0          2.621723        2.0  \n",
       "58          0.510204            0.0          0.000000        2.0  \n",
       "59          1.275510            1.0          0.374532        4.0  \n",
       "60          0.255102            0.0          0.000000        1.0  \n",
       "61          2.040816            3.0          1.123596        5.0  "
      ]
     },
     "execution_count": 13,
     "metadata": {},
     "output_type": "execute_result"
    }
   ],
   "source": [
    "df_tags[df_tags['feature_group'] == 'office - general']"
   ]
  },
  {
   "cell_type": "markdown",
   "metadata": {},
   "source": [
    "## Comparing individual POIs\n",
    "\n",
    "In Part 1 I made sure to give the DataFrame a meaningful index, representing a unique object in OSM data. Now I can use this to join the two DataFrames. Again I will use an outer join, so that the new DataFrame will have a row for every POI that exists in either dataset."
   ]
  },
  {
   "cell_type": "code",
   "execution_count": 14,
   "metadata": {},
   "outputs": [
    {
     "name": "stdout",
     "output_type": "stream",
     "text": [
      "\n",
      " Index(['feature_key_new', 'feature_group_new', 'feature_value_new', 'name_new',\n",
      "       'addr:housenumber_new', 'addr:postcode_new', 'addr:street_or_place_new',\n",
      "       'brand_new', 'brand:wikidata_new', 'check_date_new', 'lat_new',\n",
      "       'lon_new', 'osm_link_new', 'feature_key_old', 'feature_group_old',\n",
      "       'feature_value_old', 'name_old', 'addr:housenumber_old',\n",
      "       'addr:postcode_old', 'addr:street_or_place_old', 'brand_old',\n",
      "       'brand:wikidata_old', 'check_date_old', 'lat_old', 'lon_old',\n",
      "       'osm_link_old', '_merge'],\n",
      "      dtype='object')\n",
      "\n",
      " 408\n"
     ]
    }
   ],
   "source": [
    "df = pd.merge(df_new, df_old, how='outer', on='full_id',\n",
    "              suffixes=('_new', '_old'), indicator=True)\n",
    "print('\\n', df.columns)\n",
    "print('\\n', len(df))"
   ]
  },
  {
   "cell_type": "markdown",
   "metadata": {},
   "source": [
    "The combined DataFrame has double the number of columns: a \"_new\" and \"_old\" version of each original column. That feels like it might be overkill. But any OSM tag might have changed, even latitude and longitude (in fact I did improve the positioning of quite a few points while surveying). So I'm going to keep all the columns for the moment.\n",
    "\n",
    "Now I have 408 rows - let's see where they came from:"
   ]
  },
  {
   "cell_type": "code",
   "execution_count": 15,
   "metadata": {},
   "outputs": [
    {
     "data": {
      "text/plain": [
       "_merge\n",
       "both          251\n",
       "left_only     141\n",
       "right_only     16\n",
       "Name: count, dtype: int64"
      ]
     },
     "execution_count": 15,
     "metadata": {},
     "output_type": "execute_result"
    }
   ],
   "source": [
    "df.value_counts('_merge')"
   ]
  },
  {
   "cell_type": "markdown",
   "metadata": {},
   "source": [
    "So I lost 16 POIs and gained 141. But I'm also interested in POIs that changed significantly over the period. I want to look for changes in the type of POI, and also changes of name (likely to reflect a change of ownership or a rebranding). \n",
    "\n",
    "Define and apply a function to identify the different types of possible change:"
   ]
  },
  {
   "cell_type": "code",
   "execution_count": 16,
   "metadata": {},
   "outputs": [
    {
     "data": {
      "text/plain": [
       "comparison\n",
       "NO CHANGE          205\n",
       "ADDED              141\n",
       "POI TYPE CHANGE     28\n",
       "NAME CHANGE         18\n",
       "REMOVED             16\n",
       "Name: count, dtype: int64"
      ]
     },
     "execution_count": 16,
     "metadata": {},
     "output_type": "execute_result"
    }
   ],
   "source": [
    "def assign_status(row):\n",
    "    if row['_merge'] == 'left_only':\n",
    "        return 'ADDED'\n",
    "    elif row['_merge'] == 'right_only':\n",
    "        return 'REMOVED'\n",
    "    elif (row['feature_value_new'] != row['feature_value_old']\n",
    "          and (row['name_old'].lower() not in row['name_new'].lower())):\n",
    "        return 'POI TYPE CHANGE'\n",
    "        # change in feature type (but assume that if name has not changed or\n",
    "        # is contained within the new name, then it's probably a tagging\n",
    "        # refinement rather than a real change)\n",
    "    elif (row['name_old'] != ''\n",
    "          and (row['name_old'].lower() not in row['name_new'].lower())):\n",
    "        return 'NAME CHANGE'\n",
    "        # name has changed (excluding where not previously set, also try\n",
    "        # to exclude cases where name has just been expanded)\n",
    "    else:\n",
    "        return 'NO CHANGE'\n",
    "\n",
    "\n",
    "df.insert(0, 'comparison', '')\n",
    "df['comparison'] = df.apply(assign_status, axis=1)\n",
    "\n",
    "df.value_counts('comparison')"
   ]
  },
  {
   "cell_type": "markdown",
   "metadata": {},
   "source": [
    "Take a closer look at the name changes:"
   ]
  },
  {
   "cell_type": "code",
   "execution_count": 17,
   "metadata": {},
   "outputs": [
    {
     "data": {
      "text/html": [
       "<div>\n",
       "<style scoped>\n",
       "    .dataframe tbody tr th:only-of-type {\n",
       "        vertical-align: middle;\n",
       "    }\n",
       "\n",
       "    .dataframe tbody tr th {\n",
       "        vertical-align: top;\n",
       "    }\n",
       "\n",
       "    .dataframe thead th {\n",
       "        text-align: right;\n",
       "    }\n",
       "</style>\n",
       "<table border=\"1\" class=\"dataframe\">\n",
       "  <thead>\n",
       "    <tr style=\"text-align: right;\">\n",
       "      <th></th>\n",
       "      <th>name_new</th>\n",
       "      <th>name_old</th>\n",
       "    </tr>\n",
       "    <tr>\n",
       "      <th>full_id</th>\n",
       "      <th></th>\n",
       "      <th></th>\n",
       "    </tr>\n",
       "  </thead>\n",
       "  <tbody>\n",
       "    <tr>\n",
       "      <th>node/12077811304</th>\n",
       "      <td>Pizza e Amore</td>\n",
       "      <td>Pizza Amore</td>\n",
       "    </tr>\n",
       "    <tr>\n",
       "      <th>node/3473031749</th>\n",
       "      <td>La Esquinita del Chupa y Tira</td>\n",
       "      <td>Esquinta del Chupa y Tira</td>\n",
       "    </tr>\n",
       "    <tr>\n",
       "      <th>node/4855451338</th>\n",
       "      <td>Kantis</td>\n",
       "      <td>Silvia Bassino</td>\n",
       "    </tr>\n",
       "    <tr>\n",
       "      <th>node/4855493937</th>\n",
       "      <td>La Ventana</td>\n",
       "      <td>Panadería La Merced</td>\n",
       "    </tr>\n",
       "    <tr>\n",
       "      <th>node/4856185580</th>\n",
       "      <td>Rey Istanbul Kebab</td>\n",
       "      <td>Victoria Kebab</td>\n",
       "    </tr>\n",
       "    <tr>\n",
       "      <th>node/4856204293</th>\n",
       "      <td>Grano Puro</td>\n",
       "      <td>El Tapeo del Compás</td>\n",
       "    </tr>\n",
       "    <tr>\n",
       "      <th>node/4856204294</th>\n",
       "      <td>Bodeguilla El Hueco</td>\n",
       "      <td>Bar la Comba</td>\n",
       "    </tr>\n",
       "    <tr>\n",
       "      <th>node/4857027144</th>\n",
       "      <td>Pablo Compón</td>\n",
       "      <td>La Quinta Generación</td>\n",
       "    </tr>\n",
       "    <tr>\n",
       "      <th>node/4857027146</th>\n",
       "      <td>La Finca</td>\n",
       "      <td>Ocasión Casa</td>\n",
       "    </tr>\n",
       "    <tr>\n",
       "      <th>node/4861908435</th>\n",
       "      <td>La Casita de Maykel</td>\n",
       "      <td>Mesón Victoria</td>\n",
       "    </tr>\n",
       "    <tr>\n",
       "      <th>node/4861908437</th>\n",
       "      <td>Nicolino</td>\n",
       "      <td>Tramontana</td>\n",
       "    </tr>\n",
       "    <tr>\n",
       "      <th>node/4861908443</th>\n",
       "      <td>Carnícas Matahambre</td>\n",
       "      <td>Carnicería Miguel</td>\n",
       "    </tr>\n",
       "    <tr>\n",
       "      <th>node/4862183021</th>\n",
       "      <td>Waffa Moda</td>\n",
       "      <td>Arreglos Waffa</td>\n",
       "    </tr>\n",
       "    <tr>\n",
       "      <th>node/5274177525</th>\n",
       "      <td>Genoveses Chicano</td>\n",
       "      <td>HC Peluqería y Estética</td>\n",
       "    </tr>\n",
       "    <tr>\n",
       "      <th>node/5274177526</th>\n",
       "      <td>Grupo Modernia</td>\n",
       "      <td>Tecnocasa</td>\n",
       "    </tr>\n",
       "    <tr>\n",
       "      <th>node/8329995439</th>\n",
       "      <td>Consulado Honorario de Costa Rica</td>\n",
       "      <td>Consulado General de Costa Rica</td>\n",
       "    </tr>\n",
       "    <tr>\n",
       "      <th>node/9151074711</th>\n",
       "      <td>Apartamentos Fernando el Católico</td>\n",
       "      <td>Fernando el Catolico</td>\n",
       "    </tr>\n",
       "    <tr>\n",
       "      <th>way/493911188</th>\n",
       "      <td>Barbatuke Bed &amp; Bike</td>\n",
       "      <td>Casa Babylon Backpackers Hostel</td>\n",
       "    </tr>\n",
       "  </tbody>\n",
       "</table>\n",
       "</div>"
      ],
      "text/plain": [
       "                                           name_new                         name_old\n",
       "full_id                                                                             \n",
       "node/12077811304                      Pizza e Amore                      Pizza Amore\n",
       "node/3473031749       La Esquinita del Chupa y Tira        Esquinta del Chupa y Tira\n",
       "node/4855451338                              Kantis                   Silvia Bassino\n",
       "node/4855493937                          La Ventana              Panadería La Merced\n",
       "node/4856185580                  Rey Istanbul Kebab                   Victoria Kebab\n",
       "node/4856204293                          Grano Puro              El Tapeo del Compás\n",
       "node/4856204294                 Bodeguilla El Hueco                     Bar la Comba\n",
       "node/4857027144                        Pablo Compón             La Quinta Generación\n",
       "node/4857027146                            La Finca                     Ocasión Casa\n",
       "node/4861908435                 La Casita de Maykel                   Mesón Victoria\n",
       "node/4861908437                            Nicolino                       Tramontana\n",
       "node/4861908443                 Carnícas Matahambre                Carnicería Miguel\n",
       "node/4862183021                          Waffa Moda                   Arreglos Waffa\n",
       "node/5274177525                   Genoveses Chicano          HC Peluqería y Estética\n",
       "node/5274177526                      Grupo Modernia                        Tecnocasa\n",
       "node/8329995439   Consulado Honorario de Costa Rica  Consulado General de Costa Rica\n",
       "node/9151074711   Apartamentos Fernando el Católico             Fernando el Catolico\n",
       "way/493911188                  Barbatuke Bed & Bike  Casa Babylon Backpackers Hostel"
      ]
     },
     "execution_count": 17,
     "metadata": {},
     "output_type": "execute_result"
    }
   ],
   "source": [
    "pd.set_option('display.max_colwidth', 40)\n",
    "pd.set_option('display.width', 120)\n",
    "\n",
    "df_name = df[df['comparison'] == 'NAME CHANGE'][['name_new', 'name_old']]\n",
    "df_name"
   ]
  },
  {
   "cell_type": "markdown",
   "metadata": {},
   "source": [
    "Most of these are meaningful name changes, but some are clearly just spelling corrections that I'd prefer not to classify as a data change. Python's difflib.SequenceMatcher class may help:"
   ]
  },
  {
   "cell_type": "code",
   "execution_count": 18,
   "metadata": {},
   "outputs": [
    {
     "data": {
      "text/html": [
       "<div>\n",
       "<style scoped>\n",
       "    .dataframe tbody tr th:only-of-type {\n",
       "        vertical-align: middle;\n",
       "    }\n",
       "\n",
       "    .dataframe tbody tr th {\n",
       "        vertical-align: top;\n",
       "    }\n",
       "\n",
       "    .dataframe thead th {\n",
       "        text-align: right;\n",
       "    }\n",
       "</style>\n",
       "<table border=\"1\" class=\"dataframe\">\n",
       "  <thead>\n",
       "    <tr style=\"text-align: right;\">\n",
       "      <th></th>\n",
       "      <th>name_new</th>\n",
       "      <th>name_old</th>\n",
       "      <th>name_similarity</th>\n",
       "    </tr>\n",
       "    <tr>\n",
       "      <th>full_id</th>\n",
       "      <th></th>\n",
       "      <th></th>\n",
       "      <th></th>\n",
       "    </tr>\n",
       "  </thead>\n",
       "  <tbody>\n",
       "    <tr>\n",
       "      <th>node/3473031749</th>\n",
       "      <td>La Esquinita del Chupa y Tira</td>\n",
       "      <td>Esquinta del Chupa y Tira</td>\n",
       "      <td>0.925926</td>\n",
       "    </tr>\n",
       "    <tr>\n",
       "      <th>node/12077811304</th>\n",
       "      <td>Pizza e Amore</td>\n",
       "      <td>Pizza Amore</td>\n",
       "      <td>0.916667</td>\n",
       "    </tr>\n",
       "    <tr>\n",
       "      <th>node/8329995439</th>\n",
       "      <td>Consulado Honorario de Costa Rica</td>\n",
       "      <td>Consulado General de Costa Rica</td>\n",
       "      <td>0.843750</td>\n",
       "    </tr>\n",
       "    <tr>\n",
       "      <th>node/9151074711</th>\n",
       "      <td>Apartamentos Fernando el Católico</td>\n",
       "      <td>Fernando el Catolico</td>\n",
       "      <td>0.716981</td>\n",
       "    </tr>\n",
       "    <tr>\n",
       "      <th>node/4856185580</th>\n",
       "      <td>Rey Istanbul Kebab</td>\n",
       "      <td>Victoria Kebab</td>\n",
       "      <td>0.500000</td>\n",
       "    </tr>\n",
       "    <tr>\n",
       "      <th>node/4861908443</th>\n",
       "      <td>Carnícas Matahambre</td>\n",
       "      <td>Carnicería Miguel</td>\n",
       "      <td>0.500000</td>\n",
       "    </tr>\n",
       "    <tr>\n",
       "      <th>node/4862183021</th>\n",
       "      <td>Waffa Moda</td>\n",
       "      <td>Arreglos Waffa</td>\n",
       "      <td>0.416667</td>\n",
       "    </tr>\n",
       "    <tr>\n",
       "      <th>node/4856204294</th>\n",
       "      <td>Bodeguilla El Hueco</td>\n",
       "      <td>Bar la Comba</td>\n",
       "      <td>0.322581</td>\n",
       "    </tr>\n",
       "    <tr>\n",
       "      <th>way/493911188</th>\n",
       "      <td>Barbatuke Bed &amp; Bike</td>\n",
       "      <td>Casa Babylon Backpackers Hostel</td>\n",
       "      <td>0.313725</td>\n",
       "    </tr>\n",
       "    <tr>\n",
       "      <th>node/5274177525</th>\n",
       "      <td>Genoveses Chicano</td>\n",
       "      <td>HC Peluqería y Estética</td>\n",
       "      <td>0.300000</td>\n",
       "    </tr>\n",
       "    <tr>\n",
       "      <th>node/4855493937</th>\n",
       "      <td>La Ventana</td>\n",
       "      <td>Panadería La Merced</td>\n",
       "      <td>0.275862</td>\n",
       "    </tr>\n",
       "    <tr>\n",
       "      <th>node/4856204293</th>\n",
       "      <td>Grano Puro</td>\n",
       "      <td>El Tapeo del Compás</td>\n",
       "      <td>0.275862</td>\n",
       "    </tr>\n",
       "    <tr>\n",
       "      <th>node/4857027144</th>\n",
       "      <td>Pablo Compón</td>\n",
       "      <td>La Quinta Generación</td>\n",
       "      <td>0.250000</td>\n",
       "    </tr>\n",
       "    <tr>\n",
       "      <th>node/4861908437</th>\n",
       "      <td>Nicolino</td>\n",
       "      <td>Tramontana</td>\n",
       "      <td>0.222222</td>\n",
       "    </tr>\n",
       "    <tr>\n",
       "      <th>node/4855451338</th>\n",
       "      <td>Kantis</td>\n",
       "      <td>Silvia Bassino</td>\n",
       "      <td>0.200000</td>\n",
       "    </tr>\n",
       "    <tr>\n",
       "      <th>node/4857027146</th>\n",
       "      <td>La Finca</td>\n",
       "      <td>Ocasión Casa</td>\n",
       "      <td>0.200000</td>\n",
       "    </tr>\n",
       "    <tr>\n",
       "      <th>node/5274177526</th>\n",
       "      <td>Grupo Modernia</td>\n",
       "      <td>Tecnocasa</td>\n",
       "      <td>0.173913</td>\n",
       "    </tr>\n",
       "    <tr>\n",
       "      <th>node/4861908435</th>\n",
       "      <td>La Casita de Maykel</td>\n",
       "      <td>Mesón Victoria</td>\n",
       "      <td>0.060606</td>\n",
       "    </tr>\n",
       "  </tbody>\n",
       "</table>\n",
       "</div>"
      ],
      "text/plain": [
       "                                           name_new                         name_old  name_similarity\n",
       "full_id                                                                                              \n",
       "node/3473031749       La Esquinita del Chupa y Tira        Esquinta del Chupa y Tira         0.925926\n",
       "node/12077811304                      Pizza e Amore                      Pizza Amore         0.916667\n",
       "node/8329995439   Consulado Honorario de Costa Rica  Consulado General de Costa Rica         0.843750\n",
       "node/9151074711   Apartamentos Fernando el Católico             Fernando el Catolico         0.716981\n",
       "node/4856185580                  Rey Istanbul Kebab                   Victoria Kebab         0.500000\n",
       "node/4861908443                 Carnícas Matahambre                Carnicería Miguel         0.500000\n",
       "node/4862183021                          Waffa Moda                   Arreglos Waffa         0.416667\n",
       "node/4856204294                 Bodeguilla El Hueco                     Bar la Comba         0.322581\n",
       "way/493911188                  Barbatuke Bed & Bike  Casa Babylon Backpackers Hostel         0.313725\n",
       "node/5274177525                   Genoveses Chicano          HC Peluqería y Estética         0.300000\n",
       "node/4855493937                          La Ventana              Panadería La Merced         0.275862\n",
       "node/4856204293                          Grano Puro              El Tapeo del Compás         0.275862\n",
       "node/4857027144                        Pablo Compón             La Quinta Generación         0.250000\n",
       "node/4861908437                            Nicolino                       Tramontana         0.222222\n",
       "node/4855451338                              Kantis                   Silvia Bassino         0.200000\n",
       "node/4857027146                            La Finca                     Ocasión Casa         0.200000\n",
       "node/5274177526                      Grupo Modernia                        Tecnocasa         0.173913\n",
       "node/4861908435                 La Casita de Maykel                   Mesón Victoria         0.060606"
      ]
     },
     "execution_count": 18,
     "metadata": {},
     "output_type": "execute_result"
    }
   ],
   "source": [
    "from difflib import SequenceMatcher\n",
    "\n",
    "# Function to calculate similarity\n",
    "\n",
    "\n",
    "def calculate_similarity(row):\n",
    "    return SequenceMatcher(None, row['name_new'], row['name_old']).ratio()\n",
    "\n",
    "\n",
    "# Add similarity column to df\n",
    "df_name['name_similarity'] = df_name.apply(calculate_similarity, axis=1)\n",
    "df_name.sort_values('name_similarity', ascending=False)"
   ]
  },
  {
   "cell_type": "markdown",
   "metadata": {},
   "source": [
    "Admittedly this is a very small sample, but it looks like a ratio soemwhere above 0.5 and below 0.7 would help distinguish trivial from meangingful changes. The suggested threshold in the Python documentation is 0.6, so I'll add a check for that into the rewritten function:"
   ]
  },
  {
   "cell_type": "code",
   "execution_count": 19,
   "metadata": {},
   "outputs": [
    {
     "data": {
      "text/plain": [
       "comparison\n",
       "NO CHANGE          209\n",
       "ADDED              141\n",
       "POI TYPE CHANGE     28\n",
       "REMOVED             16\n",
       "NAME CHANGE         14\n",
       "Name: count, dtype: int64"
      ]
     },
     "execution_count": 19,
     "metadata": {},
     "output_type": "execute_result"
    }
   ],
   "source": [
    "def assign_status(row):\n",
    "    if row['_merge'] == 'left_only':\n",
    "        return 'ADDED'\n",
    "    elif row['_merge'] == 'right_only':\n",
    "        return 'REMOVED'\n",
    "    elif (row['feature_value_new'] != row['feature_value_old']\n",
    "          and (row['name_old'].lower() not in row['name_new'].lower())):\n",
    "        # change in feature type (but assume that if name has not changed or\n",
    "        # is contained within the new name, then it's probably a tagging\n",
    "        # refinement rather than a real change)\n",
    "        return 'POI TYPE CHANGE'\n",
    "    elif (row['name_old'] != ''\n",
    "          and (row['name_old'].lower() not in row['name_new'].lower())\n",
    "          and SequenceMatcher(None, row['name_new'], row['name_old']).ratio() < 0.6\n",
    "          ):\n",
    "        # name has changed (excluding where not previously set, also try\n",
    "        # to exclude cases where name has just been expanded)\n",
    "        return 'NAME CHANGE'\n",
    "    else:\n",
    "        return 'NO CHANGE'\n",
    "\n",
    "\n",
    "df['comparison'] = df.apply(assign_status, axis=1)\n",
    "\n",
    "df.value_counts('comparison')"
   ]
  },
  {
   "cell_type": "code",
   "execution_count": 20,
   "metadata": {},
   "outputs": [
    {
     "name": "stdout",
     "output_type": "stream",
     "text": [
      "                             name_new                         name_old\n",
      "full_id                                                               \n",
      "node/4855451338                Kantis                   Silvia Bassino\n",
      "node/4855493937            La Ventana              Panadería La Merced\n",
      "node/4856185580    Rey Istanbul Kebab                   Victoria Kebab\n",
      "node/4856204293            Grano Puro              El Tapeo del Compás\n",
      "node/4856204294   Bodeguilla El Hueco                     Bar la Comba\n",
      "node/4857027144          Pablo Compón             La Quinta Generación\n",
      "node/4857027146              La Finca                     Ocasión Casa\n",
      "node/4861908435   La Casita de Maykel                   Mesón Victoria\n",
      "node/4861908437              Nicolino                       Tramontana\n",
      "node/4861908443   Carnícas Matahambre                Carnicería Miguel\n",
      "node/4862183021            Waffa Moda                   Arreglos Waffa\n",
      "node/5274177525     Genoveses Chicano          HC Peluqería y Estética\n",
      "node/5274177526        Grupo Modernia                        Tecnocasa\n",
      "way/493911188    Barbatuke Bed & Bike  Casa Babylon Backpackers Hostel\n",
      "\n",
      "                feature_value_old               name_old\n",
      "full_id                                                 \n",
      "node/4258035389             hotel  Victoria Apartamentos\n",
      "node/4855451333       hairdresser           Nuria Moreno\n",
      "node/4855451339           clothes               The Park\n",
      "node/4856204312              cafe   Bar los del Colmenar\n",
      "node/4856220370        restaurant           Como en Casa\n",
      "node/4856220373         fast_food             Al Andalus\n",
      "node/4856539945            bakery                       \n",
      "node/4856539948           clothes        Concha González\n",
      "node/4857027147     travel_agency         Escapat Viajes\n",
      "node/4861830220              deli             Don Miguel\n",
      "node/4861908432              bank        Banco Santander\n",
      "node/4863095071         perfumery      Súper Perfumerías\n",
      "node/4863095075          hardware      Ferretería Valero\n",
      "node/4863095076         herbalist        La Buena Hierba\n",
      "node/5186363526        electrical         Moreno Robledo\n",
      "node/5274177523           clothes                 Tábata\n",
      "\n",
      "                feature_value_new feature_value_old                   name_new                   name_old\n",
      "full_id                                                                                                  \n",
      "node/4855317181               art           clothes              El Escaparate                Modas Valdi\n",
      "node/4855317182     travel_agency        restaurant                      Aries                     Marfil\n",
      "node/4855451325        restaurant              cafe             Fausto's Grill          Café bar Victoria\n",
      "node/4855451326             shoes             photo                  Caminamos  Fotografía Joaquín Alonso\n",
      "node/4855451334       supermarket            bakery                 Biomilanes                     Aranda\n",
      "node/4855451340         coworking       greengrocer             Neurona Center                      Celia\n",
      "node/4855493927         fast_food         ice_cream        La Posada de Carmen                 Torrecilla\n",
      "node/4855493928         fast_food        restaurant                   Ali Baba     El Chef de la Victoria\n",
      "node/4855493934    fitness_centre           clothes                    Upgrade              Feeling Modas\n",
      "node/4856185578         collector               car                   Fanátiko          Autos Ruiz Poyato\n",
      "node/4856185581         fast_food       convenience                    El Ombú      Minimarket del Barrio\n",
      "node/4856220372            centre            clinic  Centro Médico Conductores                 Europreven\n",
      "node/4856220374               pub        restaurant                    Enrique        Taberna los Culitos\n",
      "node/4856539943              cafe        restaurant       La Tasquita del Pana        Taberna La Quintana\n",
      "node/4856539947       hairdresser         herbalist        Peluquería Essencia                Natur house\n",
      "node/4856539951    fitness_centre         furniture                Box And One                Comodissimo\n",
      "node/4856539953      pet_grooming           clothes          El Rincón de Luna              Estela y Lola\n",
      "node/4857027151         architect           clothes                   Darconsa                   Me Gusta\n",
      "node/4861794210             party         furniture          Mundo de Fantasía           Adopta un mueble\n",
      "node/4861794211    fitness_centre              gift                   Fisio360             Ramos y Torres\n",
      "node/4861908431         fast_food           butcher                   Mr Kebab               Juan Murillo\n",
      "node/4861908444      photographer       hairdresser         Salcedo Fotografía   Peluquería María Ángeles\n",
      "node/4863095070           laundry       electronics               Blanco Facil                      Royme\n",
      "node/4863095073       hairdresser           clothes        Peluquería Low Cost                  Atmósfera\n",
      "node/4863095078     variety_store       convenience                  Home City                Súper Bazar\n",
      "node/4863095080           clothes       hairdresser                     Quinoa                   Peinarte\n",
      "node/5274177528       e-cigarette           curtain                 Malakavape                Luz y Color\n",
      "node/5322096548   physiotherapist   language_school                Ares Studio                  AleMálaga\n"
     ]
    }
   ],
   "source": [
    "print(df[df['comparison'] == 'NAME CHANGE'][['name_new', 'name_old']])\n",
    "print()\n",
    "print(df[df['comparison'] == 'REMOVED'][['feature_value_old', 'name_old']])\n",
    "print()\n",
    "print(df[df['comparison'] == 'POI TYPE CHANGE'][[\n",
    "    'feature_value_new', 'feature_value_old', 'name_new', 'name_old']])"
   ]
  },
  {
   "cell_type": "markdown",
   "metadata": {},
   "source": [
    "The REMOVED, NAME CHANGE, and POI TYPE change listings all look OK. There are still a handful of POIs where the change is really a mapping improvement rather than a real-world change, but it would be difficult to remove those programmatically.\n",
    "\n",
    "As it stands the data is not very well organised for plotting, as key information such as latitude and longitude is spread across the \"_new\" and \"_old\" columns. Before saving the data to CSV, I'm going to add a combined version of a few key columns. These columns will use the \"_old\" value for POIs that have been removed, and the \"_new\" value for everything else. "
   ]
  },
  {
   "cell_type": "code",
   "execution_count": 21,
   "metadata": {},
   "outputs": [
    {
     "data": {
      "text/plain": [
       "['comparison',\n",
       " 'feature_key_new',\n",
       " 'feature_group_new',\n",
       " 'feature_value_new',\n",
       " 'name_new',\n",
       " 'addr:housenumber_new',\n",
       " 'addr:postcode_new',\n",
       " 'addr:street_or_place_new',\n",
       " 'brand_new',\n",
       " 'brand:wikidata_new',\n",
       " 'check_date_new',\n",
       " 'lat_new',\n",
       " 'lon_new',\n",
       " 'osm_link_new',\n",
       " 'feature_key_old',\n",
       " 'feature_group_old',\n",
       " 'feature_value_old',\n",
       " 'name_old',\n",
       " 'addr:housenumber_old',\n",
       " 'addr:postcode_old',\n",
       " 'addr:street_or_place_old',\n",
       " 'brand_old',\n",
       " 'brand:wikidata_old',\n",
       " 'check_date_old',\n",
       " 'lat_old',\n",
       " 'lon_old',\n",
       " 'osm_link_old',\n",
       " '_merge',\n",
       " 'lat',\n",
       " 'lon',\n",
       " 'name',\n",
       " 'feature_value']"
      ]
     },
     "execution_count": 21,
     "metadata": {},
     "output_type": "execute_result"
    }
   ],
   "source": [
    "plot_cols = ['lat', 'lon', 'name', 'feature_value']\n",
    "plot_cols_new = ['lat_new', 'lon_new', 'name_new', 'feature_value_new']\n",
    "plot_cols_old = ['lat_old', 'lon_old', 'name_old', 'feature_value_old']\n",
    "df[plot_cols] = df[plot_cols_new].mask(\n",
    "    df['comparison'] == 'REMOVED', df[plot_cols_old], axis=0)\n",
    "list(df.columns)"
   ]
  },
  {
   "cell_type": "markdown",
   "metadata": {},
   "source": [
    "Now I can go ahead and generate some outputs."
   ]
  },
  {
   "cell_type": "code",
   "execution_count": 22,
   "metadata": {},
   "outputs": [],
   "source": [
    "df.to_csv(output_file_csv)"
   ]
  },
  {
   "cell_type": "code",
   "execution_count": 23,
   "metadata": {},
   "outputs": [],
   "source": [
    "# Create a scatter plot\n",
    "def create_scatter_plot(df, date_new, date_old):\n",
    "    fig = px.scatter_map(\n",
    "        df,\n",
    "        lat='lat',\n",
    "        lon='lon',\n",
    "        hover_name='name',\n",
    "        hover_data={\n",
    "            'lat': False,\n",
    "            'lon': False,\n",
    "            'comparison': True,\n",
    "            'feature_value': True,\n",
    "        },\n",
    "        color='comparison',\n",
    "        zoom=15\n",
    "    )\n",
    "\n",
    "    # some formatting\n",
    "    fig.update_traces(\n",
    "        marker=dict(size=10),\n",
    "    )\n",
    "\n",
    "    # some more formatting\n",
    "    fig.update_layout(\n",
    "        title=(f'Changes in POIs in La Victoria and nearby barrios '\n",
    "               f'({date_old} to {date_new})'),\n",
    "        legend_title='COMPARISON STATUS',\n",
    "        margin=dict(l=10, r=10, b=10)\n",
    "    )\n",
    "\n",
    "    return fig"
   ]
  },
  {
   "cell_type": "code",
   "execution_count": 24,
   "metadata": {},
   "outputs": [
    {
     "data": {
      "application/vnd.plotly.v1+json": {
       "config": {
        "plotlyServerURL": "https://plot.ly"
       },
       "data": [
        {
         "customdata": [
          [
           36.7272634,
           -4.4125913,
           "NO CHANGE",
           "hairdresser"
          ],
          [
           36.7237855,
           -4.4160999,
           "NO CHANGE",
           "hotel"
          ],
          [
           36.7240254,
           -4.4161421,
           "NO CHANGE",
           "antiques"
          ],
          [
           36.7236858,
           -4.4162172,
           "NO CHANGE",
           "cafe"
          ],
          [
           36.7252388,
           -4.4151705,
           "NO CHANGE",
           "cafe"
          ],
          [
           36.727348,
           -4.4119989,
           "NO CHANGE",
           "electronics_repair"
          ],
          [
           36.727024,
           -4.4128929,
           "NO CHANGE",
           "greengrocer"
          ],
          [
           36.7268873,
           -4.4123824,
           "NO CHANGE",
           "property_management"
          ],
          [
           36.7269877,
           -4.4122375,
           "NO CHANGE",
           "sewing"
          ],
          [
           36.7268446,
           -4.4123697,
           "NO CHANGE",
           "fast_food"
          ],
          [
           36.7228549,
           -4.4167897,
           "NO CHANGE",
           "toilets"
          ],
          [
           36.7227404,
           -4.4162121,
           "NO CHANGE",
           "restaurant"
          ],
          [
           36.7252952,
           -4.4157549,
           "NO CHANGE",
           "books"
          ],
          [
           36.7301874,
           -4.4151197,
           "NO CHANGE",
           "antiques"
          ],
          [
           36.731122,
           -4.4160058,
           "NO CHANGE",
           "camera"
          ],
          [
           36.728489,
           -4.414452,
           "NO CHANGE",
           "beauty"
          ],
          [
           36.7276663,
           -4.4148213,
           "NO CHANGE",
           "doctor"
          ],
          [
           36.7281211,
           -4.4120097,
           "NO CHANGE",
           "estate_agent"
          ],
          [
           36.7304063,
           -4.4159276,
           "NO CHANGE",
           "podiatrist"
          ],
          [
           36.7269215,
           -4.4145704,
           "NO CHANGE",
           "fast_food"
          ],
          [
           36.7269092,
           -4.4146302,
           "NO CHANGE",
           "fast_food"
          ],
          [
           36.7294118,
           -4.4129195,
           "NO CHANGE",
           "clock"
          ],
          [
           36.7284048,
           -4.4131897,
           "NO CHANGE",
           "restaurant"
          ],
          [
           36.7247071,
           -4.4155962,
           "NO CHANGE",
           "bar"
          ],
          [
           36.7273687,
           -4.4118396,
           "NO CHANGE",
           "pharmacy"
          ],
          [
           36.7286691,
           -4.4137224,
           "NO CHANGE",
           "pharmacy"
          ],
          [
           36.7270815,
           -4.4136126,
           "NO CHANGE",
           "post_box"
          ],
          [
           36.727153,
           -4.4135736,
           "NO CHANGE",
           "atm"
          ],
          [
           36.7271133,
           -4.4135818,
           "NO CHANGE",
           "atm"
          ],
          [
           36.7269327,
           -4.4145098,
           "NO CHANGE",
           "pharmacy"
          ],
          [
           36.7271369,
           -4.4135771,
           "NO CHANGE",
           "bank"
          ],
          [
           36.7307419,
           -4.4159353,
           "NO CHANGE",
           "stationery"
          ],
          [
           36.7288656,
           -4.4157255,
           "NO CHANGE",
           "fitness_centre"
          ],
          [
           36.7308654,
           -4.4166094,
           "NO CHANGE",
           "pharmacy"
          ],
          [
           36.729468,
           -4.4152572,
           "NO CHANGE",
           "variety_store"
          ],
          [
           36.7298471,
           -4.4156793,
           "NO CHANGE",
           "restaurant"
          ],
          [
           36.7267275,
           -4.413762,
           "NO CHANGE",
           "fast_food"
          ],
          [
           36.7311626,
           -4.415664,
           "NO CHANGE",
           "restaurant"
          ],
          [
           36.7311771,
           -4.4155514,
           "NO CHANGE",
           "restaurant"
          ],
          [
           36.7312195,
           -4.415346,
           "NO CHANGE",
           "convenience"
          ],
          [
           36.730959,
           -4.4152865,
           "NO CHANGE",
           "copyshop"
          ],
          [
           36.7307823,
           -4.4152568,
           "NO CHANGE",
           "cafe"
          ],
          [
           36.7306846,
           -4.4149657,
           "NO CHANGE",
           "clothes"
          ],
          [
           36.7308072,
           -4.4149853,
           "NO CHANGE",
           "cafe"
          ],
          [
           36.7311265,
           -4.4150576,
           "NO CHANGE",
           "clothes"
          ],
          [
           36.7312318,
           -4.415063,
           "NO CHANGE",
           "bank"
          ],
          [
           36.7313017,
           -4.4150784,
           "NO CHANGE",
           "atm"
          ],
          [
           36.7256549,
           -4.4148527,
           "NO CHANGE",
           "estate_agent"
          ],
          [
           36.7251852,
           -4.4150055,
           "NO CHANGE",
           "variety_store"
          ],
          [
           36.7252072,
           -4.4149851,
           "NO CHANGE",
           "language_school"
          ],
          [
           36.7252057,
           -4.4151916,
           "NO CHANGE",
           "herbalist"
          ],
          [
           36.7250576,
           -4.4151128,
           "NO CHANGE",
           "supermarket"
          ],
          [
           36.7248007,
           -4.415317,
           "NO CHANGE",
           "property_management"
          ],
          [
           36.7249983,
           -4.415351,
           "NO CHANGE",
           "variety_store"
          ],
          [
           36.7248178,
           -4.4154974,
           "NO CHANGE",
           "clockmaker"
          ],
          [
           36.7246161,
           -4.4156709,
           "NO CHANGE",
           "pharmacy"
          ],
          [
           36.7235519,
           -4.4165238,
           "NO CHANGE",
           "optician"
          ],
          [
           36.7236101,
           -4.4164793,
           "NO CHANGE",
           "beauty"
          ],
          [
           36.7239692,
           -4.4161929,
           "NO CHANGE",
           "beverages"
          ],
          [
           36.7239461,
           -4.4159936,
           "NO CHANGE",
           "convenience"
          ],
          [
           36.7243594,
           -4.4158589,
           "NO CHANGE",
           "beauty"
          ],
          [
           36.7243171,
           -4.4156987,
           "NO CHANGE",
           "estate_agent"
          ],
          [
           36.726627,
           -4.4143994,
           "NO CHANGE",
           "dentist"
          ],
          [
           36.7263627,
           -4.4143383,
           "NO CHANGE",
           "bank"
          ],
          [
           36.7260575,
           -4.4145518,
           "NO CHANGE",
           "bank"
          ],
          [
           36.7282422,
           -4.4135159,
           "NO CHANGE",
           "restaurant"
          ],
          [
           36.7281655,
           -4.4132527,
           "NO CHANGE",
           "computer"
          ],
          [
           36.7280424,
           -4.4132943,
           "NO CHANGE",
           "restaurant"
          ],
          [
           36.7278942,
           -4.4133399,
           "NO CHANGE",
           "electrical"
          ],
          [
           36.7272714,
           -4.4138005,
           "NO CHANGE",
           "ice_cream"
          ],
          [
           36.7267551,
           -4.4136853,
           "NO CHANGE",
           "cafe"
          ],
          [
           36.7271019,
           -4.4133443,
           "NO CHANGE",
           "cafe"
          ],
          [
           36.7271773,
           -4.4138197,
           "NO CHANGE",
           "cafe"
          ],
          [
           36.7285763,
           -4.4139176,
           "NO CHANGE",
           "beauty"
          ],
          [
           36.7284436,
           -4.4144578,
           "NO CHANGE",
           "photo"
          ],
          [
           36.7283073,
           -4.4144483,
           "NO CHANGE",
           "hairdresser"
          ],
          [
           36.7281075,
           -4.4144105,
           "NO CHANGE",
           "pastry"
          ],
          [
           36.7280702,
           -4.4142752,
           "NO CHANGE",
           "copyshop"
          ],
          [
           36.7279413,
           -4.4142604,
           "NO CHANGE",
           "beauty"
          ],
          [
           36.7289774,
           -4.4146131,
           "NO CHANGE",
           "clothes"
          ],
          [
           36.7290104,
           -4.4144574,
           "NO CHANGE",
           "dentist"
          ],
          [
           36.7291928,
           -4.4147898,
           "NO CHANGE",
           "supermarket"
          ],
          [
           36.7286989,
           -4.4145211,
           "NO CHANGE",
           "cafe"
          ],
          [
           36.7287917,
           -4.4143572,
           "NO CHANGE",
           "convenience"
          ],
          [
           36.7287147,
           -4.4139873,
           "NO CHANGE",
           "language_school"
          ],
          [
           36.7293747,
           -4.4137844,
           "NO CHANGE",
           "optician"
          ],
          [
           36.7297294,
           -4.4138939,
           "NO CHANGE",
           "hairdresser"
          ],
          [
           36.7296575,
           -4.4142467,
           "NO CHANGE",
           "restaurant"
          ],
          [
           36.7295332,
           -4.4149067,
           "NO CHANGE",
           "paint"
          ],
          [
           36.7295771,
           -4.4146208,
           "NO CHANGE",
           "cafe"
          ],
          [
           36.7295295,
           -4.4146026,
           "NO CHANGE",
           "copyshop"
          ],
          [
           36.729482,
           -4.4148931,
           "NO CHANGE",
           "furniture"
          ],
          [
           36.7294259,
           -4.4148733,
           "NO CHANGE",
           "beauty"
          ],
          [
           36.729365,
           -4.4148474,
           "NO CHANGE",
           "optician"
          ],
          [
           36.7282412,
           -4.4122352,
           "NO CHANGE",
           "dentist"
          ],
          [
           36.7280917,
           -4.4118632,
           "NO CHANGE",
           "fitness_centre"
          ],
          [
           36.7263235,
           -4.4122236,
           "NO CHANGE",
           "guest_house"
          ],
          [
           36.7258408,
           -4.4121175,
           "NO CHANGE",
           "pharmacy"
          ],
          [
           36.7267064,
           -4.4123405,
           "NO CHANGE",
           "variety_store"
          ],
          [
           36.726695,
           -4.4124286,
           "NO CHANGE",
           "bakery"
          ],
          [
           36.7268888,
           -4.4121959,
           "NO CHANGE",
           "cafe"
          ],
          [
           36.727085,
           -4.4122713,
           "NO CHANGE",
           "tobacco"
          ],
          [
           36.7271555,
           -4.4122691,
           "NO CHANGE",
           "greengrocer"
          ],
          [
           36.7264553,
           -4.4120901,
           "NO CHANGE",
           "post_box"
          ],
          [
           36.7269466,
           -4.4116264,
           "NO CHANGE",
           "supermarket"
          ],
          [
           36.728027,
           -4.4127153,
           "NO CHANGE",
           "motorcycle"
          ],
          [
           36.7280852,
           -4.4120357,
           "NO CHANGE",
           "educational_institution"
          ],
          [
           36.7293088,
           -4.4158813,
           "NO CHANGE",
           "greengrocer"
          ],
          [
           36.7292911,
           -4.4159928,
           "NO CHANGE",
           "supermarket"
          ],
          [
           36.7292348,
           -4.4162379,
           "NO CHANGE",
           "veterinary"
          ],
          [
           36.7291951,
           -4.4153208,
           "NO CHANGE",
           "cafe"
          ],
          [
           36.7289954,
           -4.4152534,
           "NO CHANGE",
           "driving_school"
          ],
          [
           36.7272893,
           -4.4125178,
           "NO CHANGE",
           "butcher"
          ],
          [
           36.7273241,
           -4.4124622,
           "NO CHANGE",
           "convenience"
          ],
          [
           36.7271704,
           -4.4121912,
           "NO CHANGE",
           "convenience"
          ],
          [
           36.7272247,
           -4.4116852,
           "NO CHANGE",
           "estate_agent"
          ],
          [
           36.7273241,
           -4.4122976,
           "NO CHANGE",
           "fast_food"
          ],
          [
           36.7273321,
           -4.4121177,
           "NO CHANGE",
           "car_repair"
          ],
          [
           36.7273778,
           -4.4117163,
           "NO CHANGE",
           "variety_store"
          ],
          [
           36.7273811,
           -4.4115944,
           "NO CHANGE",
           "property_management"
          ],
          [
           36.7298341,
           -4.4150234,
           "NO CHANGE",
           "restaurant"
          ],
          [
           36.7297421,
           -4.4149795,
           "NO CHANGE",
           "bank"
          ],
          [
           36.7297922,
           -4.4159611,
           "NO CHANGE",
           "bar"
          ],
          [
           36.7297607,
           -4.4156079,
           "NO CHANGE",
           "fast_food"
          ],
          [
           36.7293916,
           -4.4162792,
           "NO CHANGE",
           "chemist"
          ],
          [
           36.7294225,
           -4.416136,
           "NO CHANGE",
           "stationery"
          ],
          [
           36.7294809,
           -4.4158061,
           "NO CHANGE",
           "car_repair"
          ],
          [
           36.7295681,
           -4.4155233,
           "NO CHANGE",
           "restaurant"
          ],
          [
           36.729631,
           -4.415219,
           "NO CHANGE",
           "fast_food"
          ],
          [
           36.7296465,
           -4.4151529,
           "NO CHANGE",
           "greengrocer"
          ],
          [
           36.7270573,
           -4.4127481,
           "NO CHANGE",
           "charity"
          ],
          [
           36.7270801,
           -4.4126618,
           "NO CHANGE",
           "bakery"
          ],
          [
           36.7271096,
           -4.4132785,
           "NO CHANGE",
           "pastry"
          ],
          [
           36.7271346,
           -4.4131661,
           "NO CHANGE",
           "stationery"
          ],
          [
           36.7271465,
           -4.4131112,
           "NO CHANGE",
           "greengrocer"
          ],
          [
           36.7271644,
           -4.4130462,
           "NO CHANGE",
           "clothes"
          ],
          [
           36.7271829,
           -4.4129717,
           "NO CHANGE",
           "hairdresser"
          ],
          [
           36.7272166,
           -4.4128199,
           "NO CHANGE",
           "cafe"
          ],
          [
           36.7272426,
           -4.4127075,
           "NO CHANGE",
           "dancing_school"
          ],
          [
           36.7272568,
           -4.4126492,
           "NO CHANGE",
           "newsagent"
          ],
          [
           36.7305705,
           -4.4149392,
           "NO CHANGE",
           "pharmacy"
          ],
          [
           36.7304397,
           -4.4149084,
           "NO CHANGE",
           "greengrocer"
          ],
          [
           36.7300937,
           -4.4150923,
           "NO CHANGE",
           "laundry"
          ],
          [
           36.7300964,
           -4.4148175,
           "NO CHANGE",
           "optician"
          ],
          [
           36.7298088,
           -4.4145797,
           "NO CHANGE",
           "lottery"
          ],
          [
           36.7298302,
           -4.4144486,
           "NO CHANGE",
           "bakery"
          ],
          [
           36.7273555,
           -4.4122848,
           "NO CHANGE",
           "cafe"
          ],
          [
           36.7267398,
           -4.4121533,
           "NO CHANGE",
           "restaurant"
          ],
          [
           36.7262742,
           -4.4151185,
           "NO CHANGE",
           "convenience"
          ],
          [
           36.7263436,
           -4.415009,
           "NO CHANGE",
           "tobacco"
          ],
          [
           36.7264883,
           -4.4148282,
           "NO CHANGE",
           "greengrocer"
          ],
          [
           36.7276183,
           -4.4143599,
           "NO CHANGE",
           "hairdresser"
          ],
          [
           36.7245091,
           -4.4157454,
           "NO CHANGE",
           "books"
          ],
          [
           36.7296112,
           -4.4152792,
           "NO CHANGE",
           "craft"
          ],
          [
           36.7282335,
           -4.4144417,
           "NO CHANGE",
           "physiotherapist"
          ],
          [
           36.7276521,
           -4.4142215,
           "NO CHANGE",
           "herbalist"
          ],
          [
           36.7273725,
           -4.4143273,
           "NO CHANGE",
           "clothes"
          ],
          [
           36.7272765,
           -4.4143204,
           "NO CHANGE",
           "jewelry"
          ],
          [
           36.7271813,
           -4.4143144,
           "NO CHANGE",
           "butcher"
          ],
          [
           36.7271099,
           -4.4143144,
           "NO CHANGE",
           "convenience"
          ],
          [
           36.7289589,
           -4.4137956,
           "NO CHANGE",
           "podiatrist"
          ],
          [
           36.7308559,
           -4.4144045,
           "NO CHANGE",
           "pharmacy"
          ],
          [
           36.7271017,
           -4.4092912,
           "NO CHANGE",
           "sport_school"
          ],
          [
           36.7254286,
           -4.4150211,
           "NO CHANGE",
           "laundry"
          ],
          [
           36.7295557,
           -4.4163722,
           "NO CHANGE",
           "cafe"
          ],
          [
           36.7276457,
           -4.4134077,
           "NO CHANGE",
           "property_management"
          ],
          [
           36.7279059,
           -4.4136068,
           "NO CHANGE",
           "tyres"
          ],
          [
           36.7275223,
           -4.4134568,
           "NO CHANGE",
           "insurance"
          ],
          [
           36.7277652,
           -4.413646,
           "NO CHANGE",
           "newsagent"
          ],
          [
           36.728899,
           -4.414423,
           "NO CHANGE",
           "shoes"
          ],
          [
           36.7265306,
           -4.4142224,
           "NO CHANGE",
           "convenience"
          ],
          [
           36.7223784,
           -4.4161725,
           "NO CHANGE",
           "company"
          ],
          [
           36.7244045,
           -4.4158261,
           "NO CHANGE",
           "diplomatic"
          ],
          [
           36.7226157,
           -4.4163554,
           "NO CHANGE",
           "company"
          ],
          [
           36.7310965,
           -4.4162593,
           "NO CHANGE",
           "pet_grooming"
          ],
          [
           36.7275095,
           -4.4124357,
           "NO CHANGE",
           "association"
          ],
          [
           36.7240625,
           -4.4161421,
           "NO CHANGE",
           "lost_property_office"
          ],
          [
           36.7297983,
           -4.4138908,
           "NO CHANGE",
           "community_centre"
          ],
          [
           36.7305117,
           -4.4140663,
           "NO CHANGE",
           "community_centre"
          ],
          [
           36.7308915,
           -4.4144142,
           "NO CHANGE",
           "apartment"
          ],
          [
           36.7291888,
           -4.4143344,
           "NO CHANGE",
           "dressmaker"
          ],
          [
           36.7290783,
           -4.4146773,
           "NO CHANGE",
           "post_box"
          ],
          [
           36.7297917,
           -4.4146998,
           "NO CHANGE",
           "energy_supplier"
          ],
          [
           36.7241273,
           -4.4162109,
           "NO CHANGE",
           "bicycle"
          ],
          [
           36.724392,
           -4.410196,
           "NO CHANGE",
           "park"
          ],
          [
           36.7267576,
           -4.4146954,
           "NO CHANGE",
           "playground"
          ],
          [
           36.7269482,
           -4.4144739,
           "NO CHANGE",
           "taxi"
          ],
          [
           36.72911,
           -4.4129644,
           "NO CHANGE",
           "place_of_worship"
          ],
          [
           36.7258992,
           -4.4144626,
           "NO CHANGE",
           "place_of_worship"
          ],
          [
           36.7268183,
           -4.4141407,
           "NO CHANGE",
           "park"
          ],
          [
           36.725796,
           -4.4138406,
           "NO CHANGE",
           "community_centre"
          ],
          [
           36.7286931,
           -4.4127352,
           "NO CHANGE",
           "park"
          ],
          [
           36.7265991,
           -4.4088395,
           "NO CHANGE",
           "school"
          ],
          [
           36.7282703,
           -4.4103538,
           "NO CHANGE",
           "hotel"
          ],
          [
           36.7266804,
           -4.4131389,
           "NO CHANGE",
           "school"
          ],
          [
           36.7273359,
           -4.4146937,
           "NO CHANGE",
           "park"
          ],
          [
           36.726065,
           -4.4134313,
           "NO CHANGE",
           "school"
          ],
          [
           36.7278095,
           -4.4107633,
           "NO CHANGE",
           "kindergarten"
          ],
          [
           36.7291324,
           -4.4146937,
           "NO CHANGE",
           "kiosk"
          ],
          [
           36.728926,
           -4.4160808,
           "NO CHANGE",
           "park"
          ],
          [
           36.7267837,
           -4.4134781,
           "NO CHANGE",
           "place_of_worship"
          ],
          [
           36.730065,
           -4.413059,
           "NO CHANGE",
           "school"
          ],
          [
           36.7288567,
           -4.4126099,
           "NO CHANGE",
           "playground"
          ],
          [
           36.724973,
           -4.4115543,
           "NO CHANGE",
           "playground"
          ],
          [
           36.7250563,
           -4.4116089,
           "NO CHANGE",
           "fitness_station"
          ],
          [
           36.7290841,
           -4.4111875,
           "NO CHANGE",
           "guest_house"
          ],
          [
           36.7318969,
           -4.4082237,
           "NO CHANGE",
           "park"
          ],
          [
           36.7295807,
           -4.4148454,
           "NO CHANGE",
           "lottery"
          ],
          [
           36.7306137,
           -4.4151402,
           "NO CHANGE",
           "kiosk"
          ]
         ],
         "hovertemplate": "<b>%{hovertext}</b><br><br>comparison=%{customdata[2]}<br>feature_value=%{customdata[3]}<extra></extra>",
         "hovertext": [
          "Paraíso Blue",
          "Hotel Brö",
          "Artesanía Conesa",
          "Pistacho & Azafrán",
          "Taybo Coffee & Bakery",
          "RepCa",
          "Frutería Pepe",
          "Duquesa Gestión",
          "Hilos y Agujas",
          "Como en Casa",
          "",
          "Ta-Kumi",
          "Librería Suburbia",
          "Numismática Sánchez",
          "Foto Vega",
          "Narumi",
          "Lara Podologo",
          "Alfa Málaga",
          "Podología Manrique",
          "Asador Padilla",
          "Pizza e Amore",
          "",
          "Lo de Merche",
          "La Esquinita del Chupa y Tira",
          "Farmacia Ferrándiz",
          "Farmacia Coronado",
          "",
          "",
          "",
          "Farmacia Plaza de la Victoria",
          "Unicaja Banco",
          "Papertoys",
          "Reebok Sports Center",
          "Farmacia Laynez",
          "Bazar Andalucía",
          "Gambrinus",
          "Bocatería Gustavo",
          "Ancá er Mejillón",
          "Enrique y Paco",
          "Fortuna",
          "Copicentro",
          "Tejeringo's",
          "Mercería Reyes",
          "Cafetería El Cañón",
          "Veneno Moda",
          "CajaSur",
          "Caja Rural de Granada",
          "Abc Inmobiliaria",
          "Super Bazar Y Alimentación",
          "Idiomas Victoria",
          "Puravida Natural",
          "Dia",
          "Planeta Casa",
          "Bazar Multiprecios Málaga",
          "Germán Gil Relojeros",
          "Farmacia Sanjuan Valero",
          "Óptica La Merced",
          "Verdeagua",
          "La Botica de la Cerveza",
          "Asia Supermercado",
          "Estética Victoria",
          "Toré Inmobiliaria",
          "Clínica Dental de la Victoria",
          "Banco Santander",
          "Caja Rural del Sur",
          "Chicon Quintana",
          "Load",
          "El Caldero",
          "Suministros Eléctricos J. Martín",
          "Casa Mira",
          "Café Bar El Jardín de los Monos",
          "Jaral Café",
          "Cafetería Isamoa",
          "Centro de Belleza Nuria Honorato",
          "J. Carlos",
          "Peluquería Loly Alberca",
          "El Romero",
          "Palcopy",
          "Geno",
          "Cristina Modas",
          "Bucaldent",
          "Dia",
          "Café Bar El Caracol",
          "Súper Bazar Oriental",
          "New English Centre",
          "Óptica Victoria",
          "Marga Cerón",
          "Aliolé",
          "Pinturas Andalucía",
          "Bar El Tornado",
          "ATresColor",
          "Comodísimo",
          "Astrid Beauty Club",
          "Vistalia",
          "Institución Dento-estética Dr. Manuel García",
          "Club Record",
          "Hostal Flamenco Camerón",
          "Farmacia Pinosol",
          "Chollos Los Patitos",
          "Panificadora Pinos",
          "Bar Los Reyes",
          "",
          "Frutería Ali",
          "",
          "Dia",
          "Comitre Motos",
          "Aula Malacitana Escuela Jurídica",
          "Frutas y Verduras Pedro",
          "Carrefour Market",
          "Clínica Veterinaria Cristo de la Epidemia",
          "Café Bar Lorena II",
          "Autoescuelas Torcal",
          "Carnicería Ferrándiz",
          "Bazar Alimentación",
          "Alimentación Jin Tai Yang",
          "Grupo Constructor",
          "Antojos Pizza",
          "Talleres Barcenillas",
          "Bazar China",
          "Martín y Serrano Administración de Fincas",
          "Nerva",
          "Caixabank",
          "Universitas Café",
          "Asador Pineda",
          "Droguería Elisa",
          "Papelería Trisol",
          "Talleres La Fuente",
          "Fu Man Chun",
          "Cheef Kebab",
          "Frutería Real",
          "Madre Coraje",
          "Panificadora Pinos",
          "El Pastel De Nata",
          "Papelería Marisol",
          "Frutas y Verduras Yassin",
          "Mercería Puri",
          "Sandra López",
          "Café Bar Ferrándiz",
          "Estudio de danza Ángela Correa",
          "Carmen",
          "Farmacia López Yerón",
          "El Mercado",
          "La Artesana",
          "Multiópticas",
          "Loterías y Apuestas del Estado",
          "Panadería La Sagrada Familia",
          "Cafe Bar Costa del Sol Orly",
          "El Redondeo",
          "Ultramarinos Casa Ceferina",
          "Boquerón de Oro",
          "Frutería Keko",
          "Peluquería Vintage",
          "Re-Read Librería Lowcost",
          "Sarala",
          "Fisio360",
          "Aloe",
          "Modas Cambiame",
          "JPereiro Joyero",
          "Alonso Robles",
          "Ultramarino Victoria",
          "Amores y Rodríguez",
          "Farmacia Margarita López Rodríguez",
          "Escuela de Patinaje Al-Andalus",
          "Lavomatic",
          "Cafetería Heda",
          "Emilio Jiménez Moreno",
          "Vulcanizados Victoria",
          "Correduría de Seguros Jesús Rodriguéz",
          "Paco",
          "Zapatería El Compás",
          "Mas&Go",
          "Promálaga Oficinas Centrales",
          "Consulado Honorario de Costa Rica",
          "Sociedad Municipal de Aparcamientos y Servicios",
          "Victoria Peluquería Canina",
          "Teléfono de la Esperanza",
          "Oficina Municipal de Objetos Perdidos",
          "Hermandad del Monte Calvario",
          "Real Cofradía del Amor y la Caridad",
          "Apartamentos Fernando el Católico",
          "Divina Costura",
          "",
          "Iberdrola",
          "Alikindoi Rent a Bike",
          "Parque Forestal de Gibralfaro",
          "",
          "Plaza de la Victoria",
          "Basílica y Santuario de Santa María de la Victoria",
          "Capilla del Rescate",
          "",
          "Cofradía de Jesús del Rescate y María Santísima de Gracia",
          "Parque Alfonso XII",
          "Colegio Sagrada Familia El Monte",
          "Hotel Monte Victoria",
          "Colegio de Educación Infantil y Primaria Nuestra Señora de Gracia",
          "",
          "Colegio Nuestra Señora de la Victoria",
          "Escuela Infantil Villa Maria",
          "",
          "",
          "Iglesia San Lázaro",
          "Colegio Nuestra Señora de la Victoria",
          "",
          "",
          "",
          "Villa Alicia Guesthouse",
          "Parque Forestal Monte Victoria",
          "ONCE",
          ""
         ],
         "lat": [
          36.7272634,
          36.7237855,
          36.7240254,
          36.7236858,
          36.7252388,
          36.727348,
          36.727024,
          36.7268873,
          36.7269877,
          36.7268446,
          36.7228549,
          36.7227404,
          36.7252952,
          36.7301874,
          36.731122,
          36.728489,
          36.7276663,
          36.7281211,
          36.7304063,
          36.7269215,
          36.7269092,
          36.7294118,
          36.7284048,
          36.7247071,
          36.7273687,
          36.7286691,
          36.7270815,
          36.727153,
          36.7271133,
          36.7269327,
          36.7271369,
          36.7307419,
          36.7288656,
          36.7308654,
          36.729468,
          36.7298471,
          36.7267275,
          36.7311626,
          36.7311771,
          36.7312195,
          36.730959,
          36.7307823,
          36.7306846,
          36.7308072,
          36.7311265,
          36.7312318,
          36.7313017,
          36.7256549,
          36.7251852,
          36.7252072,
          36.7252057,
          36.7250576,
          36.7248007,
          36.7249983,
          36.7248178,
          36.7246161,
          36.7235519,
          36.7236101,
          36.7239692,
          36.7239461,
          36.7243594,
          36.7243171,
          36.726627,
          36.7263627,
          36.7260575,
          36.7282422,
          36.7281655,
          36.7280424,
          36.7278942,
          36.7272714,
          36.7267551,
          36.7271019,
          36.7271773,
          36.7285763,
          36.7284436,
          36.7283073,
          36.7281075,
          36.7280702,
          36.7279413,
          36.7289774,
          36.7290104,
          36.7291928,
          36.7286989,
          36.7287917,
          36.7287147,
          36.7293747,
          36.7297294,
          36.7296575,
          36.7295332,
          36.7295771,
          36.7295295,
          36.729482,
          36.7294259,
          36.729365,
          36.7282412,
          36.7280917,
          36.7263235,
          36.7258408,
          36.7267064,
          36.726695,
          36.7268888,
          36.727085,
          36.7271555,
          36.7264553,
          36.7269466,
          36.728027,
          36.7280852,
          36.7293088,
          36.7292911,
          36.7292348,
          36.7291951,
          36.7289954,
          36.7272893,
          36.7273241,
          36.7271704,
          36.7272247,
          36.7273241,
          36.7273321,
          36.7273778,
          36.7273811,
          36.7298341,
          36.7297421,
          36.7297922,
          36.7297607,
          36.7293916,
          36.7294225,
          36.7294809,
          36.7295681,
          36.729631,
          36.7296465,
          36.7270573,
          36.7270801,
          36.7271096,
          36.7271346,
          36.7271465,
          36.7271644,
          36.7271829,
          36.7272166,
          36.7272426,
          36.7272568,
          36.7305705,
          36.7304397,
          36.7300937,
          36.7300964,
          36.7298088,
          36.7298302,
          36.7273555,
          36.7267398,
          36.7262742,
          36.7263436,
          36.7264883,
          36.7276183,
          36.7245091,
          36.7296112,
          36.7282335,
          36.7276521,
          36.7273725,
          36.7272765,
          36.7271813,
          36.7271099,
          36.7289589,
          36.7308559,
          36.7271017,
          36.7254286,
          36.7295557,
          36.7276457,
          36.7279059,
          36.7275223,
          36.7277652,
          36.728899,
          36.7265306,
          36.7223784,
          36.7244045,
          36.7226157,
          36.7310965,
          36.7275095,
          36.7240625,
          36.7297983,
          36.7305117,
          36.7308915,
          36.7291888,
          36.7290783,
          36.7297917,
          36.7241273,
          36.724392,
          36.7267576,
          36.7269482,
          36.72911,
          36.7258992,
          36.7268183,
          36.725796,
          36.7286931,
          36.7265991,
          36.7282703,
          36.7266804,
          36.7273359,
          36.726065,
          36.7278095,
          36.7291324,
          36.728926,
          36.7267837,
          36.730065,
          36.7288567,
          36.724973,
          36.7250563,
          36.7290841,
          36.7318969,
          36.7295807,
          36.7306137
         ],
         "legendgroup": "NO CHANGE",
         "lon": [
          -4.4125913,
          -4.4160999,
          -4.4161421,
          -4.4162172,
          -4.4151705,
          -4.4119989,
          -4.4128929,
          -4.4123824,
          -4.4122375,
          -4.4123697,
          -4.4167897,
          -4.4162121,
          -4.4157549,
          -4.4151197,
          -4.4160058,
          -4.414452,
          -4.4148213,
          -4.4120097,
          -4.4159276,
          -4.4145704,
          -4.4146302,
          -4.4129195,
          -4.4131897,
          -4.4155962,
          -4.4118396,
          -4.4137224,
          -4.4136126,
          -4.4135736,
          -4.4135818,
          -4.4145098,
          -4.4135771,
          -4.4159353,
          -4.4157255,
          -4.4166094,
          -4.4152572,
          -4.4156793,
          -4.413762,
          -4.415664,
          -4.4155514,
          -4.415346,
          -4.4152865,
          -4.4152568,
          -4.4149657,
          -4.4149853,
          -4.4150576,
          -4.415063,
          -4.4150784,
          -4.4148527,
          -4.4150055,
          -4.4149851,
          -4.4151916,
          -4.4151128,
          -4.415317,
          -4.415351,
          -4.4154974,
          -4.4156709,
          -4.4165238,
          -4.4164793,
          -4.4161929,
          -4.4159936,
          -4.4158589,
          -4.4156987,
          -4.4143994,
          -4.4143383,
          -4.4145518,
          -4.4135159,
          -4.4132527,
          -4.4132943,
          -4.4133399,
          -4.4138005,
          -4.4136853,
          -4.4133443,
          -4.4138197,
          -4.4139176,
          -4.4144578,
          -4.4144483,
          -4.4144105,
          -4.4142752,
          -4.4142604,
          -4.4146131,
          -4.4144574,
          -4.4147898,
          -4.4145211,
          -4.4143572,
          -4.4139873,
          -4.4137844,
          -4.4138939,
          -4.4142467,
          -4.4149067,
          -4.4146208,
          -4.4146026,
          -4.4148931,
          -4.4148733,
          -4.4148474,
          -4.4122352,
          -4.4118632,
          -4.4122236,
          -4.4121175,
          -4.4123405,
          -4.4124286,
          -4.4121959,
          -4.4122713,
          -4.4122691,
          -4.4120901,
          -4.4116264,
          -4.4127153,
          -4.4120357,
          -4.4158813,
          -4.4159928,
          -4.4162379,
          -4.4153208,
          -4.4152534,
          -4.4125178,
          -4.4124622,
          -4.4121912,
          -4.4116852,
          -4.4122976,
          -4.4121177,
          -4.4117163,
          -4.4115944,
          -4.4150234,
          -4.4149795,
          -4.4159611,
          -4.4156079,
          -4.4162792,
          -4.416136,
          -4.4158061,
          -4.4155233,
          -4.415219,
          -4.4151529,
          -4.4127481,
          -4.4126618,
          -4.4132785,
          -4.4131661,
          -4.4131112,
          -4.4130462,
          -4.4129717,
          -4.4128199,
          -4.4127075,
          -4.4126492,
          -4.4149392,
          -4.4149084,
          -4.4150923,
          -4.4148175,
          -4.4145797,
          -4.4144486,
          -4.4122848,
          -4.4121533,
          -4.4151185,
          -4.415009,
          -4.4148282,
          -4.4143599,
          -4.4157454,
          -4.4152792,
          -4.4144417,
          -4.4142215,
          -4.4143273,
          -4.4143204,
          -4.4143144,
          -4.4143144,
          -4.4137956,
          -4.4144045,
          -4.4092912,
          -4.4150211,
          -4.4163722,
          -4.4134077,
          -4.4136068,
          -4.4134568,
          -4.413646,
          -4.414423,
          -4.4142224,
          -4.4161725,
          -4.4158261,
          -4.4163554,
          -4.4162593,
          -4.4124357,
          -4.4161421,
          -4.4138908,
          -4.4140663,
          -4.4144142,
          -4.4143344,
          -4.4146773,
          -4.4146998,
          -4.4162109,
          -4.410196,
          -4.4146954,
          -4.4144739,
          -4.4129644,
          -4.4144626,
          -4.4141407,
          -4.4138406,
          -4.4127352,
          -4.4088395,
          -4.4103538,
          -4.4131389,
          -4.4146937,
          -4.4134313,
          -4.4107633,
          -4.4146937,
          -4.4160808,
          -4.4134781,
          -4.413059,
          -4.4126099,
          -4.4115543,
          -4.4116089,
          -4.4111875,
          -4.4082237,
          -4.4148454,
          -4.4151402
         ],
         "marker": {
          "color": "#636efa",
          "size": 10
         },
         "mode": "markers",
         "name": "NO CHANGE",
         "showlegend": true,
         "subplot": "map",
         "type": "scattermap"
        },
        {
         "customdata": [
          [
           36.7262827,
           -4.4141821,
           "ADDED",
           "shoes"
          ],
          [
           36.7260662,
           -4.4143256,
           "ADDED",
           "chemist"
          ],
          [
           36.7274522,
           -4.4134788,
           "ADDED",
           "restaurant"
          ],
          [
           36.7267947,
           -4.4136141,
           "ADDED",
           "religion"
          ],
          [
           36.7290856,
           -4.4138384,
           "ADDED",
           "photographer"
          ],
          [
           36.7288169,
           -4.4137668,
           "ADDED",
           "prep_school"
          ],
          [
           36.7306878,
           -4.4143324,
           "ADDED",
           "car_repair"
          ],
          [
           36.7301609,
           -4.4140118,
           "ADDED",
           "doctor"
          ],
          [
           36.7253496,
           -4.4150934,
           "ADDED",
           "convenience"
          ],
          [
           36.7272782,
           -4.4092557,
           "ADDED",
           "apartment"
          ],
          [
           36.7233685,
           -4.4164358,
           "ADDED",
           "hairdresser"
          ],
          [
           36.7236141,
           -4.4162565,
           "ADDED",
           "company"
          ],
          [
           36.7265978,
           -4.4143497,
           "ADDED",
           "convenience"
          ],
          [
           36.7286849,
           -4.4138503,
           "ADDED",
           "prep_school"
          ],
          [
           36.7274418,
           -4.4122322,
           "ADDED",
           "hairdresser"
          ],
          [
           36.7301814,
           -4.4105087,
           "ADDED",
           "guest_house"
          ],
          [
           36.7281683,
           -4.413012,
           "ADDED",
           "apartment"
          ],
          [
           36.727799,
           -4.4130564,
           "ADDED",
           "hairdresser"
          ],
          [
           36.7265706,
           -4.4143082,
           "ADDED",
           "hairdresser"
          ],
          [
           36.7283204,
           -4.4134773,
           "ADDED",
           "hardware"
          ],
          [
           36.7286959,
           -4.4139129,
           "ADDED",
           "lawyer"
          ],
          [
           36.7286146,
           -4.4141341,
           "ADDED",
           "insurance"
          ],
          [
           36.7278282,
           -4.4143892,
           "ADDED",
           "stationery"
          ],
          [
           36.7242829,
           -4.4159224,
           "ADDED",
           "clothes"
          ],
          [
           36.7238873,
           -4.4160466,
           "ADDED",
           "atm"
          ],
          [
           36.7241156,
           -4.4160633,
           "ADDED",
           "tattoo"
          ],
          [
           36.7242004,
           -4.4160006,
           "ADDED",
           "association"
          ],
          [
           36.7241269,
           -4.415863,
           "ADDED",
           "doctor"
          ],
          [
           36.7238661,
           -4.4160605,
           "ADDED",
           "florist"
          ],
          [
           36.7245586,
           -4.415705,
           "ADDED",
           "hairdresser"
          ],
          [
           36.7246119,
           -4.4154695,
           "ADDED",
           "greengrocer"
          ],
          [
           36.7248707,
           -4.4152634,
           "ADDED",
           "lottery"
          ],
          [
           36.7248307,
           -4.4152889,
           "ADDED",
           "insurance"
          ],
          [
           36.7255191,
           -4.4149436,
           "ADDED",
           "property_management"
          ],
          [
           36.725566,
           -4.4149066,
           "ADDED",
           "graphic_design"
          ],
          [
           36.7254911,
           -4.4147695,
           "ADDED",
           "bakery"
          ],
          [
           36.7237719,
           -4.4163308,
           "ADDED",
           "employment_agency"
          ],
          [
           36.7256367,
           -4.4146469,
           "ADDED",
           "hairdresser"
          ],
          [
           36.7259326,
           -4.4144287,
           "ADDED",
           "property_management"
          ],
          [
           36.7259796,
           -4.4144005,
           "ADDED",
           "hairdresser"
          ],
          [
           36.7260107,
           -4.4143747,
           "ADDED",
           "convenience"
          ],
          [
           36.722665,
           -4.4160215,
           "ADDED",
           "company"
          ],
          [
           36.7311192,
           -4.4163121,
           "ADDED",
           "frozen_food"
          ],
          [
           36.7311295,
           -4.4159583,
           "ADDED",
           "hairdresser"
          ],
          [
           36.7311344,
           -4.4159191,
           "ADDED",
           "fast_food"
          ],
          [
           36.7311423,
           -4.4158768,
           "ADDED",
           "restaurant"
          ],
          [
           36.7311538,
           -4.4158005,
           "ADDED",
           "accountant"
          ],
          [
           36.7312475,
           -4.4154881,
           "ADDED",
           "property_management"
          ],
          [
           36.7312564,
           -4.4153748,
           "ADDED",
           "insurance"
          ],
          [
           36.7249473,
           -4.4152027,
           "ADDED",
           "esoteric"
          ],
          [
           36.7234788,
           -4.4163642,
           "ADDED",
           "community_centre"
          ],
          [
           36.7270299,
           -4.4122538,
           "ADDED",
           "hairdresser"
          ],
          [
           36.7257947,
           -4.4144275,
           "ADDED",
           "community_centre"
          ],
          [
           36.7253537,
           -4.414883,
           "ADDED",
           "social_facility"
          ],
          [
           36.7285243,
           -4.4136697,
           "ADDED",
           "social_facility"
          ],
          [
           36.7273111,
           -4.4143281,
           "ADDED",
           "language_school"
          ],
          [
           36.7259978,
           -4.4145824,
           "ADDED",
           "repair"
          ],
          [
           36.7293014,
           -4.4139404,
           "ADDED",
           "doctor"
          ],
          [
           36.7290665,
           -4.4142983,
           "ADDED",
           "physiotherapist"
          ],
          [
           36.7291585,
           -4.4144349,
           "ADDED",
           "estate_agent"
          ],
          [
           36.728894,
           -4.4145886,
           "ADDED",
           "dressmaker"
          ],
          [
           36.7289501,
           -4.4147497,
           "ADDED",
           "insurance"
          ],
          [
           36.7289363,
           -4.4147975,
           "ADDED",
           "hairdresser"
          ],
          [
           36.7288141,
           -4.4149811,
           "ADDED",
           "dressmaker"
          ],
          [
           36.7287576,
           -4.4149666,
           "ADDED",
           "counselling"
          ],
          [
           36.7284184,
           -4.414884,
           "ADDED",
           "tattoo"
          ],
          [
           36.7295613,
           -4.4138461,
           "ADDED",
           "pet"
          ],
          [
           36.7296975,
           -4.4140406,
           "ADDED",
           "kitchen"
          ],
          [
           36.7293881,
           -4.4141748,
           "ADDED",
           "dressmaker"
          ],
          [
           36.7298241,
           -4.4143503,
           "ADDED",
           "fast_food"
          ],
          [
           36.7303498,
           -4.414249,
           "ADDED",
           "storage_rental"
          ],
          [
           36.731275,
           -4.4150743,
           "ADDED",
           "dentist"
          ],
          [
           36.7310155,
           -4.4150354,
           "ADDED",
           "greengrocer"
          ],
          [
           36.7309463,
           -4.415022,
           "ADDED",
           "dentist"
          ],
          [
           36.730921,
           -4.4150168,
           "ADDED",
           "tobacco"
          ],
          [
           36.7308871,
           -4.4150101,
           "ADDED",
           "clothes"
          ],
          [
           36.730629,
           -4.4149519,
           "ADDED",
           "herbalist"
          ],
          [
           36.7303924,
           -4.4148981,
           "ADDED",
           "interior_decoration"
          ],
          [
           36.7298654,
           -4.4147286,
           "ADDED",
           "dentist"
          ],
          [
           36.729811,
           -4.4147154,
           "ADDED",
           "butcher"
          ],
          [
           36.7296168,
           -4.4163911,
           "ADDED",
           "pet_grooming"
          ],
          [
           36.7299057,
           -4.416471,
           "ADDED",
           "stationery"
          ],
          [
           36.7300685,
           -4.4165385,
           "ADDED",
           "driving_school"
          ],
          [
           36.7301913,
           -4.4165834,
           "ADDED",
           "events_venue"
          ],
          [
           36.7309544,
           -4.4162081,
           "ADDED",
           "pub"
          ],
          [
           36.7308908,
           -4.4161879,
           "ADDED",
           "travel_agency"
          ],
          [
           36.7308277,
           -4.4163497,
           "ADDED",
           "greengrocer"
          ],
          [
           36.7296334,
           -4.4155479,
           "ADDED",
           "doityourself"
          ],
          [
           36.7296908,
           -4.4155761,
           "ADDED",
           "hairdresser"
          ],
          [
           36.72973,
           -4.4153763,
           "ADDED",
           "association"
          ],
          [
           36.7299333,
           -4.4154808,
           "ADDED",
           "hairdresser"
          ],
          [
           36.7300488,
           -4.4157427,
           "ADDED",
           "events_venue"
          ],
          [
           36.7301,
           -4.4157637,
           "ADDED",
           "hairdresser"
          ],
          [
           36.7301895,
           -4.4158084,
           "ADDED",
           "company"
          ],
          [
           36.730222,
           -4.4158337,
           "ADDED",
           "furniture"
          ],
          [
           36.7302643,
           -4.4156653,
           "ADDED",
           "property_management"
          ],
          [
           36.7303084,
           -4.4158822,
           "ADDED",
           "beauty"
          ],
          [
           36.7304998,
           -4.4159886,
           "ADDED",
           "bakery"
          ],
          [
           36.7305283,
           -4.4160086,
           "ADDED",
           "greengrocer"
          ],
          [
           36.7306423,
           -4.4158867,
           "ADDED",
           "cafe"
          ],
          [
           36.7305718,
           -4.4160356,
           "ADDED",
           "hairdresser"
          ],
          [
           36.7306055,
           -4.4160611,
           "ADDED",
           "beauty"
          ],
          [
           36.7306527,
           -4.4160839,
           "ADDED",
           "company"
          ],
          [
           36.7307382,
           -4.4161145,
           "ADDED",
           "association"
          ],
          [
           36.7308241,
           -4.4159739,
           "ADDED",
           "glaziery"
          ],
          [
           36.7309243,
           -4.4160216,
           "ADDED",
           "gift"
          ],
          [
           36.7309461,
           -4.4157205,
           "ADDED",
           "music_school"
          ],
          [
           36.7307241,
           -4.4154234,
           "ADDED",
           "estate_agent"
          ],
          [
           36.730995,
           -4.4153002,
           "ADDED",
           "hairdresser"
          ],
          [
           36.731147,
           -4.41533,
           "ADDED",
           "estate_agent"
          ],
          [
           36.7292444,
           -4.4145341,
           "ADDED",
           "cafe"
          ],
          [
           36.7267074,
           -4.4145364,
           "ADDED",
           "bakery"
          ],
          [
           36.7264065,
           -4.4149093,
           "ADDED",
           "photographer"
          ],
          [
           36.726367,
           -4.4149608,
           "ADDED",
           "florist"
          ],
          [
           36.7296491,
           -4.415954,
           "ADDED",
           "beauty"
          ],
          [
           36.7296773,
           -4.4159663,
           "ADDED",
           "hairdresser"
          ],
          [
           36.729588,
           -4.4159397,
           "ADDED",
           "greengrocer"
          ],
          [
           36.7294779,
           -4.416139,
           "ADDED",
           "frozen_food"
          ],
          [
           36.7295154,
           -4.4161523,
           "ADDED",
           "laundry"
          ],
          [
           36.7295872,
           -4.4161688,
           "ADDED",
           "hairdresser"
          ],
          [
           36.7296172,
           -4.4161818,
           "ADDED",
           "bakery"
          ],
          [
           36.729798,
           -4.4162319,
           "ADDED",
           "convenience"
          ],
          [
           36.729938,
           -4.4162689,
           "ADDED",
           "bakery"
          ],
          [
           36.7299176,
           -4.4163674,
           "ADDED",
           "hairdresser"
          ],
          [
           36.7298108,
           -4.4158805,
           "ADDED",
           "cafe"
          ],
          [
           36.7300062,
           -4.4158913,
           "ADDED",
           "hairdresser"
          ],
          [
           36.7302317,
           -4.4163531,
           "ADDED",
           "electrician"
          ],
          [
           36.7302931,
           -4.4163797,
           "ADDED",
           "hairdresser"
          ],
          [
           36.7302704,
           -4.4160868,
           "ADDED",
           "cafe"
          ],
          [
           36.7303489,
           -4.4161242,
           "ADDED",
           "prep_school"
          ],
          [
           36.7307037,
           -4.4162408,
           "ADDED",
           "car_repair"
          ],
          [
           36.7295038,
           -4.416357,
           "ADDED",
           "place_of_worship"
          ],
          [
           36.7306808,
           -4.4163343,
           "ADDED",
           "ceramic_painting"
          ],
          [
           36.7297716,
           -4.4134505,
           "ADDED",
           "guest_house"
          ],
          [
           36.7291636,
           -4.4154575,
           "ADDED",
           "storage_rental"
          ],
          [
           36.7281254,
           -4.4142799,
           "ADDED",
           "graphic_design"
          ],
          [
           36.7232268,
           -4.4165436,
           "ADDED",
           "social_facility"
          ],
          [
           36.7231386,
           -4.4166065,
           "ADDED",
           "escape_game"
          ],
          [
           36.72318,
           -4.4165805,
           "ADDED",
           "trade_school"
          ],
          [
           36.7231604,
           -4.4165921,
           "ADDED",
           "photographer"
          ],
          [
           36.7272149,
           -4.414536,
           "ADDED",
           "apartment"
          ]
         ],
         "hovertemplate": "<b>%{hovertext}</b><br><br>comparison=%{customdata[2]}<br>feature_value=%{customdata[3]}<extra></extra>",
         "hovertext": [
          "Calzados Yeves Martín",
          "Clarel",
          "Malaka",
          "Rocío",
          "Jesús Jiménez",
          "Kleos",
          "ReparAuto",
          "Centro Médico Alborán",
          "Supermercado Victoria",
          "El Montecillo",
          "Leo Mora",
          "LeoVegas",
          "Ultramarinos Maribel",
          "Trini Molto",
          "MR",
          "Blue Castle",
          "La Sede",
          "",
          "",
          "Ferretería Juan",
          "Montón y Jurado",
          "Gesa Mediación",
          "Edita y Libreta",
          "Atípico Vintage",
          "",
          "Paula Lupiañez Tattoo",
          "Federación Malagueña de Peñas",
          "Clínica Victoria",
          "Alnatura",
          "Clan of Beauty",
          "Fruteria Cenia",
          "Loterías y Apuestas del Estado",
          "Mapfre",
          "Check In Loft",
          "Estudio 4.11",
          "Fermento",
          "Instituto Municipal para la Formación y el Empleo",
          "Notting Hill",
          "Airgestión",
          "Alberto Zurita",
          "Bostar Bio",
          "El Cuartel",
          "Congelados Ana Martínez",
          "Chepina",
          "El Portal",
          "El Bar de Chema",
          "De Alcazar",
          "Adyco",
          "Generali",
          "El Oráculo",
          "Cofradía El Rico",
          "Abriza",
          "Hermandad de la Humildad",
          "Residencia Femenina María Inmaculada",
          "Centro de Atención Temprana",
          "Futura Idiomas",
          "MIB Mobility",
          "Centro de Recuperación y Especialidades Victoria",
          "Solo de Zaldívar",
          "Habitaria",
          "Yeka",
          "Pelayo",
          "FK Beauty Salon",
          "El Costurero de Mar Abad",
          "Centro Adai",
          "My Cat Tattoo Studio",
          "Granja San Antón II",
          "Evacocina",
          "El Taller de Maria",
          "Pulcino Pizza",
          "Trasteros Málaga Capital",
          "Odontoss",
          "Frutería Niño Esperanza",
          "A R",
          "",
          "Balbas",
          "La Buena Hierba",
          "A Mano",
          "Vitaldent",
          "Casa Vázquez",
          "Patitas",
          "Pahema",
          "Autoescuelas Correcaminos",
          "Paimalandia",
          "Noches de Taberna",
          "Claritravels",
          "Frutería La Familia",
          "Brico Planet",
          "Estilos",
          "Asociación Peluqueros De Señoras",
          "Peluquería Mehdi",
          "Wine Gogh",
          "Mary",
          "Planificación de Servicios Malagueños S.L.",
          "Biofamily Home",
          "Alejandro Pestaña Santiesteban",
          "Piel de Melocotón",
          "La Divina Providencia",
          "Frutería Eduardo",
          "Alhama",
          "Barber Shop Higham",
          "Mimi Estética",
          "Grupo S2",
          "Asociación Española Bugei Ju-jitsu",
          "José Luis Camacho",
          "Pasitos",
          "Cecilia Gallego",
          "M1 Inmobiliaria",
          "Peluquería Conchi Garcia",
          "Qube Inmobiliaria",
          "De Gustar",
          "Nueva Brisa",
          "Segovia Estudio",
          "La Victoria",
          "Tania Nails",
          "Peluquería Rosa Gálvez",
          "La Huerta de Inma",
          "Congelados Fruto",
          "La Wash",
          "El Barrio",
          "Elena",
          "",
          "Panadería La Cesta",
          "Lidia Muñoz Estilistas",
          "Victoria Bar",
          "Marina Gómez",
          "Instalaciones Rayma S.L.",
          "Peluquería Hermanos Llamas",
          "Jardín de Nani",
          "Studento",
          "Talleres Fernanz",
          "",
          "",
          "Málaga Lodge",
          "Trastero Sur",
          "Sprint Service",
          "Andalucía Diversidad LGBT",
          "Parapark Málaga Escape Room",
          "Miyale",
          "Iris Photo Málaga",
          ""
         ],
         "lat": [
          36.7262827,
          36.7260662,
          36.7274522,
          36.7267947,
          36.7290856,
          36.7288169,
          36.7306878,
          36.7301609,
          36.7253496,
          36.7272782,
          36.7233685,
          36.7236141,
          36.7265978,
          36.7286849,
          36.7274418,
          36.7301814,
          36.7281683,
          36.727799,
          36.7265706,
          36.7283204,
          36.7286959,
          36.7286146,
          36.7278282,
          36.7242829,
          36.7238873,
          36.7241156,
          36.7242004,
          36.7241269,
          36.7238661,
          36.7245586,
          36.7246119,
          36.7248707,
          36.7248307,
          36.7255191,
          36.725566,
          36.7254911,
          36.7237719,
          36.7256367,
          36.7259326,
          36.7259796,
          36.7260107,
          36.722665,
          36.7311192,
          36.7311295,
          36.7311344,
          36.7311423,
          36.7311538,
          36.7312475,
          36.7312564,
          36.7249473,
          36.7234788,
          36.7270299,
          36.7257947,
          36.7253537,
          36.7285243,
          36.7273111,
          36.7259978,
          36.7293014,
          36.7290665,
          36.7291585,
          36.728894,
          36.7289501,
          36.7289363,
          36.7288141,
          36.7287576,
          36.7284184,
          36.7295613,
          36.7296975,
          36.7293881,
          36.7298241,
          36.7303498,
          36.731275,
          36.7310155,
          36.7309463,
          36.730921,
          36.7308871,
          36.730629,
          36.7303924,
          36.7298654,
          36.729811,
          36.7296168,
          36.7299057,
          36.7300685,
          36.7301913,
          36.7309544,
          36.7308908,
          36.7308277,
          36.7296334,
          36.7296908,
          36.72973,
          36.7299333,
          36.7300488,
          36.7301,
          36.7301895,
          36.730222,
          36.7302643,
          36.7303084,
          36.7304998,
          36.7305283,
          36.7306423,
          36.7305718,
          36.7306055,
          36.7306527,
          36.7307382,
          36.7308241,
          36.7309243,
          36.7309461,
          36.7307241,
          36.730995,
          36.731147,
          36.7292444,
          36.7267074,
          36.7264065,
          36.726367,
          36.7296491,
          36.7296773,
          36.729588,
          36.7294779,
          36.7295154,
          36.7295872,
          36.7296172,
          36.729798,
          36.729938,
          36.7299176,
          36.7298108,
          36.7300062,
          36.7302317,
          36.7302931,
          36.7302704,
          36.7303489,
          36.7307037,
          36.7295038,
          36.7306808,
          36.7297716,
          36.7291636,
          36.7281254,
          36.7232268,
          36.7231386,
          36.72318,
          36.7231604,
          36.7272149
         ],
         "legendgroup": "ADDED",
         "lon": [
          -4.4141821,
          -4.4143256,
          -4.4134788,
          -4.4136141,
          -4.4138384,
          -4.4137668,
          -4.4143324,
          -4.4140118,
          -4.4150934,
          -4.4092557,
          -4.4164358,
          -4.4162565,
          -4.4143497,
          -4.4138503,
          -4.4122322,
          -4.4105087,
          -4.413012,
          -4.4130564,
          -4.4143082,
          -4.4134773,
          -4.4139129,
          -4.4141341,
          -4.4143892,
          -4.4159224,
          -4.4160466,
          -4.4160633,
          -4.4160006,
          -4.415863,
          -4.4160605,
          -4.415705,
          -4.4154695,
          -4.4152634,
          -4.4152889,
          -4.4149436,
          -4.4149066,
          -4.4147695,
          -4.4163308,
          -4.4146469,
          -4.4144287,
          -4.4144005,
          -4.4143747,
          -4.4160215,
          -4.4163121,
          -4.4159583,
          -4.4159191,
          -4.4158768,
          -4.4158005,
          -4.4154881,
          -4.4153748,
          -4.4152027,
          -4.4163642,
          -4.4122538,
          -4.4144275,
          -4.414883,
          -4.4136697,
          -4.4143281,
          -4.4145824,
          -4.4139404,
          -4.4142983,
          -4.4144349,
          -4.4145886,
          -4.4147497,
          -4.4147975,
          -4.4149811,
          -4.4149666,
          -4.414884,
          -4.4138461,
          -4.4140406,
          -4.4141748,
          -4.4143503,
          -4.414249,
          -4.4150743,
          -4.4150354,
          -4.415022,
          -4.4150168,
          -4.4150101,
          -4.4149519,
          -4.4148981,
          -4.4147286,
          -4.4147154,
          -4.4163911,
          -4.416471,
          -4.4165385,
          -4.4165834,
          -4.4162081,
          -4.4161879,
          -4.4163497,
          -4.4155479,
          -4.4155761,
          -4.4153763,
          -4.4154808,
          -4.4157427,
          -4.4157637,
          -4.4158084,
          -4.4158337,
          -4.4156653,
          -4.4158822,
          -4.4159886,
          -4.4160086,
          -4.4158867,
          -4.4160356,
          -4.4160611,
          -4.4160839,
          -4.4161145,
          -4.4159739,
          -4.4160216,
          -4.4157205,
          -4.4154234,
          -4.4153002,
          -4.41533,
          -4.4145341,
          -4.4145364,
          -4.4149093,
          -4.4149608,
          -4.415954,
          -4.4159663,
          -4.4159397,
          -4.416139,
          -4.4161523,
          -4.4161688,
          -4.4161818,
          -4.4162319,
          -4.4162689,
          -4.4163674,
          -4.4158805,
          -4.4158913,
          -4.4163531,
          -4.4163797,
          -4.4160868,
          -4.4161242,
          -4.4162408,
          -4.416357,
          -4.4163343,
          -4.4134505,
          -4.4154575,
          -4.4142799,
          -4.4165436,
          -4.4166065,
          -4.4165805,
          -4.4165921,
          -4.414536
         ],
         "marker": {
          "color": "#EF553B",
          "size": 10
         },
         "mode": "markers",
         "name": "ADDED",
         "showlegend": true,
         "subplot": "map",
         "type": "scattermap"
        },
        {
         "customdata": [
          [
           36.724624,
           -4.4145925,
           "REMOVED",
           "hotel"
          ],
          [
           36.7250151,
           -4.4151481,
           "REMOVED",
           "hairdresser"
          ],
          [
           36.7247603,
           -4.4153463,
           "REMOVED",
           "clothes"
          ],
          [
           36.7273672,
           -4.4134995,
           "REMOVED",
           "cafe"
          ],
          [
           36.7279475,
           -4.414262,
           "REMOVED",
           "restaurant"
          ],
          [
           36.7277296,
           -4.414238,
           "REMOVED",
           "fast_food"
          ],
          [
           36.7289538,
           -4.4146761,
           "REMOVED",
           "bakery"
          ],
          [
           36.7288083,
           -4.4145565,
           "REMOVED",
           "clothes"
          ],
          [
           36.7296331,
           -4.4143775,
           "REMOVED",
           "travel_agency"
          ],
          [
           36.7271672,
           -4.4122373,
           "REMOVED",
           "deli"
          ],
          [
           36.7299257,
           -4.4150523,
           "REMOVED",
           "bank"
          ],
          [
           36.730802,
           -4.4149702,
           "REMOVED",
           "perfumery"
          ],
          [
           36.7303069,
           -4.4148482,
           "REMOVED",
           "hardware"
          ],
          [
           36.730265,
           -4.4151312,
           "REMOVED",
           "herbalist"
          ],
          [
           36.7265207,
           -4.4147954,
           "REMOVED",
           "electrical"
          ],
          [
           36.7285839,
           -4.4144659,
           "REMOVED",
           "clothes"
          ]
         ],
         "hovertemplate": "<b>%{hovertext}</b><br><br>comparison=%{customdata[2]}<br>feature_value=%{customdata[3]}<extra></extra>",
         "hovertext": [
          "Victoria Apartamentos",
          "Nuria Moreno",
          "The Park",
          "Bar los del Colmenar",
          "Como en Casa",
          "Al Andalus",
          "",
          "Concha González",
          "Escapat Viajes",
          "Don Miguel",
          "Banco Santander",
          "Súper Perfumerías",
          "Ferretería Valero",
          "La Buena Hierba",
          "Moreno Robledo",
          "Tábata"
         ],
         "lat": [
          36.724624,
          36.7250151,
          36.7247603,
          36.7273672,
          36.7279475,
          36.7277296,
          36.7289538,
          36.7288083,
          36.7296331,
          36.7271672,
          36.7299257,
          36.730802,
          36.7303069,
          36.730265,
          36.7265207,
          36.7285839
         ],
         "legendgroup": "REMOVED",
         "lon": [
          -4.4145925,
          -4.4151481,
          -4.4153463,
          -4.4134995,
          -4.414262,
          -4.414238,
          -4.4146761,
          -4.4145565,
          -4.4143775,
          -4.4122373,
          -4.4150523,
          -4.4149702,
          -4.4148482,
          -4.4151312,
          -4.4147954,
          -4.4144659
         ],
         "marker": {
          "color": "#00cc96",
          "size": 10
         },
         "mode": "markers",
         "name": "REMOVED",
         "showlegend": true,
         "subplot": "map",
         "type": "scattermap"
        },
        {
         "customdata": [
          [
           36.7310683,
           -4.4153204,
           "POI TYPE CHANGE",
           "art"
          ],
          [
           36.7311135,
           -4.4153193,
           "POI TYPE CHANGE",
           "travel_agency"
          ],
          [
           36.7257672,
           -4.4145527,
           "POI TYPE CHANGE",
           "restaurant"
          ],
          [
           36.7255745,
           -4.4146911,
           "POI TYPE CHANGE",
           "shoes"
          ],
          [
           36.7249803,
           -4.4151709,
           "POI TYPE CHANGE",
           "supermarket"
          ],
          [
           36.724655,
           -4.4154341,
           "POI TYPE CHANGE",
           "coworking"
          ],
          [
           36.7233366,
           -4.4164698,
           "POI TYPE CHANGE",
           "fast_food"
          ],
          [
           36.7232841,
           -4.4164974,
           "POI TYPE CHANGE",
           "fast_food"
          ],
          [
           36.7240248,
           -4.4159297,
           "POI TYPE CHANGE",
           "fitness_centre"
          ],
          [
           36.7262044,
           -4.4142291,
           "POI TYPE CHANGE",
           "collector"
          ],
          [
           36.7257699,
           -4.4147689,
           "POI TYPE CHANGE",
           "fast_food"
          ],
          [
           36.7278285,
           -4.4142513,
           "POI TYPE CHANGE",
           "centre"
          ],
          [
           36.7276912,
           -4.4142311,
           "POI TYPE CHANGE",
           "pub"
          ],
          [
           36.7288849,
           -4.4148565,
           "POI TYPE CHANGE",
           "cafe"
          ],
          [
           36.7288663,
           -4.414578,
           "POI TYPE CHANGE",
           "hairdresser"
          ],
          [
           36.7291645,
           -4.4145143,
           "POI TYPE CHANGE",
           "fitness_centre"
          ],
          [
           36.7292079,
           -4.4142621,
           "POI TYPE CHANGE",
           "pet_grooming"
          ],
          [
           36.729376,
           -4.4145646,
           "POI TYPE CHANGE",
           "architect"
          ],
          [
           36.7291121,
           -4.4152841,
           "POI TYPE CHANGE",
           "party"
          ],
          [
           36.7290633,
           -4.4152595,
           "POI TYPE CHANGE",
           "fitness_centre"
          ],
          [
           36.7299643,
           -4.4150647,
           "POI TYPE CHANGE",
           "fast_food"
          ],
          [
           36.7295267,
           -4.4156225,
           "POI TYPE CHANGE",
           "photographer"
          ],
          [
           36.7309911,
           -4.4150314,
           "POI TYPE CHANGE",
           "laundry"
          ],
          [
           36.7304781,
           -4.414913,
           "POI TYPE CHANGE",
           "hairdresser"
          ],
          [
           36.7302305,
           -4.414855,
           "POI TYPE CHANGE",
           "variety_store"
          ],
          [
           36.7299698,
           -4.4147619,
           "POI TYPE CHANGE",
           "clothes"
          ],
          [
           36.7276111,
           -4.4143949,
           "POI TYPE CHANGE",
           "e-cigarette"
          ],
          [
           36.7290903,
           -4.4142168,
           "POI TYPE CHANGE",
           "physiotherapist"
          ]
         ],
         "hovertemplate": "<b>%{hovertext}</b><br><br>comparison=%{customdata[2]}<br>feature_value=%{customdata[3]}<extra></extra>",
         "hovertext": [
          "El Escaparate",
          "Aries",
          "Fausto's Grill",
          "Caminamos",
          "Biomilanes",
          "Neurona Center",
          "La Posada de Carmen",
          "Ali Baba",
          "Upgrade",
          "Fanátiko",
          "El Ombú",
          "Centro Médico Conductores",
          "Enrique",
          "La Tasquita del Pana",
          "Peluquería Essencia",
          "Box And One",
          "El Rincón de Luna",
          "Darconsa",
          "Mundo de Fantasía",
          "Fisio360",
          "Mr Kebab",
          "Salcedo Fotografía",
          "Blanco Facil",
          "Peluquería Low Cost",
          "Home City",
          "Quinoa",
          "Malakavape",
          "Ares Studio"
         ],
         "lat": [
          36.7310683,
          36.7311135,
          36.7257672,
          36.7255745,
          36.7249803,
          36.724655,
          36.7233366,
          36.7232841,
          36.7240248,
          36.7262044,
          36.7257699,
          36.7278285,
          36.7276912,
          36.7288849,
          36.7288663,
          36.7291645,
          36.7292079,
          36.729376,
          36.7291121,
          36.7290633,
          36.7299643,
          36.7295267,
          36.7309911,
          36.7304781,
          36.7302305,
          36.7299698,
          36.7276111,
          36.7290903
         ],
         "legendgroup": "POI TYPE CHANGE",
         "lon": [
          -4.4153204,
          -4.4153193,
          -4.4145527,
          -4.4146911,
          -4.4151709,
          -4.4154341,
          -4.4164698,
          -4.4164974,
          -4.4159297,
          -4.4142291,
          -4.4147689,
          -4.4142513,
          -4.4142311,
          -4.4148565,
          -4.414578,
          -4.4145143,
          -4.4142621,
          -4.4145646,
          -4.4152841,
          -4.4152595,
          -4.4150647,
          -4.4156225,
          -4.4150314,
          -4.414913,
          -4.414855,
          -4.4147619,
          -4.4143949,
          -4.4142168
         ],
         "marker": {
          "color": "#ab63fa",
          "size": 10
         },
         "mode": "markers",
         "name": "POI TYPE CHANGE",
         "showlegend": true,
         "subplot": "map",
         "type": "scattermap"
        },
        {
         "customdata": [
          [
           36.7247583,
           -4.4155466,
           "NAME CHANGE",
           "dentist"
          ],
          [
           36.7244672,
           -4.4158307,
           "NAME CHANGE",
           "bakery"
          ],
          [
           36.7258217,
           -4.4147202,
           "NAME CHANGE",
           "fast_food"
          ],
          [
           36.7282372,
           -4.41323,
           "NAME CHANGE",
           "restaurant"
          ],
          [
           36.7284078,
           -4.4134655,
           "NAME CHANGE",
           "restaurant"
          ],
          [
           36.7296907,
           -4.4141068,
           "NAME CHANGE",
           "hairdresser"
          ],
          [
           36.7296066,
           -4.414458,
           "NAME CHANGE",
           "estate_agent"
          ],
          [
           36.7300007,
           -4.4159928,
           "NAME CHANGE",
           "restaurant"
          ],
          [
           36.7298176,
           -4.4158152,
           "NAME CHANGE",
           "ice_cream"
          ],
          [
           36.729504,
           -4.4157132,
           "NAME CHANGE",
           "butcher"
          ],
          [
           36.7270906,
           -4.4126052,
           "NAME CHANGE",
           "dressmaker"
          ],
          [
           36.7280083,
           -4.4142669,
           "NAME CHANGE",
           "hairdresser"
          ],
          [
           36.7278921,
           -4.4143832,
           "NAME CHANGE",
           "estate_agent"
          ],
          [
           36.7282181,
           -4.4114447,
           "NAME CHANGE",
           "hostel"
          ]
         ],
         "hovertemplate": "<b>%{hovertext}</b><br><br>comparison=%{customdata[2]}<br>feature_value=%{customdata[3]}<extra></extra>",
         "hovertext": [
          "Kantis",
          "La Ventana",
          "Rey Istanbul Kebab",
          "Grano Puro",
          "Bodeguilla El Hueco",
          "Pablo Compón",
          "La Finca",
          "La Casita de Maykel",
          "Nicolino",
          "Carnícas Matahambre",
          "Waffa Moda",
          "Genoveses Chicano",
          "Grupo Modernia",
          "Barbatuke Bed & Bike"
         ],
         "lat": [
          36.7247583,
          36.7244672,
          36.7258217,
          36.7282372,
          36.7284078,
          36.7296907,
          36.7296066,
          36.7300007,
          36.7298176,
          36.729504,
          36.7270906,
          36.7280083,
          36.7278921,
          36.7282181
         ],
         "legendgroup": "NAME CHANGE",
         "lon": [
          -4.4155466,
          -4.4158307,
          -4.4147202,
          -4.41323,
          -4.4134655,
          -4.4141068,
          -4.414458,
          -4.4159928,
          -4.4158152,
          -4.4157132,
          -4.4126052,
          -4.4142669,
          -4.4143832,
          -4.4114447
         ],
         "marker": {
          "color": "#FFA15A",
          "size": 10
         },
         "mode": "markers",
         "name": "NAME CHANGE",
         "showlegend": true,
         "subplot": "map",
         "type": "scattermap"
        }
       ],
       "layout": {
        "legend": {
         "title": {
          "text": "COMPARISON STATUS"
         },
         "tracegroupgap": 0
        },
        "map": {
         "center": {
          "lat": 36.72802500955882,
          "lon": -4.414563875245098
         },
         "domain": {
          "x": [
           0,
           1
          ],
          "y": [
           0,
           1
          ]
         },
         "zoom": 15
        },
        "mapbox": {
         "center": {
          "lat": 36.72802500955882,
          "lon": -4.414563875245098
         },
         "zoom": 15
        },
        "margin": {
         "b": 10,
         "l": 10,
         "r": 10,
         "t": 60
        },
        "template": {
         "data": {
          "bar": [
           {
            "error_x": {
             "color": "#2a3f5f"
            },
            "error_y": {
             "color": "#2a3f5f"
            },
            "marker": {
             "line": {
              "color": "#E5ECF6",
              "width": 0.5
             },
             "pattern": {
              "fillmode": "overlay",
              "size": 10,
              "solidity": 0.2
             }
            },
            "type": "bar"
           }
          ],
          "barpolar": [
           {
            "marker": {
             "line": {
              "color": "#E5ECF6",
              "width": 0.5
             },
             "pattern": {
              "fillmode": "overlay",
              "size": 10,
              "solidity": 0.2
             }
            },
            "type": "barpolar"
           }
          ],
          "carpet": [
           {
            "aaxis": {
             "endlinecolor": "#2a3f5f",
             "gridcolor": "white",
             "linecolor": "white",
             "minorgridcolor": "white",
             "startlinecolor": "#2a3f5f"
            },
            "baxis": {
             "endlinecolor": "#2a3f5f",
             "gridcolor": "white",
             "linecolor": "white",
             "minorgridcolor": "white",
             "startlinecolor": "#2a3f5f"
            },
            "type": "carpet"
           }
          ],
          "choropleth": [
           {
            "colorbar": {
             "outlinewidth": 0,
             "ticks": ""
            },
            "type": "choropleth"
           }
          ],
          "contour": [
           {
            "colorbar": {
             "outlinewidth": 0,
             "ticks": ""
            },
            "colorscale": [
             [
              0,
              "#0d0887"
             ],
             [
              0.1111111111111111,
              "#46039f"
             ],
             [
              0.2222222222222222,
              "#7201a8"
             ],
             [
              0.3333333333333333,
              "#9c179e"
             ],
             [
              0.4444444444444444,
              "#bd3786"
             ],
             [
              0.5555555555555556,
              "#d8576b"
             ],
             [
              0.6666666666666666,
              "#ed7953"
             ],
             [
              0.7777777777777778,
              "#fb9f3a"
             ],
             [
              0.8888888888888888,
              "#fdca26"
             ],
             [
              1,
              "#f0f921"
             ]
            ],
            "type": "contour"
           }
          ],
          "contourcarpet": [
           {
            "colorbar": {
             "outlinewidth": 0,
             "ticks": ""
            },
            "type": "contourcarpet"
           }
          ],
          "heatmap": [
           {
            "colorbar": {
             "outlinewidth": 0,
             "ticks": ""
            },
            "colorscale": [
             [
              0,
              "#0d0887"
             ],
             [
              0.1111111111111111,
              "#46039f"
             ],
             [
              0.2222222222222222,
              "#7201a8"
             ],
             [
              0.3333333333333333,
              "#9c179e"
             ],
             [
              0.4444444444444444,
              "#bd3786"
             ],
             [
              0.5555555555555556,
              "#d8576b"
             ],
             [
              0.6666666666666666,
              "#ed7953"
             ],
             [
              0.7777777777777778,
              "#fb9f3a"
             ],
             [
              0.8888888888888888,
              "#fdca26"
             ],
             [
              1,
              "#f0f921"
             ]
            ],
            "type": "heatmap"
           }
          ],
          "heatmapgl": [
           {
            "colorbar": {
             "outlinewidth": 0,
             "ticks": ""
            },
            "colorscale": [
             [
              0,
              "#0d0887"
             ],
             [
              0.1111111111111111,
              "#46039f"
             ],
             [
              0.2222222222222222,
              "#7201a8"
             ],
             [
              0.3333333333333333,
              "#9c179e"
             ],
             [
              0.4444444444444444,
              "#bd3786"
             ],
             [
              0.5555555555555556,
              "#d8576b"
             ],
             [
              0.6666666666666666,
              "#ed7953"
             ],
             [
              0.7777777777777778,
              "#fb9f3a"
             ],
             [
              0.8888888888888888,
              "#fdca26"
             ],
             [
              1,
              "#f0f921"
             ]
            ],
            "type": "heatmapgl"
           }
          ],
          "histogram": [
           {
            "marker": {
             "pattern": {
              "fillmode": "overlay",
              "size": 10,
              "solidity": 0.2
             }
            },
            "type": "histogram"
           }
          ],
          "histogram2d": [
           {
            "colorbar": {
             "outlinewidth": 0,
             "ticks": ""
            },
            "colorscale": [
             [
              0,
              "#0d0887"
             ],
             [
              0.1111111111111111,
              "#46039f"
             ],
             [
              0.2222222222222222,
              "#7201a8"
             ],
             [
              0.3333333333333333,
              "#9c179e"
             ],
             [
              0.4444444444444444,
              "#bd3786"
             ],
             [
              0.5555555555555556,
              "#d8576b"
             ],
             [
              0.6666666666666666,
              "#ed7953"
             ],
             [
              0.7777777777777778,
              "#fb9f3a"
             ],
             [
              0.8888888888888888,
              "#fdca26"
             ],
             [
              1,
              "#f0f921"
             ]
            ],
            "type": "histogram2d"
           }
          ],
          "histogram2dcontour": [
           {
            "colorbar": {
             "outlinewidth": 0,
             "ticks": ""
            },
            "colorscale": [
             [
              0,
              "#0d0887"
             ],
             [
              0.1111111111111111,
              "#46039f"
             ],
             [
              0.2222222222222222,
              "#7201a8"
             ],
             [
              0.3333333333333333,
              "#9c179e"
             ],
             [
              0.4444444444444444,
              "#bd3786"
             ],
             [
              0.5555555555555556,
              "#d8576b"
             ],
             [
              0.6666666666666666,
              "#ed7953"
             ],
             [
              0.7777777777777778,
              "#fb9f3a"
             ],
             [
              0.8888888888888888,
              "#fdca26"
             ],
             [
              1,
              "#f0f921"
             ]
            ],
            "type": "histogram2dcontour"
           }
          ],
          "mesh3d": [
           {
            "colorbar": {
             "outlinewidth": 0,
             "ticks": ""
            },
            "type": "mesh3d"
           }
          ],
          "parcoords": [
           {
            "line": {
             "colorbar": {
              "outlinewidth": 0,
              "ticks": ""
             }
            },
            "type": "parcoords"
           }
          ],
          "pie": [
           {
            "automargin": true,
            "type": "pie"
           }
          ],
          "scatter": [
           {
            "fillpattern": {
             "fillmode": "overlay",
             "size": 10,
             "solidity": 0.2
            },
            "type": "scatter"
           }
          ],
          "scatter3d": [
           {
            "line": {
             "colorbar": {
              "outlinewidth": 0,
              "ticks": ""
             }
            },
            "marker": {
             "colorbar": {
              "outlinewidth": 0,
              "ticks": ""
             }
            },
            "type": "scatter3d"
           }
          ],
          "scattercarpet": [
           {
            "marker": {
             "colorbar": {
              "outlinewidth": 0,
              "ticks": ""
             }
            },
            "type": "scattercarpet"
           }
          ],
          "scattergeo": [
           {
            "marker": {
             "colorbar": {
              "outlinewidth": 0,
              "ticks": ""
             }
            },
            "type": "scattergeo"
           }
          ],
          "scattergl": [
           {
            "marker": {
             "colorbar": {
              "outlinewidth": 0,
              "ticks": ""
             }
            },
            "type": "scattergl"
           }
          ],
          "scattermapbox": [
           {
            "marker": {
             "colorbar": {
              "outlinewidth": 0,
              "ticks": ""
             }
            },
            "type": "scattermapbox"
           }
          ],
          "scatterpolar": [
           {
            "marker": {
             "colorbar": {
              "outlinewidth": 0,
              "ticks": ""
             }
            },
            "type": "scatterpolar"
           }
          ],
          "scatterpolargl": [
           {
            "marker": {
             "colorbar": {
              "outlinewidth": 0,
              "ticks": ""
             }
            },
            "type": "scatterpolargl"
           }
          ],
          "scatterternary": [
           {
            "marker": {
             "colorbar": {
              "outlinewidth": 0,
              "ticks": ""
             }
            },
            "type": "scatterternary"
           }
          ],
          "surface": [
           {
            "colorbar": {
             "outlinewidth": 0,
             "ticks": ""
            },
            "colorscale": [
             [
              0,
              "#0d0887"
             ],
             [
              0.1111111111111111,
              "#46039f"
             ],
             [
              0.2222222222222222,
              "#7201a8"
             ],
             [
              0.3333333333333333,
              "#9c179e"
             ],
             [
              0.4444444444444444,
              "#bd3786"
             ],
             [
              0.5555555555555556,
              "#d8576b"
             ],
             [
              0.6666666666666666,
              "#ed7953"
             ],
             [
              0.7777777777777778,
              "#fb9f3a"
             ],
             [
              0.8888888888888888,
              "#fdca26"
             ],
             [
              1,
              "#f0f921"
             ]
            ],
            "type": "surface"
           }
          ],
          "table": [
           {
            "cells": {
             "fill": {
              "color": "#EBF0F8"
             },
             "line": {
              "color": "white"
             }
            },
            "header": {
             "fill": {
              "color": "#C8D4E3"
             },
             "line": {
              "color": "white"
             }
            },
            "type": "table"
           }
          ]
         },
         "layout": {
          "annotationdefaults": {
           "arrowcolor": "#2a3f5f",
           "arrowhead": 0,
           "arrowwidth": 1
          },
          "autotypenumbers": "strict",
          "coloraxis": {
           "colorbar": {
            "outlinewidth": 0,
            "ticks": ""
           }
          },
          "colorscale": {
           "diverging": [
            [
             0,
             "#8e0152"
            ],
            [
             0.1,
             "#c51b7d"
            ],
            [
             0.2,
             "#de77ae"
            ],
            [
             0.3,
             "#f1b6da"
            ],
            [
             0.4,
             "#fde0ef"
            ],
            [
             0.5,
             "#f7f7f7"
            ],
            [
             0.6,
             "#e6f5d0"
            ],
            [
             0.7,
             "#b8e186"
            ],
            [
             0.8,
             "#7fbc41"
            ],
            [
             0.9,
             "#4d9221"
            ],
            [
             1,
             "#276419"
            ]
           ],
           "sequential": [
            [
             0,
             "#0d0887"
            ],
            [
             0.1111111111111111,
             "#46039f"
            ],
            [
             0.2222222222222222,
             "#7201a8"
            ],
            [
             0.3333333333333333,
             "#9c179e"
            ],
            [
             0.4444444444444444,
             "#bd3786"
            ],
            [
             0.5555555555555556,
             "#d8576b"
            ],
            [
             0.6666666666666666,
             "#ed7953"
            ],
            [
             0.7777777777777778,
             "#fb9f3a"
            ],
            [
             0.8888888888888888,
             "#fdca26"
            ],
            [
             1,
             "#f0f921"
            ]
           ],
           "sequentialminus": [
            [
             0,
             "#0d0887"
            ],
            [
             0.1111111111111111,
             "#46039f"
            ],
            [
             0.2222222222222222,
             "#7201a8"
            ],
            [
             0.3333333333333333,
             "#9c179e"
            ],
            [
             0.4444444444444444,
             "#bd3786"
            ],
            [
             0.5555555555555556,
             "#d8576b"
            ],
            [
             0.6666666666666666,
             "#ed7953"
            ],
            [
             0.7777777777777778,
             "#fb9f3a"
            ],
            [
             0.8888888888888888,
             "#fdca26"
            ],
            [
             1,
             "#f0f921"
            ]
           ]
          },
          "colorway": [
           "#636efa",
           "#EF553B",
           "#00cc96",
           "#ab63fa",
           "#FFA15A",
           "#19d3f3",
           "#FF6692",
           "#B6E880",
           "#FF97FF",
           "#FECB52"
          ],
          "font": {
           "color": "#2a3f5f"
          },
          "geo": {
           "bgcolor": "white",
           "lakecolor": "white",
           "landcolor": "#E5ECF6",
           "showlakes": true,
           "showland": true,
           "subunitcolor": "white"
          },
          "hoverlabel": {
           "align": "left"
          },
          "hovermode": "closest",
          "mapbox": {
           "style": "light"
          },
          "paper_bgcolor": "white",
          "plot_bgcolor": "#E5ECF6",
          "polar": {
           "angularaxis": {
            "gridcolor": "white",
            "linecolor": "white",
            "ticks": ""
           },
           "bgcolor": "#E5ECF6",
           "radialaxis": {
            "gridcolor": "white",
            "linecolor": "white",
            "ticks": ""
           }
          },
          "scene": {
           "xaxis": {
            "backgroundcolor": "#E5ECF6",
            "gridcolor": "white",
            "gridwidth": 2,
            "linecolor": "white",
            "showbackground": true,
            "ticks": "",
            "zerolinecolor": "white"
           },
           "yaxis": {
            "backgroundcolor": "#E5ECF6",
            "gridcolor": "white",
            "gridwidth": 2,
            "linecolor": "white",
            "showbackground": true,
            "ticks": "",
            "zerolinecolor": "white"
           },
           "zaxis": {
            "backgroundcolor": "#E5ECF6",
            "gridcolor": "white",
            "gridwidth": 2,
            "linecolor": "white",
            "showbackground": true,
            "ticks": "",
            "zerolinecolor": "white"
           }
          },
          "shapedefaults": {
           "line": {
            "color": "#2a3f5f"
           }
          },
          "ternary": {
           "aaxis": {
            "gridcolor": "white",
            "linecolor": "white",
            "ticks": ""
           },
           "baxis": {
            "gridcolor": "white",
            "linecolor": "white",
            "ticks": ""
           },
           "bgcolor": "#E5ECF6",
           "caxis": {
            "gridcolor": "white",
            "linecolor": "white",
            "ticks": ""
           }
          },
          "title": {
           "x": 0.05
          },
          "xaxis": {
           "automargin": true,
           "gridcolor": "white",
           "linecolor": "white",
           "ticks": "",
           "title": {
            "standoff": 15
           },
           "zerolinecolor": "white",
           "zerolinewidth": 2
          },
          "yaxis": {
           "automargin": true,
           "gridcolor": "white",
           "linecolor": "white",
           "ticks": "",
           "title": {
            "standoff": 15
           },
           "zerolinecolor": "white",
           "zerolinewidth": 2
          }
         }
        },
        "title": {
         "text": "Changes in POIs in La Victoria and nearby barrios (2024-08-15 to 2024-10-29)"
        }
       }
      }
     },
     "metadata": {},
     "output_type": "display_data"
    }
   ],
   "source": [
    "# Create the plot\n",
    "fig = create_scatter_plot(df, date_new, date_old)\n",
    "\n",
    "# save as html and display\n",
    "fig.write_html(output_file_html)\n",
    "fig.show()"
   ]
  },
  {
   "cell_type": "markdown",
   "metadata": {},
   "source": [
    "As I mentioned in Part 1, I've found the behaviour of Plotly figures within Jupyter Notebook difficult to control. If nothing appears here, open the output HTML file."
   ]
  },
  {
   "cell_type": "markdown",
   "metadata": {},
   "source": [
    "## Comparing over a longer time period"
   ]
  },
  {
   "cell_type": "markdown",
   "metadata": {},
   "source": [
    "The changes identified in the above analysis mainly relate to recent mapping activity, which has caught up with real-world changes over a longer period. I'd also like to look at changes over a longer period of 5 years, so I'm going to replace the \"old\" DataFrame with earlier data."
   ]
  },
  {
   "cell_type": "code",
   "execution_count": 25,
   "metadata": {},
   "outputs": [
    {
     "data": {
      "text/plain": [
       "237"
      ]
     },
     "execution_count": 25,
     "metadata": {},
     "output_type": "execute_result"
    }
   ],
   "source": [
    "date_old = '2019-10-29'\n",
    "df_old = get_POIs(date_old)\n",
    "len(df_old)"
   ]
  },
  {
   "cell_type": "markdown",
   "metadata": {},
   "source": [
    "There were 237 POIs in October 2019, compared to 267 and in August 2024 and 392 now. So mappers weren't completely inactive here up to August 2024 but new POIs were added relatively slowly. I can repeat the previous analysis, now looking at changes from October 2019 to October 2024:"
   ]
  },
  {
   "cell_type": "code",
   "execution_count": 26,
   "metadata": {},
   "outputs": [],
   "source": [
    "def get_combined_df(df_new1, df_old1):\n",
    "    # merge the two DataFrames\n",
    "    df = pd.merge(df_new1, df_old1, how='outer', on='full_id',\n",
    "                  suffixes=('_new', '_old'), indicator=True)\n",
    "\n",
    "    # assign status to each row\n",
    "    df.insert(0, 'comparison', '')\n",
    "    df['comparison'] = df.apply(assign_status, axis=1)\n",
    "\n",
    "    # create columns for plotting, using new value where available\n",
    "    plot_cols = ['lat', 'lon', 'name', 'feature_value']\n",
    "    plot_cols_new = ['lat_new', 'lon_new', 'name_new', 'feature_value_new']\n",
    "    plot_cols_old = ['lat_old', 'lon_old', 'name_old', 'feature_value_old']\n",
    "    df[plot_cols] = df[plot_cols_new].mask(\n",
    "        df['comparison'] == 'REMOVED', df[plot_cols_old], axis=0)\n",
    "\n",
    "    return df"
   ]
  },
  {
   "cell_type": "code",
   "execution_count": 27,
   "metadata": {},
   "outputs": [
    {
     "data": {
      "text/plain": [
       "comparison\n",
       "ADDED              197\n",
       "NO CHANGE          135\n",
       "REMOVED             42\n",
       "POI TYPE CHANGE     38\n",
       "NAME CHANGE         22\n",
       "Name: count, dtype: int64"
      ]
     },
     "execution_count": 27,
     "metadata": {},
     "output_type": "execute_result"
    }
   ],
   "source": [
    "df = get_combined_df(df_new, df_old)\n",
    "df.value_counts('comparison')"
   ]
  },
  {
   "cell_type": "code",
   "execution_count": 28,
   "metadata": {},
   "outputs": [],
   "source": [
    "output_file = 'compare-data-' + date_old + '-to-' + date_new\n",
    "output_file_csv = os.path.join(output_folder, output_file + '.csv')\n",
    "output_file_html = os.path.join(output_folder, output_file + '.html')\n",
    "\n",
    "df.to_csv(output_file_csv)"
   ]
  },
  {
   "cell_type": "markdown",
   "metadata": {},
   "source": [
    "I already know that many POIs that existed in 2019 were not mapped until recently, so I can't tell much from the totals. But I might be able to see some patterns in the POIs that were already mapped in 2019. I'm going to create a and plot a second DataFrame containing only those original points."
   ]
  },
  {
   "cell_type": "code",
   "execution_count": 29,
   "metadata": {},
   "outputs": [
    {
     "name": "stdout",
     "output_type": "stream",
     "text": [
      "237\n",
      "\n",
      "comparison\n",
      "NO CHANGE          135\n",
      "REMOVED             42\n",
      "POI TYPE CHANGE     38\n",
      "NAME CHANGE         22\n",
      "Name: count, dtype: int64\n"
     ]
    }
   ],
   "source": [
    "df2 = df[df['comparison'] != 'ADDED']\n",
    "print(len(df2))\n",
    "print()\n",
    "print(df2.value_counts('comparison'))"
   ]
  },
  {
   "cell_type": "code",
   "execution_count": 30,
   "metadata": {},
   "outputs": [
    {
     "data": {
      "application/vnd.plotly.v1+json": {
       "config": {
        "plotlyServerURL": "https://plot.ly"
       },
       "data": [
        {
         "customdata": [
          [
           36.7288656,
           -4.4126329,
           "REMOVED",
           "playground"
          ],
          [
           36.7241254,
           -4.4161967,
           "REMOVED",
           "bicycle"
          ],
          [
           36.724624,
           -4.4145925,
           "REMOVED",
           "hotel"
          ],
          [
           36.7269106,
           -4.4145188,
           "REMOVED",
           "taxi"
          ],
          [
           36.7271315,
           -4.413924,
           "REMOVED",
           "atm"
          ],
          [
           36.7271509,
           -4.4139267,
           "REMOVED",
           "bank"
          ],
          [
           36.7294939,
           -4.4148282,
           "REMOVED",
           "kiosk"
          ],
          [
           36.7306081,
           -4.4151512,
           "REMOVED",
           "kiosk"
          ],
          [
           36.7253727,
           -4.4150712,
           "REMOVED",
           "school"
          ],
          [
           36.7250151,
           -4.4151481,
           "REMOVED",
           "hairdresser"
          ],
          [
           36.7247603,
           -4.4153463,
           "REMOVED",
           "clothes"
          ],
          [
           36.7245977,
           -4.415686,
           "REMOVED",
           "clothes"
          ],
          [
           36.7236882,
           -4.4162053,
           "REMOVED",
           "copyshop"
          ],
          [
           36.7259539,
           -4.4146271,
           "REMOVED",
           "greengrocer"
          ],
          [
           36.7282826,
           -4.4132162,
           "REMOVED",
           "fast_food"
          ],
          [
           36.7273672,
           -4.4134995,
           "REMOVED",
           "cafe"
          ],
          [
           36.7279475,
           -4.414262,
           "REMOVED",
           "restaurant"
          ],
          [
           36.7277296,
           -4.414238,
           "REMOVED",
           "fast_food"
          ],
          [
           36.7289337,
           -4.4147588,
           "REMOVED",
           "beauty"
          ],
          [
           36.7289538,
           -4.4146761,
           "REMOVED",
           "bakery"
          ],
          [
           36.7288083,
           -4.4145565,
           "REMOVED",
           "clothes"
          ],
          [
           36.7296331,
           -4.4143775,
           "REMOVED",
           "travel_agency"
          ],
          [
           36.7281492,
           -4.4119897,
           "REMOVED",
           "educational_institution"
          ],
          [
           36.7271129,
           -4.412469,
           "REMOVED",
           "frozen_food"
          ],
          [
           36.7271672,
           -4.4122373,
           "REMOVED",
           "deli"
          ],
          [
           36.7272198,
           -4.4122041,
           "REMOVED",
           "telephone"
          ],
          [
           36.7271346,
           -4.4125679,
           "REMOVED",
           "kiosk"
          ],
          [
           36.7299257,
           -4.4150523,
           "REMOVED",
           "bank"
          ],
          [
           36.7270092,
           -4.4129899,
           "REMOVED",
           "clothes"
          ],
          [
           36.730802,
           -4.4149702,
           "REMOVED",
           "perfumery"
          ],
          [
           36.7303069,
           -4.4148482,
           "REMOVED",
           "hardware"
          ],
          [
           36.730265,
           -4.4151312,
           "REMOVED",
           "herbalist"
          ],
          [
           36.7298013,
           -4.4146872,
           "REMOVED",
           "greengrocer"
          ],
          [
           36.7265207,
           -4.4147954,
           "REMOVED",
           "electrical"
          ],
          [
           36.7285839,
           -4.4144659,
           "REMOVED",
           "clothes"
          ],
          [
           36.7271567,
           -4.4140511,
           "REMOVED",
           "cafe"
          ],
          [
           36.7254286,
           -4.4150211,
           "REMOVED",
           "laundry"
          ],
          [
           36.7292676,
           -4.4125722,
           "REMOVED",
           "disused:hospital"
          ],
          [
           36.726856,
           -4.4134886,
           "REMOVED",
           "place_of_worship"
          ],
          [
           36.7220333,
           -4.4161614,
           "REMOVED",
           "common"
          ],
          [
           36.7290799,
           -4.4111612,
           "REMOVED",
           "guest_house"
          ],
          [
           36.7267465,
           -4.414357,
           "REMOVED",
           "kiosk"
          ]
         ],
         "hovertemplate": "<b>%{hovertext}</b><br><br>comparison=%{customdata[2]}<br>feature_value=%{customdata[3]}<extra></extra>",
         "hovertext": [
          "",
          "Clinica de la Bicicleta",
          "Victoria Apartamentos",
          "",
          "",
          "",
          "",
          "",
          "Centro de estudios Studio",
          "Nuria Moreno",
          "The Park",
          "",
          "Copy Maq",
          "",
          "Pakturk Kebab",
          "Bar los del Colmenar",
          "Como en Casa",
          "Al Andalus",
          "FK",
          "",
          "Concha González",
          "Escapat Viajes",
          "Odoor Centro de Formación",
          "Supercongelados Ancá la Yoli",
          "Don Miguel",
          "",
          "",
          "Santander",
          "Mercería Puri",
          "Súper Perfumerías",
          "Ferretería Valero",
          "La Buena Hierba",
          "Martín Mariano",
          "Moreno Robledo",
          "Tábata",
          "Bar Pedroso",
          "Lavomatic",
          "Hospital Doctor Pascual",
          "Iglesia San Lázaro",
          "",
          "Villa Alicia Guesthouse",
          ""
         ],
         "lat": [
          36.7288656,
          36.7241254,
          36.724624,
          36.7269106,
          36.7271315,
          36.7271509,
          36.7294939,
          36.7306081,
          36.7253727,
          36.7250151,
          36.7247603,
          36.7245977,
          36.7236882,
          36.7259539,
          36.7282826,
          36.7273672,
          36.7279475,
          36.7277296,
          36.7289337,
          36.7289538,
          36.7288083,
          36.7296331,
          36.7281492,
          36.7271129,
          36.7271672,
          36.7272198,
          36.7271346,
          36.7299257,
          36.7270092,
          36.730802,
          36.7303069,
          36.730265,
          36.7298013,
          36.7265207,
          36.7285839,
          36.7271567,
          36.7254286,
          36.7292676,
          36.726856,
          36.7220333,
          36.7290799,
          36.7267465
         ],
         "legendgroup": "REMOVED",
         "lon": [
          -4.4126329,
          -4.4161967,
          -4.4145925,
          -4.4145188,
          -4.413924,
          -4.4139267,
          -4.4148282,
          -4.4151512,
          -4.4150712,
          -4.4151481,
          -4.4153463,
          -4.415686,
          -4.4162053,
          -4.4146271,
          -4.4132162,
          -4.4134995,
          -4.414262,
          -4.414238,
          -4.4147588,
          -4.4146761,
          -4.4145565,
          -4.4143775,
          -4.4119897,
          -4.412469,
          -4.4122373,
          -4.4122041,
          -4.4125679,
          -4.4150523,
          -4.4129899,
          -4.4149702,
          -4.4148482,
          -4.4151312,
          -4.4146872,
          -4.4147954,
          -4.4144659,
          -4.4140511,
          -4.4150211,
          -4.4125722,
          -4.4134886,
          -4.4161614,
          -4.4111612,
          -4.414357
         ],
         "marker": {
          "color": "#636efa",
          "size": 10
         },
         "mode": "markers",
         "name": "REMOVED",
         "showlegend": true,
         "subplot": "map",
         "type": "scattermap"
        },
        {
         "customdata": [
          [
           36.7284048,
           -4.4131897,
           "NAME CHANGE",
           "restaurant"
          ],
          [
           36.7312195,
           -4.415346,
           "NAME CHANGE",
           "convenience"
          ],
          [
           36.7247583,
           -4.4155466,
           "NAME CHANGE",
           "dentist"
          ],
          [
           36.7244672,
           -4.4158307,
           "NAME CHANGE",
           "bakery"
          ],
          [
           36.7258217,
           -4.4147202,
           "NAME CHANGE",
           "fast_food"
          ],
          [
           36.7282372,
           -4.41323,
           "NAME CHANGE",
           "restaurant"
          ],
          [
           36.7284078,
           -4.4134655,
           "NAME CHANGE",
           "restaurant"
          ],
          [
           36.7296907,
           -4.4141068,
           "NAME CHANGE",
           "hairdresser"
          ],
          [
           36.7296066,
           -4.414458,
           "NAME CHANGE",
           "estate_agent"
          ],
          [
           36.7295295,
           -4.4146026,
           "NAME CHANGE",
           "copyshop"
          ],
          [
           36.729365,
           -4.4148474,
           "NAME CHANGE",
           "optician"
          ],
          [
           36.7292911,
           -4.4159928,
           "NAME CHANGE",
           "supermarket"
          ],
          [
           36.7272247,
           -4.4116852,
           "NAME CHANGE",
           "estate_agent"
          ],
          [
           36.7273241,
           -4.4122976,
           "NAME CHANGE",
           "fast_food"
          ],
          [
           36.7300007,
           -4.4159928,
           "NAME CHANGE",
           "restaurant"
          ],
          [
           36.7298176,
           -4.4158152,
           "NAME CHANGE",
           "ice_cream"
          ],
          [
           36.729504,
           -4.4157132,
           "NAME CHANGE",
           "butcher"
          ],
          [
           36.7280083,
           -4.4142669,
           "NAME CHANGE",
           "hairdresser"
          ],
          [
           36.7278921,
           -4.4143832,
           "NAME CHANGE",
           "estate_agent"
          ],
          [
           36.7273359,
           -4.4146937,
           "NAME CHANGE",
           "park"
          ],
          [
           36.7282181,
           -4.4114447,
           "NAME CHANGE",
           "hostel"
          ],
          [
           36.728926,
           -4.4160808,
           "NAME CHANGE",
           "park"
          ]
         ],
         "hovertemplate": "<b>%{hovertext}</b><br><br>comparison=%{customdata[2]}<br>feature_value=%{customdata[3]}<extra></extra>",
         "hovertext": [
          "Lo de Merche",
          "Fortuna",
          "Kantis",
          "La Ventana",
          "Rey Istanbul Kebab",
          "Grano Puro",
          "Bodeguilla El Hueco",
          "Pablo Compón",
          "La Finca",
          "ATresColor",
          "Vistalia",
          "Carrefour Market",
          "Grupo Constructor",
          "Antojos Pizza",
          "La Casita de Maykel",
          "Nicolino",
          "Carnícas Matahambre",
          "Genoveses Chicano",
          "Grupo Modernia",
          "",
          "Barbatuke Bed & Bike",
          ""
         ],
         "lat": [
          36.7284048,
          36.7312195,
          36.7247583,
          36.7244672,
          36.7258217,
          36.7282372,
          36.7284078,
          36.7296907,
          36.7296066,
          36.7295295,
          36.729365,
          36.7292911,
          36.7272247,
          36.7273241,
          36.7300007,
          36.7298176,
          36.729504,
          36.7280083,
          36.7278921,
          36.7273359,
          36.7282181,
          36.728926
         ],
         "legendgroup": "NAME CHANGE",
         "lon": [
          -4.4131897,
          -4.415346,
          -4.4155466,
          -4.4158307,
          -4.4147202,
          -4.41323,
          -4.4134655,
          -4.4141068,
          -4.414458,
          -4.4146026,
          -4.4148474,
          -4.4159928,
          -4.4116852,
          -4.4122976,
          -4.4159928,
          -4.4158152,
          -4.4157132,
          -4.4142669,
          -4.4143832,
          -4.4146937,
          -4.4114447,
          -4.4160808
         ],
         "marker": {
          "color": "#EF553B",
          "size": 10
         },
         "mode": "markers",
         "name": "NAME CHANGE",
         "showlegend": true,
         "subplot": "map",
         "type": "scattermap"
        },
        {
         "customdata": [
          [
           36.7247071,
           -4.4155962,
           "NO CHANGE",
           "bar"
          ],
          [
           36.7273687,
           -4.4118396,
           "NO CHANGE",
           "pharmacy"
          ],
          [
           36.7286691,
           -4.4137224,
           "NO CHANGE",
           "pharmacy"
          ],
          [
           36.7270815,
           -4.4136126,
           "NO CHANGE",
           "post_box"
          ],
          [
           36.727153,
           -4.4135736,
           "NO CHANGE",
           "atm"
          ],
          [
           36.7271133,
           -4.4135818,
           "NO CHANGE",
           "atm"
          ],
          [
           36.7269327,
           -4.4145098,
           "NO CHANGE",
           "pharmacy"
          ],
          [
           36.7271369,
           -4.4135771,
           "NO CHANGE",
           "bank"
          ],
          [
           36.7288656,
           -4.4157255,
           "NO CHANGE",
           "fitness_centre"
          ],
          [
           36.7308654,
           -4.4166094,
           "NO CHANGE",
           "pharmacy"
          ],
          [
           36.729468,
           -4.4152572,
           "NO CHANGE",
           "variety_store"
          ],
          [
           36.7298471,
           -4.4156793,
           "NO CHANGE",
           "restaurant"
          ],
          [
           36.7267275,
           -4.413762,
           "NO CHANGE",
           "fast_food"
          ],
          [
           36.7311626,
           -4.415664,
           "NO CHANGE",
           "restaurant"
          ],
          [
           36.7311771,
           -4.4155514,
           "NO CHANGE",
           "restaurant"
          ],
          [
           36.730959,
           -4.4152865,
           "NO CHANGE",
           "copyshop"
          ],
          [
           36.7306846,
           -4.4149657,
           "NO CHANGE",
           "clothes"
          ],
          [
           36.7308072,
           -4.4149853,
           "NO CHANGE",
           "cafe"
          ],
          [
           36.7311265,
           -4.4150576,
           "NO CHANGE",
           "clothes"
          ],
          [
           36.7312318,
           -4.415063,
           "NO CHANGE",
           "bank"
          ],
          [
           36.7313017,
           -4.4150784,
           "NO CHANGE",
           "atm"
          ],
          [
           36.7256549,
           -4.4148527,
           "NO CHANGE",
           "estate_agent"
          ],
          [
           36.7251852,
           -4.4150055,
           "NO CHANGE",
           "variety_store"
          ],
          [
           36.7252072,
           -4.4149851,
           "NO CHANGE",
           "language_school"
          ],
          [
           36.7252057,
           -4.4151916,
           "NO CHANGE",
           "herbalist"
          ],
          [
           36.7250576,
           -4.4151128,
           "NO CHANGE",
           "supermarket"
          ],
          [
           36.7248007,
           -4.415317,
           "NO CHANGE",
           "property_management"
          ],
          [
           36.7249983,
           -4.415351,
           "NO CHANGE",
           "variety_store"
          ],
          [
           36.7248178,
           -4.4154974,
           "NO CHANGE",
           "clockmaker"
          ],
          [
           36.7246161,
           -4.4156709,
           "NO CHANGE",
           "pharmacy"
          ],
          [
           36.7235519,
           -4.4165238,
           "NO CHANGE",
           "optician"
          ],
          [
           36.7236101,
           -4.4164793,
           "NO CHANGE",
           "beauty"
          ],
          [
           36.7239692,
           -4.4161929,
           "NO CHANGE",
           "beverages"
          ],
          [
           36.7239461,
           -4.4159936,
           "NO CHANGE",
           "convenience"
          ],
          [
           36.7243594,
           -4.4158589,
           "NO CHANGE",
           "beauty"
          ],
          [
           36.7243171,
           -4.4156987,
           "NO CHANGE",
           "estate_agent"
          ],
          [
           36.726627,
           -4.4143994,
           "NO CHANGE",
           "dentist"
          ],
          [
           36.7263627,
           -4.4143383,
           "NO CHANGE",
           "bank"
          ],
          [
           36.7260575,
           -4.4145518,
           "NO CHANGE",
           "bank"
          ],
          [
           36.7281655,
           -4.4132527,
           "NO CHANGE",
           "computer"
          ],
          [
           36.7280424,
           -4.4132943,
           "NO CHANGE",
           "restaurant"
          ],
          [
           36.7278942,
           -4.4133399,
           "NO CHANGE",
           "electrical"
          ],
          [
           36.7272714,
           -4.4138005,
           "NO CHANGE",
           "ice_cream"
          ],
          [
           36.7267551,
           -4.4136853,
           "NO CHANGE",
           "cafe"
          ],
          [
           36.7271019,
           -4.4133443,
           "NO CHANGE",
           "cafe"
          ],
          [
           36.7271773,
           -4.4138197,
           "NO CHANGE",
           "cafe"
          ],
          [
           36.7285763,
           -4.4139176,
           "NO CHANGE",
           "beauty"
          ],
          [
           36.7284436,
           -4.4144578,
           "NO CHANGE",
           "photo"
          ],
          [
           36.7283073,
           -4.4144483,
           "NO CHANGE",
           "hairdresser"
          ],
          [
           36.7281075,
           -4.4144105,
           "NO CHANGE",
           "pastry"
          ],
          [
           36.7280702,
           -4.4142752,
           "NO CHANGE",
           "copyshop"
          ],
          [
           36.7279413,
           -4.4142604,
           "NO CHANGE",
           "beauty"
          ],
          [
           36.7289774,
           -4.4146131,
           "NO CHANGE",
           "clothes"
          ],
          [
           36.7290104,
           -4.4144574,
           "NO CHANGE",
           "dentist"
          ],
          [
           36.7291928,
           -4.4147898,
           "NO CHANGE",
           "supermarket"
          ],
          [
           36.7287917,
           -4.4143572,
           "NO CHANGE",
           "convenience"
          ],
          [
           36.7287147,
           -4.4139873,
           "NO CHANGE",
           "language_school"
          ],
          [
           36.7293747,
           -4.4137844,
           "NO CHANGE",
           "optician"
          ],
          [
           36.7297294,
           -4.4138939,
           "NO CHANGE",
           "hairdresser"
          ],
          [
           36.7296575,
           -4.4142467,
           "NO CHANGE",
           "restaurant"
          ],
          [
           36.7295332,
           -4.4149067,
           "NO CHANGE",
           "paint"
          ],
          [
           36.7295771,
           -4.4146208,
           "NO CHANGE",
           "cafe"
          ],
          [
           36.729482,
           -4.4148931,
           "NO CHANGE",
           "furniture"
          ],
          [
           36.7294259,
           -4.4148733,
           "NO CHANGE",
           "beauty"
          ],
          [
           36.7282412,
           -4.4122352,
           "NO CHANGE",
           "dentist"
          ],
          [
           36.7280917,
           -4.4118632,
           "NO CHANGE",
           "fitness_centre"
          ],
          [
           36.7263235,
           -4.4122236,
           "NO CHANGE",
           "guest_house"
          ],
          [
           36.7258408,
           -4.4121175,
           "NO CHANGE",
           "pharmacy"
          ],
          [
           36.7267064,
           -4.4123405,
           "NO CHANGE",
           "variety_store"
          ],
          [
           36.726695,
           -4.4124286,
           "NO CHANGE",
           "bakery"
          ],
          [
           36.7268888,
           -4.4121959,
           "NO CHANGE",
           "cafe"
          ],
          [
           36.727085,
           -4.4122713,
           "NO CHANGE",
           "tobacco"
          ],
          [
           36.7271555,
           -4.4122691,
           "NO CHANGE",
           "greengrocer"
          ],
          [
           36.7264553,
           -4.4120901,
           "NO CHANGE",
           "post_box"
          ],
          [
           36.7269466,
           -4.4116264,
           "NO CHANGE",
           "supermarket"
          ],
          [
           36.728027,
           -4.4127153,
           "NO CHANGE",
           "motorcycle"
          ],
          [
           36.7280852,
           -4.4120357,
           "NO CHANGE",
           "educational_institution"
          ],
          [
           36.7293088,
           -4.4158813,
           "NO CHANGE",
           "greengrocer"
          ],
          [
           36.7292348,
           -4.4162379,
           "NO CHANGE",
           "veterinary"
          ],
          [
           36.7291951,
           -4.4153208,
           "NO CHANGE",
           "cafe"
          ],
          [
           36.7289954,
           -4.4152534,
           "NO CHANGE",
           "driving_school"
          ],
          [
           36.7272893,
           -4.4125178,
           "NO CHANGE",
           "butcher"
          ],
          [
           36.7273241,
           -4.4124622,
           "NO CHANGE",
           "convenience"
          ],
          [
           36.7271704,
           -4.4121912,
           "NO CHANGE",
           "convenience"
          ],
          [
           36.7273321,
           -4.4121177,
           "NO CHANGE",
           "car_repair"
          ],
          [
           36.7273778,
           -4.4117163,
           "NO CHANGE",
           "variety_store"
          ],
          [
           36.7298341,
           -4.4150234,
           "NO CHANGE",
           "restaurant"
          ],
          [
           36.7297421,
           -4.4149795,
           "NO CHANGE",
           "bank"
          ],
          [
           36.7297922,
           -4.4159611,
           "NO CHANGE",
           "bar"
          ],
          [
           36.7297607,
           -4.4156079,
           "NO CHANGE",
           "fast_food"
          ],
          [
           36.7293916,
           -4.4162792,
           "NO CHANGE",
           "chemist"
          ],
          [
           36.7294225,
           -4.416136,
           "NO CHANGE",
           "stationery"
          ],
          [
           36.7294809,
           -4.4158061,
           "NO CHANGE",
           "car_repair"
          ],
          [
           36.7295681,
           -4.4155233,
           "NO CHANGE",
           "restaurant"
          ],
          [
           36.729631,
           -4.415219,
           "NO CHANGE",
           "fast_food"
          ],
          [
           36.7296465,
           -4.4151529,
           "NO CHANGE",
           "greengrocer"
          ],
          [
           36.7270801,
           -4.4126618,
           "NO CHANGE",
           "bakery"
          ],
          [
           36.7271346,
           -4.4131661,
           "NO CHANGE",
           "stationery"
          ],
          [
           36.7271465,
           -4.4131112,
           "NO CHANGE",
           "greengrocer"
          ],
          [
           36.7271644,
           -4.4130462,
           "NO CHANGE",
           "clothes"
          ],
          [
           36.7271829,
           -4.4129717,
           "NO CHANGE",
           "hairdresser"
          ],
          [
           36.7272166,
           -4.4128199,
           "NO CHANGE",
           "cafe"
          ],
          [
           36.7272568,
           -4.4126492,
           "NO CHANGE",
           "newsagent"
          ],
          [
           36.7305705,
           -4.4149392,
           "NO CHANGE",
           "pharmacy"
          ],
          [
           36.7304397,
           -4.4149084,
           "NO CHANGE",
           "greengrocer"
          ],
          [
           36.7300937,
           -4.4150923,
           "NO CHANGE",
           "laundry"
          ],
          [
           36.7300964,
           -4.4148175,
           "NO CHANGE",
           "optician"
          ],
          [
           36.7298088,
           -4.4145797,
           "NO CHANGE",
           "lottery"
          ],
          [
           36.7298302,
           -4.4144486,
           "NO CHANGE",
           "bakery"
          ],
          [
           36.7273555,
           -4.4122848,
           "NO CHANGE",
           "cafe"
          ],
          [
           36.7262742,
           -4.4151185,
           "NO CHANGE",
           "convenience"
          ],
          [
           36.7263436,
           -4.415009,
           "NO CHANGE",
           "tobacco"
          ],
          [
           36.7264883,
           -4.4148282,
           "NO CHANGE",
           "greengrocer"
          ],
          [
           36.7276183,
           -4.4143599,
           "NO CHANGE",
           "hairdresser"
          ],
          [
           36.7245091,
           -4.4157454,
           "NO CHANGE",
           "books"
          ],
          [
           36.7296112,
           -4.4152792,
           "NO CHANGE",
           "craft"
          ],
          [
           36.7282335,
           -4.4144417,
           "NO CHANGE",
           "physiotherapist"
          ],
          [
           36.7276521,
           -4.4142215,
           "NO CHANGE",
           "herbalist"
          ],
          [
           36.7273725,
           -4.4143273,
           "NO CHANGE",
           "clothes"
          ],
          [
           36.7272765,
           -4.4143204,
           "NO CHANGE",
           "jewelry"
          ],
          [
           36.7271813,
           -4.4143144,
           "NO CHANGE",
           "butcher"
          ],
          [
           36.7271099,
           -4.4143144,
           "NO CHANGE",
           "convenience"
          ],
          [
           36.7289589,
           -4.4137956,
           "NO CHANGE",
           "podiatrist"
          ],
          [
           36.7308559,
           -4.4144045,
           "NO CHANGE",
           "pharmacy"
          ],
          [
           36.7271017,
           -4.4092912,
           "NO CHANGE",
           "sport_school"
          ],
          [
           36.7254286,
           -4.4150211,
           "NO CHANGE",
           "laundry"
          ],
          [
           36.72911,
           -4.4129644,
           "NO CHANGE",
           "place_of_worship"
          ],
          [
           36.7258992,
           -4.4144626,
           "NO CHANGE",
           "place_of_worship"
          ],
          [
           36.7286931,
           -4.4127352,
           "NO CHANGE",
           "park"
          ],
          [
           36.7265991,
           -4.4088395,
           "NO CHANGE",
           "school"
          ],
          [
           36.7282703,
           -4.4103538,
           "NO CHANGE",
           "hotel"
          ],
          [
           36.7266804,
           -4.4131389,
           "NO CHANGE",
           "school"
          ],
          [
           36.726065,
           -4.4134313,
           "NO CHANGE",
           "school"
          ],
          [
           36.7278095,
           -4.4107633,
           "NO CHANGE",
           "kindergarten"
          ],
          [
           36.7291324,
           -4.4146937,
           "NO CHANGE",
           "kiosk"
          ]
         ],
         "hovertemplate": "<b>%{hovertext}</b><br><br>comparison=%{customdata[2]}<br>feature_value=%{customdata[3]}<extra></extra>",
         "hovertext": [
          "La Esquinita del Chupa y Tira",
          "Farmacia Ferrándiz",
          "Farmacia Coronado",
          "",
          "",
          "",
          "Farmacia Plaza de la Victoria",
          "Unicaja Banco",
          "Reebok Sports Center",
          "Farmacia Laynez",
          "Bazar Andalucía",
          "Gambrinus",
          "Bocatería Gustavo",
          "Ancá er Mejillón",
          "Enrique y Paco",
          "Copicentro",
          "Mercería Reyes",
          "Cafetería El Cañón",
          "Veneno Moda",
          "CajaSur",
          "Caja Rural de Granada",
          "Abc Inmobiliaria",
          "Super Bazar Y Alimentación",
          "Idiomas Victoria",
          "Puravida Natural",
          "Dia",
          "Planeta Casa",
          "Bazar Multiprecios Málaga",
          "Germán Gil Relojeros",
          "Farmacia Sanjuan Valero",
          "Óptica La Merced",
          "Verdeagua",
          "La Botica de la Cerveza",
          "Asia Supermercado",
          "Estética Victoria",
          "Toré Inmobiliaria",
          "Clínica Dental de la Victoria",
          "Banco Santander",
          "Caja Rural del Sur",
          "Load",
          "El Caldero",
          "Suministros Eléctricos J. Martín",
          "Casa Mira",
          "Café Bar El Jardín de los Monos",
          "Jaral Café",
          "Cafetería Isamoa",
          "Centro de Belleza Nuria Honorato",
          "J. Carlos",
          "Peluquería Loly Alberca",
          "El Romero",
          "Palcopy",
          "Geno",
          "Cristina Modas",
          "Bucaldent",
          "Dia",
          "Súper Bazar Oriental",
          "New English Centre",
          "Óptica Victoria",
          "Marga Cerón",
          "Aliolé",
          "Pinturas Andalucía",
          "Bar El Tornado",
          "Comodísimo",
          "Astrid Beauty Club",
          "Institución Dento-estética Dr. Manuel García",
          "Club Record",
          "Hostal Flamenco Camerón",
          "Farmacia Pinosol",
          "Chollos Los Patitos",
          "Panificadora Pinos",
          "Bar Los Reyes",
          "",
          "Frutería Ali",
          "",
          "Dia",
          "Comitre Motos",
          "Aula Malacitana Escuela Jurídica",
          "Frutas y Verduras Pedro",
          "Clínica Veterinaria Cristo de la Epidemia",
          "Café Bar Lorena II",
          "Autoescuelas Torcal",
          "Carnicería Ferrándiz",
          "Bazar Alimentación",
          "Alimentación Jin Tai Yang",
          "Talleres Barcenillas",
          "Bazar China",
          "Nerva",
          "Caixabank",
          "Universitas Café",
          "Asador Pineda",
          "Droguería Elisa",
          "Papelería Trisol",
          "Talleres La Fuente",
          "Fu Man Chun",
          "Cheef Kebab",
          "Frutería Real",
          "Panificadora Pinos",
          "Papelería Marisol",
          "Frutas y Verduras Yassin",
          "Mercería Puri",
          "Sandra López",
          "Café Bar Ferrándiz",
          "Carmen",
          "Farmacia López Yerón",
          "El Mercado",
          "La Artesana",
          "Multiópticas",
          "Loterías y Apuestas del Estado",
          "Panadería La Sagrada Familia",
          "Cafe Bar Costa del Sol Orly",
          "Ultramarinos Casa Ceferina",
          "Boquerón de Oro",
          "Frutería Keko",
          "Peluquería Vintage",
          "Re-Read Librería Lowcost",
          "Sarala",
          "Fisio360",
          "Aloe",
          "Modas Cambiame",
          "JPereiro Joyero",
          "Alonso Robles",
          "Ultramarino Victoria",
          "Amores y Rodríguez",
          "Farmacia Margarita López Rodríguez",
          "Escuela de Patinaje Al-Andalus",
          "Lavomatic",
          "Basílica y Santuario de Santa María de la Victoria",
          "Capilla del Rescate",
          "Parque Alfonso XII",
          "Colegio Sagrada Familia El Monte",
          "Hotel Monte Victoria",
          "Colegio de Educación Infantil y Primaria Nuestra Señora de Gracia",
          "Colegio Nuestra Señora de la Victoria",
          "Escuela Infantil Villa Maria",
          ""
         ],
         "lat": [
          36.7247071,
          36.7273687,
          36.7286691,
          36.7270815,
          36.727153,
          36.7271133,
          36.7269327,
          36.7271369,
          36.7288656,
          36.7308654,
          36.729468,
          36.7298471,
          36.7267275,
          36.7311626,
          36.7311771,
          36.730959,
          36.7306846,
          36.7308072,
          36.7311265,
          36.7312318,
          36.7313017,
          36.7256549,
          36.7251852,
          36.7252072,
          36.7252057,
          36.7250576,
          36.7248007,
          36.7249983,
          36.7248178,
          36.7246161,
          36.7235519,
          36.7236101,
          36.7239692,
          36.7239461,
          36.7243594,
          36.7243171,
          36.726627,
          36.7263627,
          36.7260575,
          36.7281655,
          36.7280424,
          36.7278942,
          36.7272714,
          36.7267551,
          36.7271019,
          36.7271773,
          36.7285763,
          36.7284436,
          36.7283073,
          36.7281075,
          36.7280702,
          36.7279413,
          36.7289774,
          36.7290104,
          36.7291928,
          36.7287917,
          36.7287147,
          36.7293747,
          36.7297294,
          36.7296575,
          36.7295332,
          36.7295771,
          36.729482,
          36.7294259,
          36.7282412,
          36.7280917,
          36.7263235,
          36.7258408,
          36.7267064,
          36.726695,
          36.7268888,
          36.727085,
          36.7271555,
          36.7264553,
          36.7269466,
          36.728027,
          36.7280852,
          36.7293088,
          36.7292348,
          36.7291951,
          36.7289954,
          36.7272893,
          36.7273241,
          36.7271704,
          36.7273321,
          36.7273778,
          36.7298341,
          36.7297421,
          36.7297922,
          36.7297607,
          36.7293916,
          36.7294225,
          36.7294809,
          36.7295681,
          36.729631,
          36.7296465,
          36.7270801,
          36.7271346,
          36.7271465,
          36.7271644,
          36.7271829,
          36.7272166,
          36.7272568,
          36.7305705,
          36.7304397,
          36.7300937,
          36.7300964,
          36.7298088,
          36.7298302,
          36.7273555,
          36.7262742,
          36.7263436,
          36.7264883,
          36.7276183,
          36.7245091,
          36.7296112,
          36.7282335,
          36.7276521,
          36.7273725,
          36.7272765,
          36.7271813,
          36.7271099,
          36.7289589,
          36.7308559,
          36.7271017,
          36.7254286,
          36.72911,
          36.7258992,
          36.7286931,
          36.7265991,
          36.7282703,
          36.7266804,
          36.726065,
          36.7278095,
          36.7291324
         ],
         "legendgroup": "NO CHANGE",
         "lon": [
          -4.4155962,
          -4.4118396,
          -4.4137224,
          -4.4136126,
          -4.4135736,
          -4.4135818,
          -4.4145098,
          -4.4135771,
          -4.4157255,
          -4.4166094,
          -4.4152572,
          -4.4156793,
          -4.413762,
          -4.415664,
          -4.4155514,
          -4.4152865,
          -4.4149657,
          -4.4149853,
          -4.4150576,
          -4.415063,
          -4.4150784,
          -4.4148527,
          -4.4150055,
          -4.4149851,
          -4.4151916,
          -4.4151128,
          -4.415317,
          -4.415351,
          -4.4154974,
          -4.4156709,
          -4.4165238,
          -4.4164793,
          -4.4161929,
          -4.4159936,
          -4.4158589,
          -4.4156987,
          -4.4143994,
          -4.4143383,
          -4.4145518,
          -4.4132527,
          -4.4132943,
          -4.4133399,
          -4.4138005,
          -4.4136853,
          -4.4133443,
          -4.4138197,
          -4.4139176,
          -4.4144578,
          -4.4144483,
          -4.4144105,
          -4.4142752,
          -4.4142604,
          -4.4146131,
          -4.4144574,
          -4.4147898,
          -4.4143572,
          -4.4139873,
          -4.4137844,
          -4.4138939,
          -4.4142467,
          -4.4149067,
          -4.4146208,
          -4.4148931,
          -4.4148733,
          -4.4122352,
          -4.4118632,
          -4.4122236,
          -4.4121175,
          -4.4123405,
          -4.4124286,
          -4.4121959,
          -4.4122713,
          -4.4122691,
          -4.4120901,
          -4.4116264,
          -4.4127153,
          -4.4120357,
          -4.4158813,
          -4.4162379,
          -4.4153208,
          -4.4152534,
          -4.4125178,
          -4.4124622,
          -4.4121912,
          -4.4121177,
          -4.4117163,
          -4.4150234,
          -4.4149795,
          -4.4159611,
          -4.4156079,
          -4.4162792,
          -4.416136,
          -4.4158061,
          -4.4155233,
          -4.415219,
          -4.4151529,
          -4.4126618,
          -4.4131661,
          -4.4131112,
          -4.4130462,
          -4.4129717,
          -4.4128199,
          -4.4126492,
          -4.4149392,
          -4.4149084,
          -4.4150923,
          -4.4148175,
          -4.4145797,
          -4.4144486,
          -4.4122848,
          -4.4151185,
          -4.415009,
          -4.4148282,
          -4.4143599,
          -4.4157454,
          -4.4152792,
          -4.4144417,
          -4.4142215,
          -4.4143273,
          -4.4143204,
          -4.4143144,
          -4.4143144,
          -4.4137956,
          -4.4144045,
          -4.4092912,
          -4.4150211,
          -4.4129644,
          -4.4144626,
          -4.4127352,
          -4.4088395,
          -4.4103538,
          -4.4131389,
          -4.4134313,
          -4.4107633,
          -4.4146937
         ],
         "marker": {
          "color": "#00cc96",
          "size": 10
         },
         "mode": "markers",
         "name": "NO CHANGE",
         "showlegend": true,
         "subplot": "map",
         "type": "scattermap"
        },
        {
         "customdata": [
          [
           36.7272149,
           -4.414536,
           "POI TYPE CHANGE",
           "apartment"
          ],
          [
           36.7307419,
           -4.4159353,
           "POI TYPE CHANGE",
           "stationery"
          ],
          [
           36.7310683,
           -4.4153204,
           "POI TYPE CHANGE",
           "art"
          ],
          [
           36.7311135,
           -4.4153193,
           "POI TYPE CHANGE",
           "travel_agency"
          ],
          [
           36.7307823,
           -4.4152568,
           "POI TYPE CHANGE",
           "cafe"
          ],
          [
           36.7257672,
           -4.4145527,
           "POI TYPE CHANGE",
           "restaurant"
          ],
          [
           36.7255745,
           -4.4146911,
           "POI TYPE CHANGE",
           "shoes"
          ],
          [
           36.7249803,
           -4.4151709,
           "POI TYPE CHANGE",
           "supermarket"
          ],
          [
           36.724655,
           -4.4154341,
           "POI TYPE CHANGE",
           "coworking"
          ],
          [
           36.7233366,
           -4.4164698,
           "POI TYPE CHANGE",
           "fast_food"
          ],
          [
           36.7232841,
           -4.4164974,
           "POI TYPE CHANGE",
           "fast_food"
          ],
          [
           36.7240248,
           -4.4159297,
           "POI TYPE CHANGE",
           "fitness_centre"
          ],
          [
           36.7262044,
           -4.4142291,
           "POI TYPE CHANGE",
           "collector"
          ],
          [
           36.7257699,
           -4.4147689,
           "POI TYPE CHANGE",
           "fast_food"
          ],
          [
           36.7282422,
           -4.4135159,
           "POI TYPE CHANGE",
           "restaurant"
          ],
          [
           36.7278285,
           -4.4142513,
           "POI TYPE CHANGE",
           "centre"
          ],
          [
           36.7276912,
           -4.4142311,
           "POI TYPE CHANGE",
           "pub"
          ],
          [
           36.7288849,
           -4.4148565,
           "POI TYPE CHANGE",
           "cafe"
          ],
          [
           36.7288663,
           -4.414578,
           "POI TYPE CHANGE",
           "hairdresser"
          ],
          [
           36.7291645,
           -4.4145143,
           "POI TYPE CHANGE",
           "fitness_centre"
          ],
          [
           36.7292079,
           -4.4142621,
           "POI TYPE CHANGE",
           "pet_grooming"
          ],
          [
           36.729376,
           -4.4145646,
           "POI TYPE CHANGE",
           "architect"
          ],
          [
           36.7291121,
           -4.4152841,
           "POI TYPE CHANGE",
           "party"
          ],
          [
           36.7290633,
           -4.4152595,
           "POI TYPE CHANGE",
           "fitness_centre"
          ],
          [
           36.7273811,
           -4.4115944,
           "POI TYPE CHANGE",
           "property_management"
          ],
          [
           36.7299643,
           -4.4150647,
           "POI TYPE CHANGE",
           "fast_food"
          ],
          [
           36.7295267,
           -4.4156225,
           "POI TYPE CHANGE",
           "photographer"
          ],
          [
           36.7270573,
           -4.4127481,
           "POI TYPE CHANGE",
           "charity"
          ],
          [
           36.7270906,
           -4.4126052,
           "POI TYPE CHANGE",
           "dressmaker"
          ],
          [
           36.7271096,
           -4.4132785,
           "POI TYPE CHANGE",
           "pastry"
          ],
          [
           36.7272426,
           -4.4127075,
           "POI TYPE CHANGE",
           "dancing_school"
          ],
          [
           36.7309911,
           -4.4150314,
           "POI TYPE CHANGE",
           "laundry"
          ],
          [
           36.7304781,
           -4.414913,
           "POI TYPE CHANGE",
           "hairdresser"
          ],
          [
           36.7302305,
           -4.414855,
           "POI TYPE CHANGE",
           "variety_store"
          ],
          [
           36.7299698,
           -4.4147619,
           "POI TYPE CHANGE",
           "clothes"
          ],
          [
           36.7267398,
           -4.4121533,
           "POI TYPE CHANGE",
           "restaurant"
          ],
          [
           36.7276111,
           -4.4143949,
           "POI TYPE CHANGE",
           "e-cigarette"
          ],
          [
           36.7290903,
           -4.4142168,
           "POI TYPE CHANGE",
           "physiotherapist"
          ]
         ],
         "hovertemplate": "<b>%{hovertext}</b><br><br>comparison=%{customdata[2]}<br>feature_value=%{customdata[3]}<extra></extra>",
         "hovertext": [
          "",
          "Papertoys",
          "El Escaparate",
          "Aries",
          "Tejeringo's",
          "Fausto's Grill",
          "Caminamos",
          "Biomilanes",
          "Neurona Center",
          "La Posada de Carmen",
          "Ali Baba",
          "Upgrade",
          "Fanátiko",
          "El Ombú",
          "Chicon Quintana",
          "Centro Médico Conductores",
          "Enrique",
          "La Tasquita del Pana",
          "Peluquería Essencia",
          "Box And One",
          "El Rincón de Luna",
          "Darconsa",
          "Mundo de Fantasía",
          "Fisio360",
          "Martín y Serrano Administración de Fincas",
          "Mr Kebab",
          "Salcedo Fotografía",
          "Madre Coraje",
          "Waffa Moda",
          "El Pastel De Nata",
          "Estudio de danza Ángela Correa",
          "Blanco Facil",
          "Peluquería Low Cost",
          "Home City",
          "Quinoa",
          "El Redondeo",
          "Malakavape",
          "Ares Studio"
         ],
         "lat": [
          36.7272149,
          36.7307419,
          36.7310683,
          36.7311135,
          36.7307823,
          36.7257672,
          36.7255745,
          36.7249803,
          36.724655,
          36.7233366,
          36.7232841,
          36.7240248,
          36.7262044,
          36.7257699,
          36.7282422,
          36.7278285,
          36.7276912,
          36.7288849,
          36.7288663,
          36.7291645,
          36.7292079,
          36.729376,
          36.7291121,
          36.7290633,
          36.7273811,
          36.7299643,
          36.7295267,
          36.7270573,
          36.7270906,
          36.7271096,
          36.7272426,
          36.7309911,
          36.7304781,
          36.7302305,
          36.7299698,
          36.7267398,
          36.7276111,
          36.7290903
         ],
         "legendgroup": "POI TYPE CHANGE",
         "lon": [
          -4.414536,
          -4.4159353,
          -4.4153204,
          -4.4153193,
          -4.4152568,
          -4.4145527,
          -4.4146911,
          -4.4151709,
          -4.4154341,
          -4.4164698,
          -4.4164974,
          -4.4159297,
          -4.4142291,
          -4.4147689,
          -4.4135159,
          -4.4142513,
          -4.4142311,
          -4.4148565,
          -4.414578,
          -4.4145143,
          -4.4142621,
          -4.4145646,
          -4.4152841,
          -4.4152595,
          -4.4115944,
          -4.4150647,
          -4.4156225,
          -4.4127481,
          -4.4126052,
          -4.4132785,
          -4.4127075,
          -4.4150314,
          -4.414913,
          -4.414855,
          -4.4147619,
          -4.4121533,
          -4.4143949,
          -4.4142168
         ],
         "marker": {
          "color": "#ab63fa",
          "size": 10
         },
         "mode": "markers",
         "name": "POI TYPE CHANGE",
         "showlegend": true,
         "subplot": "map",
         "type": "scattermap"
        }
       ],
       "layout": {
        "legend": {
         "title": {
          "text": "COMPARISON STATUS"
         },
         "tracegroupgap": 0
        },
        "map": {
         "center": {
          "lat": 36.72783439493671,
          "lon": -4.414247537974684
         },
         "domain": {
          "x": [
           0,
           1
          ],
          "y": [
           0,
           1
          ]
         },
         "zoom": 15
        },
        "mapbox": {
         "center": {
          "lat": 36.72783439493671,
          "lon": -4.414247537974684
         },
         "zoom": 15
        },
        "margin": {
         "b": 10,
         "l": 10,
         "r": 10,
         "t": 60
        },
        "template": {
         "data": {
          "bar": [
           {
            "error_x": {
             "color": "#2a3f5f"
            },
            "error_y": {
             "color": "#2a3f5f"
            },
            "marker": {
             "line": {
              "color": "#E5ECF6",
              "width": 0.5
             },
             "pattern": {
              "fillmode": "overlay",
              "size": 10,
              "solidity": 0.2
             }
            },
            "type": "bar"
           }
          ],
          "barpolar": [
           {
            "marker": {
             "line": {
              "color": "#E5ECF6",
              "width": 0.5
             },
             "pattern": {
              "fillmode": "overlay",
              "size": 10,
              "solidity": 0.2
             }
            },
            "type": "barpolar"
           }
          ],
          "carpet": [
           {
            "aaxis": {
             "endlinecolor": "#2a3f5f",
             "gridcolor": "white",
             "linecolor": "white",
             "minorgridcolor": "white",
             "startlinecolor": "#2a3f5f"
            },
            "baxis": {
             "endlinecolor": "#2a3f5f",
             "gridcolor": "white",
             "linecolor": "white",
             "minorgridcolor": "white",
             "startlinecolor": "#2a3f5f"
            },
            "type": "carpet"
           }
          ],
          "choropleth": [
           {
            "colorbar": {
             "outlinewidth": 0,
             "ticks": ""
            },
            "type": "choropleth"
           }
          ],
          "contour": [
           {
            "colorbar": {
             "outlinewidth": 0,
             "ticks": ""
            },
            "colorscale": [
             [
              0,
              "#0d0887"
             ],
             [
              0.1111111111111111,
              "#46039f"
             ],
             [
              0.2222222222222222,
              "#7201a8"
             ],
             [
              0.3333333333333333,
              "#9c179e"
             ],
             [
              0.4444444444444444,
              "#bd3786"
             ],
             [
              0.5555555555555556,
              "#d8576b"
             ],
             [
              0.6666666666666666,
              "#ed7953"
             ],
             [
              0.7777777777777778,
              "#fb9f3a"
             ],
             [
              0.8888888888888888,
              "#fdca26"
             ],
             [
              1,
              "#f0f921"
             ]
            ],
            "type": "contour"
           }
          ],
          "contourcarpet": [
           {
            "colorbar": {
             "outlinewidth": 0,
             "ticks": ""
            },
            "type": "contourcarpet"
           }
          ],
          "heatmap": [
           {
            "colorbar": {
             "outlinewidth": 0,
             "ticks": ""
            },
            "colorscale": [
             [
              0,
              "#0d0887"
             ],
             [
              0.1111111111111111,
              "#46039f"
             ],
             [
              0.2222222222222222,
              "#7201a8"
             ],
             [
              0.3333333333333333,
              "#9c179e"
             ],
             [
              0.4444444444444444,
              "#bd3786"
             ],
             [
              0.5555555555555556,
              "#d8576b"
             ],
             [
              0.6666666666666666,
              "#ed7953"
             ],
             [
              0.7777777777777778,
              "#fb9f3a"
             ],
             [
              0.8888888888888888,
              "#fdca26"
             ],
             [
              1,
              "#f0f921"
             ]
            ],
            "type": "heatmap"
           }
          ],
          "heatmapgl": [
           {
            "colorbar": {
             "outlinewidth": 0,
             "ticks": ""
            },
            "colorscale": [
             [
              0,
              "#0d0887"
             ],
             [
              0.1111111111111111,
              "#46039f"
             ],
             [
              0.2222222222222222,
              "#7201a8"
             ],
             [
              0.3333333333333333,
              "#9c179e"
             ],
             [
              0.4444444444444444,
              "#bd3786"
             ],
             [
              0.5555555555555556,
              "#d8576b"
             ],
             [
              0.6666666666666666,
              "#ed7953"
             ],
             [
              0.7777777777777778,
              "#fb9f3a"
             ],
             [
              0.8888888888888888,
              "#fdca26"
             ],
             [
              1,
              "#f0f921"
             ]
            ],
            "type": "heatmapgl"
           }
          ],
          "histogram": [
           {
            "marker": {
             "pattern": {
              "fillmode": "overlay",
              "size": 10,
              "solidity": 0.2
             }
            },
            "type": "histogram"
           }
          ],
          "histogram2d": [
           {
            "colorbar": {
             "outlinewidth": 0,
             "ticks": ""
            },
            "colorscale": [
             [
              0,
              "#0d0887"
             ],
             [
              0.1111111111111111,
              "#46039f"
             ],
             [
              0.2222222222222222,
              "#7201a8"
             ],
             [
              0.3333333333333333,
              "#9c179e"
             ],
             [
              0.4444444444444444,
              "#bd3786"
             ],
             [
              0.5555555555555556,
              "#d8576b"
             ],
             [
              0.6666666666666666,
              "#ed7953"
             ],
             [
              0.7777777777777778,
              "#fb9f3a"
             ],
             [
              0.8888888888888888,
              "#fdca26"
             ],
             [
              1,
              "#f0f921"
             ]
            ],
            "type": "histogram2d"
           }
          ],
          "histogram2dcontour": [
           {
            "colorbar": {
             "outlinewidth": 0,
             "ticks": ""
            },
            "colorscale": [
             [
              0,
              "#0d0887"
             ],
             [
              0.1111111111111111,
              "#46039f"
             ],
             [
              0.2222222222222222,
              "#7201a8"
             ],
             [
              0.3333333333333333,
              "#9c179e"
             ],
             [
              0.4444444444444444,
              "#bd3786"
             ],
             [
              0.5555555555555556,
              "#d8576b"
             ],
             [
              0.6666666666666666,
              "#ed7953"
             ],
             [
              0.7777777777777778,
              "#fb9f3a"
             ],
             [
              0.8888888888888888,
              "#fdca26"
             ],
             [
              1,
              "#f0f921"
             ]
            ],
            "type": "histogram2dcontour"
           }
          ],
          "mesh3d": [
           {
            "colorbar": {
             "outlinewidth": 0,
             "ticks": ""
            },
            "type": "mesh3d"
           }
          ],
          "parcoords": [
           {
            "line": {
             "colorbar": {
              "outlinewidth": 0,
              "ticks": ""
             }
            },
            "type": "parcoords"
           }
          ],
          "pie": [
           {
            "automargin": true,
            "type": "pie"
           }
          ],
          "scatter": [
           {
            "fillpattern": {
             "fillmode": "overlay",
             "size": 10,
             "solidity": 0.2
            },
            "type": "scatter"
           }
          ],
          "scatter3d": [
           {
            "line": {
             "colorbar": {
              "outlinewidth": 0,
              "ticks": ""
             }
            },
            "marker": {
             "colorbar": {
              "outlinewidth": 0,
              "ticks": ""
             }
            },
            "type": "scatter3d"
           }
          ],
          "scattercarpet": [
           {
            "marker": {
             "colorbar": {
              "outlinewidth": 0,
              "ticks": ""
             }
            },
            "type": "scattercarpet"
           }
          ],
          "scattergeo": [
           {
            "marker": {
             "colorbar": {
              "outlinewidth": 0,
              "ticks": ""
             }
            },
            "type": "scattergeo"
           }
          ],
          "scattergl": [
           {
            "marker": {
             "colorbar": {
              "outlinewidth": 0,
              "ticks": ""
             }
            },
            "type": "scattergl"
           }
          ],
          "scattermapbox": [
           {
            "marker": {
             "colorbar": {
              "outlinewidth": 0,
              "ticks": ""
             }
            },
            "type": "scattermapbox"
           }
          ],
          "scatterpolar": [
           {
            "marker": {
             "colorbar": {
              "outlinewidth": 0,
              "ticks": ""
             }
            },
            "type": "scatterpolar"
           }
          ],
          "scatterpolargl": [
           {
            "marker": {
             "colorbar": {
              "outlinewidth": 0,
              "ticks": ""
             }
            },
            "type": "scatterpolargl"
           }
          ],
          "scatterternary": [
           {
            "marker": {
             "colorbar": {
              "outlinewidth": 0,
              "ticks": ""
             }
            },
            "type": "scatterternary"
           }
          ],
          "surface": [
           {
            "colorbar": {
             "outlinewidth": 0,
             "ticks": ""
            },
            "colorscale": [
             [
              0,
              "#0d0887"
             ],
             [
              0.1111111111111111,
              "#46039f"
             ],
             [
              0.2222222222222222,
              "#7201a8"
             ],
             [
              0.3333333333333333,
              "#9c179e"
             ],
             [
              0.4444444444444444,
              "#bd3786"
             ],
             [
              0.5555555555555556,
              "#d8576b"
             ],
             [
              0.6666666666666666,
              "#ed7953"
             ],
             [
              0.7777777777777778,
              "#fb9f3a"
             ],
             [
              0.8888888888888888,
              "#fdca26"
             ],
             [
              1,
              "#f0f921"
             ]
            ],
            "type": "surface"
           }
          ],
          "table": [
           {
            "cells": {
             "fill": {
              "color": "#EBF0F8"
             },
             "line": {
              "color": "white"
             }
            },
            "header": {
             "fill": {
              "color": "#C8D4E3"
             },
             "line": {
              "color": "white"
             }
            },
            "type": "table"
           }
          ]
         },
         "layout": {
          "annotationdefaults": {
           "arrowcolor": "#2a3f5f",
           "arrowhead": 0,
           "arrowwidth": 1
          },
          "autotypenumbers": "strict",
          "coloraxis": {
           "colorbar": {
            "outlinewidth": 0,
            "ticks": ""
           }
          },
          "colorscale": {
           "diverging": [
            [
             0,
             "#8e0152"
            ],
            [
             0.1,
             "#c51b7d"
            ],
            [
             0.2,
             "#de77ae"
            ],
            [
             0.3,
             "#f1b6da"
            ],
            [
             0.4,
             "#fde0ef"
            ],
            [
             0.5,
             "#f7f7f7"
            ],
            [
             0.6,
             "#e6f5d0"
            ],
            [
             0.7,
             "#b8e186"
            ],
            [
             0.8,
             "#7fbc41"
            ],
            [
             0.9,
             "#4d9221"
            ],
            [
             1,
             "#276419"
            ]
           ],
           "sequential": [
            [
             0,
             "#0d0887"
            ],
            [
             0.1111111111111111,
             "#46039f"
            ],
            [
             0.2222222222222222,
             "#7201a8"
            ],
            [
             0.3333333333333333,
             "#9c179e"
            ],
            [
             0.4444444444444444,
             "#bd3786"
            ],
            [
             0.5555555555555556,
             "#d8576b"
            ],
            [
             0.6666666666666666,
             "#ed7953"
            ],
            [
             0.7777777777777778,
             "#fb9f3a"
            ],
            [
             0.8888888888888888,
             "#fdca26"
            ],
            [
             1,
             "#f0f921"
            ]
           ],
           "sequentialminus": [
            [
             0,
             "#0d0887"
            ],
            [
             0.1111111111111111,
             "#46039f"
            ],
            [
             0.2222222222222222,
             "#7201a8"
            ],
            [
             0.3333333333333333,
             "#9c179e"
            ],
            [
             0.4444444444444444,
             "#bd3786"
            ],
            [
             0.5555555555555556,
             "#d8576b"
            ],
            [
             0.6666666666666666,
             "#ed7953"
            ],
            [
             0.7777777777777778,
             "#fb9f3a"
            ],
            [
             0.8888888888888888,
             "#fdca26"
            ],
            [
             1,
             "#f0f921"
            ]
           ]
          },
          "colorway": [
           "#636efa",
           "#EF553B",
           "#00cc96",
           "#ab63fa",
           "#FFA15A",
           "#19d3f3",
           "#FF6692",
           "#B6E880",
           "#FF97FF",
           "#FECB52"
          ],
          "font": {
           "color": "#2a3f5f"
          },
          "geo": {
           "bgcolor": "white",
           "lakecolor": "white",
           "landcolor": "#E5ECF6",
           "showlakes": true,
           "showland": true,
           "subunitcolor": "white"
          },
          "hoverlabel": {
           "align": "left"
          },
          "hovermode": "closest",
          "mapbox": {
           "style": "light"
          },
          "paper_bgcolor": "white",
          "plot_bgcolor": "#E5ECF6",
          "polar": {
           "angularaxis": {
            "gridcolor": "white",
            "linecolor": "white",
            "ticks": ""
           },
           "bgcolor": "#E5ECF6",
           "radialaxis": {
            "gridcolor": "white",
            "linecolor": "white",
            "ticks": ""
           }
          },
          "scene": {
           "xaxis": {
            "backgroundcolor": "#E5ECF6",
            "gridcolor": "white",
            "gridwidth": 2,
            "linecolor": "white",
            "showbackground": true,
            "ticks": "",
            "zerolinecolor": "white"
           },
           "yaxis": {
            "backgroundcolor": "#E5ECF6",
            "gridcolor": "white",
            "gridwidth": 2,
            "linecolor": "white",
            "showbackground": true,
            "ticks": "",
            "zerolinecolor": "white"
           },
           "zaxis": {
            "backgroundcolor": "#E5ECF6",
            "gridcolor": "white",
            "gridwidth": 2,
            "linecolor": "white",
            "showbackground": true,
            "ticks": "",
            "zerolinecolor": "white"
           }
          },
          "shapedefaults": {
           "line": {
            "color": "#2a3f5f"
           }
          },
          "ternary": {
           "aaxis": {
            "gridcolor": "white",
            "linecolor": "white",
            "ticks": ""
           },
           "baxis": {
            "gridcolor": "white",
            "linecolor": "white",
            "ticks": ""
           },
           "bgcolor": "#E5ECF6",
           "caxis": {
            "gridcolor": "white",
            "linecolor": "white",
            "ticks": ""
           }
          },
          "title": {
           "x": 0.05
          },
          "xaxis": {
           "automargin": true,
           "gridcolor": "white",
           "linecolor": "white",
           "ticks": "",
           "title": {
            "standoff": 15
           },
           "zerolinecolor": "white",
           "zerolinewidth": 2
          },
          "yaxis": {
           "automargin": true,
           "gridcolor": "white",
           "linecolor": "white",
           "ticks": "",
           "title": {
            "standoff": 15
           },
           "zerolinecolor": "white",
           "zerolinewidth": 2
          }
         }
        },
        "title": {
         "text": "Changes in POIs in La Victoria and nearby barrios (2019-10-29 to 2024-10-29)"
        }
       }
      }
     },
     "metadata": {},
     "output_type": "display_data"
    }
   ],
   "source": [
    "# Create the plot\n",
    "fig2 = create_scatter_plot(df2, date_new, date_old)\n",
    "\n",
    "# save as html and display\n",
    "fig2.write_html(output_file_html)\n",
    "fig2"
   ]
  },
  {
   "cell_type": "markdown",
   "metadata": {},
   "source": [
    "Did some kinds of POI change more rapidly than others? Let's summarise the changes:"
   ]
  },
  {
   "cell_type": "code",
   "execution_count": 31,
   "metadata": {},
   "outputs": [
    {
     "data": {
      "text/plain": [
       "feature_key_old  feature_group_old      feature_value_old  comparison     \n",
       "amenity          amenity - food+drinks  bar                NO CHANGE          2\n",
       "                                        cafe               NO CHANGE          9\n",
       "                                                           POI TYPE CHANGE    2\n",
       "                                                           REMOVED            2\n",
       "                                        fast_food          NAME CHANGE        2\n",
       "dtype: int64"
      ]
     },
     "execution_count": 31,
     "metadata": {},
     "output_type": "execute_result"
    }
   ],
   "source": [
    "df2_summary = df2.groupby(\n",
    "    ['feature_key_old', 'feature_group_old', 'feature_value_old', 'comparison']).size()\n",
    "df2_summary.head()"
   ]
  },
  {
   "cell_type": "markdown",
   "metadata": {},
   "source": [
    "It would be easier to interpret this summary DataFrame if the counts for each type of change were in columns. Unstacking the columns:"
   ]
  },
  {
   "cell_type": "code",
   "execution_count": 32,
   "metadata": {},
   "outputs": [
    {
     "data": {
      "text/html": [
       "<div>\n",
       "<style scoped>\n",
       "    .dataframe tbody tr th:only-of-type {\n",
       "        vertical-align: middle;\n",
       "    }\n",
       "\n",
       "    .dataframe tbody tr th {\n",
       "        vertical-align: top;\n",
       "    }\n",
       "\n",
       "    .dataframe thead th {\n",
       "        text-align: right;\n",
       "    }\n",
       "</style>\n",
       "<table border=\"1\" class=\"dataframe\">\n",
       "  <thead>\n",
       "    <tr style=\"text-align: right;\">\n",
       "      <th></th>\n",
       "      <th></th>\n",
       "      <th>comparison</th>\n",
       "      <th>NAME CHANGE</th>\n",
       "      <th>NO CHANGE</th>\n",
       "      <th>POI TYPE CHANGE</th>\n",
       "      <th>REMOVED</th>\n",
       "      <th>ORIGINAL</th>\n",
       "    </tr>\n",
       "    <tr>\n",
       "      <th>feature_key_old</th>\n",
       "      <th>feature_group_old</th>\n",
       "      <th>feature_value_old</th>\n",
       "      <th></th>\n",
       "      <th></th>\n",
       "      <th></th>\n",
       "      <th></th>\n",
       "      <th></th>\n",
       "    </tr>\n",
       "  </thead>\n",
       "  <tbody>\n",
       "    <tr>\n",
       "      <th rowspan=\"5\" valign=\"top\">amenity</th>\n",
       "      <th rowspan=\"5\" valign=\"top\">amenity - food+drinks</th>\n",
       "      <th>bar</th>\n",
       "      <td>0</td>\n",
       "      <td>2</td>\n",
       "      <td>0</td>\n",
       "      <td>0</td>\n",
       "      <td>2</td>\n",
       "    </tr>\n",
       "    <tr>\n",
       "      <th>cafe</th>\n",
       "      <td>0</td>\n",
       "      <td>9</td>\n",
       "      <td>2</td>\n",
       "      <td>2</td>\n",
       "      <td>13</td>\n",
       "    </tr>\n",
       "    <tr>\n",
       "      <th>fast_food</th>\n",
       "      <td>2</td>\n",
       "      <td>2</td>\n",
       "      <td>1</td>\n",
       "      <td>2</td>\n",
       "      <td>7</td>\n",
       "    </tr>\n",
       "    <tr>\n",
       "      <th>ice_cream</th>\n",
       "      <td>1</td>\n",
       "      <td>1</td>\n",
       "      <td>0</td>\n",
       "      <td>0</td>\n",
       "      <td>2</td>\n",
       "    </tr>\n",
       "    <tr>\n",
       "      <th>restaurant</th>\n",
       "      <td>4</td>\n",
       "      <td>8</td>\n",
       "      <td>4</td>\n",
       "      <td>1</td>\n",
       "      <td>17</td>\n",
       "    </tr>\n",
       "  </tbody>\n",
       "</table>\n",
       "</div>"
      ],
      "text/plain": [
       "comparison                                               NAME CHANGE  NO CHANGE  POI TYPE CHANGE  REMOVED  ORIGINAL\n",
       "feature_key_old feature_group_old     feature_value_old                                                            \n",
       "amenity         amenity - food+drinks bar                          0          2                0        0         2\n",
       "                                      cafe                         0          9                2        2        13\n",
       "                                      fast_food                    2          2                1        2         7\n",
       "                                      ice_cream                    1          1                0        0         2\n",
       "                                      restaurant                   4          8                4        1        17"
      ]
     },
     "execution_count": 32,
     "metadata": {},
     "output_type": "execute_result"
    }
   ],
   "source": [
    "df2_summary = df2_summary.unstack(fill_value=0)\n",
    "df2_summary['ORIGINAL'] = df2_summary.sum(axis=1)\n",
    "df2_summary.head()"
   ]
  },
  {
   "cell_type": "markdown",
   "metadata": {},
   "source": [
    "Now we can look at the changes for each feature group:"
   ]
  },
  {
   "cell_type": "code",
   "execution_count": 33,
   "metadata": {},
   "outputs": [
    {
     "data": {
      "text/html": [
       "<div>\n",
       "<style scoped>\n",
       "    .dataframe tbody tr th:only-of-type {\n",
       "        vertical-align: middle;\n",
       "    }\n",
       "\n",
       "    .dataframe tbody tr th {\n",
       "        vertical-align: top;\n",
       "    }\n",
       "\n",
       "    .dataframe thead th {\n",
       "        text-align: right;\n",
       "    }\n",
       "</style>\n",
       "<table border=\"1\" class=\"dataframe\">\n",
       "  <thead>\n",
       "    <tr style=\"text-align: right;\">\n",
       "      <th>comparison</th>\n",
       "      <th>NAME CHANGE</th>\n",
       "      <th>NO CHANGE</th>\n",
       "      <th>POI TYPE CHANGE</th>\n",
       "      <th>REMOVED</th>\n",
       "      <th>ORIGINAL</th>\n",
       "      <th>unchanged_pc</th>\n",
       "    </tr>\n",
       "    <tr>\n",
       "      <th>feature_group_old</th>\n",
       "      <th></th>\n",
       "      <th></th>\n",
       "      <th></th>\n",
       "      <th></th>\n",
       "      <th></th>\n",
       "      <th></th>\n",
       "    </tr>\n",
       "  </thead>\n",
       "  <tbody>\n",
       "    <tr>\n",
       "      <th>amenity - food+drinks</th>\n",
       "      <td>7</td>\n",
       "      <td>22</td>\n",
       "      <td>7</td>\n",
       "      <td>5</td>\n",
       "      <td>41</td>\n",
       "      <td>53.658537</td>\n",
       "    </tr>\n",
       "    <tr>\n",
       "      <th>amenity - general</th>\n",
       "      <td>0</td>\n",
       "      <td>21</td>\n",
       "      <td>2</td>\n",
       "      <td>8</td>\n",
       "      <td>31</td>\n",
       "      <td>67.741935</td>\n",
       "    </tr>\n",
       "    <tr>\n",
       "      <th>craft - general</th>\n",
       "      <td>0</td>\n",
       "      <td>1</td>\n",
       "      <td>0</td>\n",
       "      <td>0</td>\n",
       "      <td>1</td>\n",
       "      <td>100.000000</td>\n",
       "    </tr>\n",
       "    <tr>\n",
       "      <th>healthcare - general</th>\n",
       "      <td>1</td>\n",
       "      <td>13</td>\n",
       "      <td>1</td>\n",
       "      <td>0</td>\n",
       "      <td>15</td>\n",
       "      <td>86.666667</td>\n",
       "    </tr>\n",
       "    <tr>\n",
       "      <th>leisure - general</th>\n",
       "      <td>2</td>\n",
       "      <td>3</td>\n",
       "      <td>0</td>\n",
       "      <td>2</td>\n",
       "      <td>7</td>\n",
       "      <td>42.857143</td>\n",
       "    </tr>\n",
       "    <tr>\n",
       "      <th>office - general</th>\n",
       "      <td>3</td>\n",
       "      <td>4</td>\n",
       "      <td>1</td>\n",
       "      <td>1</td>\n",
       "      <td>9</td>\n",
       "      <td>44.444444</td>\n",
       "    </tr>\n",
       "    <tr>\n",
       "      <th>shop - clothes</th>\n",
       "      <td>0</td>\n",
       "      <td>7</td>\n",
       "      <td>5</td>\n",
       "      <td>6</td>\n",
       "      <td>18</td>\n",
       "      <td>38.888889</td>\n",
       "    </tr>\n",
       "    <tr>\n",
       "      <th>shop - food</th>\n",
       "      <td>4</td>\n",
       "      <td>28</td>\n",
       "      <td>9</td>\n",
       "      <td>10</td>\n",
       "      <td>51</td>\n",
       "      <td>54.901961</td>\n",
       "    </tr>\n",
       "    <tr>\n",
       "      <th>shop - for the body</th>\n",
       "      <td>3</td>\n",
       "      <td>15</td>\n",
       "      <td>3</td>\n",
       "      <td>3</td>\n",
       "      <td>24</td>\n",
       "      <td>62.500000</td>\n",
       "    </tr>\n",
       "    <tr>\n",
       "      <th>shop - general</th>\n",
       "      <td>1</td>\n",
       "      <td>19</td>\n",
       "      <td>10</td>\n",
       "      <td>5</td>\n",
       "      <td>35</td>\n",
       "      <td>54.285714</td>\n",
       "    </tr>\n",
       "    <tr>\n",
       "      <th>tourism - general</th>\n",
       "      <td>1</td>\n",
       "      <td>2</td>\n",
       "      <td>0</td>\n",
       "      <td>2</td>\n",
       "      <td>5</td>\n",
       "      <td>40.000000</td>\n",
       "    </tr>\n",
       "  </tbody>\n",
       "</table>\n",
       "</div>"
      ],
      "text/plain": [
       "comparison             NAME CHANGE  NO CHANGE  POI TYPE CHANGE  REMOVED  ORIGINAL  unchanged_pc\n",
       "feature_group_old                                                                              \n",
       "amenity - food+drinks            7         22                7        5        41     53.658537\n",
       "amenity - general                0         21                2        8        31     67.741935\n",
       "craft - general                  0          1                0        0         1    100.000000\n",
       "healthcare - general             1         13                1        0        15     86.666667\n",
       "leisure - general                2          3                0        2         7     42.857143\n",
       "office - general                 3          4                1        1         9     44.444444\n",
       "shop - clothes                   0          7                5        6        18     38.888889\n",
       "shop - food                      4         28                9       10        51     54.901961\n",
       "shop - for the body              3         15                3        3        24     62.500000\n",
       "shop - general                   1         19               10        5        35     54.285714\n",
       "tourism - general                1          2                0        2         5     40.000000"
      ]
     },
     "execution_count": 33,
     "metadata": {},
     "output_type": "execute_result"
    }
   ],
   "source": [
    "df2_group_summary = df2_summary.groupby(['feature_group_old']).sum()\n",
    "df2_group_summary['unchanged_pc'] = df2_group_summary['NO CHANGE'] / \\\n",
    "    df2_group_summary['ORIGINAL'] * 100\n",
    "df2_group_summary"
   ]
  },
  {
   "cell_type": "markdown",
   "metadata": {},
   "source": [
    "Generally there is been a significant rate of change across all the main groups. Clothes shops stand out as especially prone to change, and healthcare as more stable. Let's look at the individual POIs in both groups:"
   ]
  },
  {
   "cell_type": "code",
   "execution_count": 34,
   "metadata": {},
   "outputs": [
    {
     "data": {
      "text/html": [
       "<div>\n",
       "<style scoped>\n",
       "    .dataframe tbody tr th:only-of-type {\n",
       "        vertical-align: middle;\n",
       "    }\n",
       "\n",
       "    .dataframe tbody tr th {\n",
       "        vertical-align: top;\n",
       "    }\n",
       "\n",
       "    .dataframe thead th {\n",
       "        text-align: right;\n",
       "    }\n",
       "</style>\n",
       "<table border=\"1\" class=\"dataframe\">\n",
       "  <thead>\n",
       "    <tr style=\"text-align: right;\">\n",
       "      <th></th>\n",
       "      <th>comparison</th>\n",
       "      <th>feature_value_new</th>\n",
       "      <th>name_new</th>\n",
       "      <th>feature_value_old</th>\n",
       "      <th>name_old</th>\n",
       "    </tr>\n",
       "    <tr>\n",
       "      <th>full_id</th>\n",
       "      <th></th>\n",
       "      <th></th>\n",
       "      <th></th>\n",
       "      <th></th>\n",
       "      <th></th>\n",
       "    </tr>\n",
       "  </thead>\n",
       "  <tbody>\n",
       "    <tr>\n",
       "      <th>node/4855317181</th>\n",
       "      <td>POI TYPE CHANGE</td>\n",
       "      <td>art</td>\n",
       "      <td>El Escaparate</td>\n",
       "      <td>clothes</td>\n",
       "      <td>Modas Valdi</td>\n",
       "    </tr>\n",
       "    <tr>\n",
       "      <th>node/4855317186</th>\n",
       "      <td>NO CHANGE</td>\n",
       "      <td>clothes</td>\n",
       "      <td>Mercería Reyes</td>\n",
       "      <td>clothes</td>\n",
       "      <td>Mercería Reyes</td>\n",
       "    </tr>\n",
       "    <tr>\n",
       "      <th>node/4855317188</th>\n",
       "      <td>NO CHANGE</td>\n",
       "      <td>clothes</td>\n",
       "      <td>Veneno Moda</td>\n",
       "      <td>clothes</td>\n",
       "      <td>Veneno Moda</td>\n",
       "    </tr>\n",
       "    <tr>\n",
       "      <th>node/4855451339</th>\n",
       "      <td>REMOVED</td>\n",
       "      <td>NaN</td>\n",
       "      <td>NaN</td>\n",
       "      <td>clothes</td>\n",
       "      <td>The Park</td>\n",
       "    </tr>\n",
       "    <tr>\n",
       "      <th>node/4855451341</th>\n",
       "      <td>REMOVED</td>\n",
       "      <td>NaN</td>\n",
       "      <td>NaN</td>\n",
       "      <td>clothes</td>\n",
       "      <td></td>\n",
       "    </tr>\n",
       "    <tr>\n",
       "      <th>node/4855493934</th>\n",
       "      <td>POI TYPE CHANGE</td>\n",
       "      <td>fitness_centre</td>\n",
       "      <td>Upgrade</td>\n",
       "      <td>clothes</td>\n",
       "      <td>Feeling Modas</td>\n",
       "    </tr>\n",
       "    <tr>\n",
       "      <th>node/4856539946</th>\n",
       "      <td>NO CHANGE</td>\n",
       "      <td>clothes</td>\n",
       "      <td>Cristina Modas</td>\n",
       "      <td>clothes</td>\n",
       "      <td>Cristina Modas</td>\n",
       "    </tr>\n",
       "    <tr>\n",
       "      <th>node/4856539948</th>\n",
       "      <td>REMOVED</td>\n",
       "      <td>NaN</td>\n",
       "      <td>NaN</td>\n",
       "      <td>clothes</td>\n",
       "      <td>Concha González</td>\n",
       "    </tr>\n",
       "    <tr>\n",
       "      <th>node/4856539953</th>\n",
       "      <td>POI TYPE CHANGE</td>\n",
       "      <td>pet_grooming</td>\n",
       "      <td>El Rincón de Luna</td>\n",
       "      <td>clothes</td>\n",
       "      <td>Estela y Lola</td>\n",
       "    </tr>\n",
       "    <tr>\n",
       "      <th>node/4857027151</th>\n",
       "      <td>POI TYPE CHANGE</td>\n",
       "      <td>architect</td>\n",
       "      <td>Darconsa</td>\n",
       "      <td>clothes</td>\n",
       "      <td>Me Gusta</td>\n",
       "    </tr>\n",
       "    <tr>\n",
       "      <th>node/4862183023</th>\n",
       "      <td>REMOVED</td>\n",
       "      <td>NaN</td>\n",
       "      <td>NaN</td>\n",
       "      <td>clothes</td>\n",
       "      <td>Mercería Puri</td>\n",
       "    </tr>\n",
       "    <tr>\n",
       "      <th>node/4862183027</th>\n",
       "      <td>NO CHANGE</td>\n",
       "      <td>clothes</td>\n",
       "      <td>Mercería Puri</td>\n",
       "      <td>clothes</td>\n",
       "      <td>Mercería Puri</td>\n",
       "    </tr>\n",
       "    <tr>\n",
       "      <th>node/4863095073</th>\n",
       "      <td>POI TYPE CHANGE</td>\n",
       "      <td>hairdresser</td>\n",
       "      <td>Peluquería Low Cost</td>\n",
       "      <td>clothes</td>\n",
       "      <td>Atmósfera</td>\n",
       "    </tr>\n",
       "    <tr>\n",
       "      <th>node/4863095077</th>\n",
       "      <td>NO CHANGE</td>\n",
       "      <td>laundry</td>\n",
       "      <td>La Artesana</td>\n",
       "      <td>laundry</td>\n",
       "      <td></td>\n",
       "    </tr>\n",
       "    <tr>\n",
       "      <th>node/5274177523</th>\n",
       "      <td>REMOVED</td>\n",
       "      <td>NaN</td>\n",
       "      <td>NaN</td>\n",
       "      <td>clothes</td>\n",
       "      <td>Tábata</td>\n",
       "    </tr>\n",
       "    <tr>\n",
       "      <th>node/5274177529</th>\n",
       "      <td>NO CHANGE</td>\n",
       "      <td>clothes</td>\n",
       "      <td>Modas Cambiame</td>\n",
       "      <td>clothes</td>\n",
       "      <td>Modas Cambiame</td>\n",
       "    </tr>\n",
       "    <tr>\n",
       "      <th>node/6314181264</th>\n",
       "      <td>NO CHANGE</td>\n",
       "      <td>laundry</td>\n",
       "      <td>Lavomatic</td>\n",
       "      <td>laundry</td>\n",
       "      <td>Lavandomatic</td>\n",
       "    </tr>\n",
       "    <tr>\n",
       "      <th>node/6378501586</th>\n",
       "      <td>REMOVED</td>\n",
       "      <td>NaN</td>\n",
       "      <td>NaN</td>\n",
       "      <td>laundry</td>\n",
       "      <td>Lavomatic</td>\n",
       "    </tr>\n",
       "  </tbody>\n",
       "</table>\n",
       "</div>"
      ],
      "text/plain": [
       "                      comparison feature_value_new             name_new feature_value_old         name_old\n",
       "full_id                                                                                                   \n",
       "node/4855317181  POI TYPE CHANGE               art        El Escaparate           clothes      Modas Valdi\n",
       "node/4855317186        NO CHANGE           clothes       Mercería Reyes           clothes   Mercería Reyes\n",
       "node/4855317188        NO CHANGE           clothes          Veneno Moda           clothes      Veneno Moda\n",
       "node/4855451339          REMOVED               NaN                  NaN           clothes         The Park\n",
       "node/4855451341          REMOVED               NaN                  NaN           clothes                 \n",
       "node/4855493934  POI TYPE CHANGE    fitness_centre              Upgrade           clothes    Feeling Modas\n",
       "node/4856539946        NO CHANGE           clothes       Cristina Modas           clothes   Cristina Modas\n",
       "node/4856539948          REMOVED               NaN                  NaN           clothes  Concha González\n",
       "node/4856539953  POI TYPE CHANGE      pet_grooming    El Rincón de Luna           clothes    Estela y Lola\n",
       "node/4857027151  POI TYPE CHANGE         architect             Darconsa           clothes         Me Gusta\n",
       "node/4862183023          REMOVED               NaN                  NaN           clothes    Mercería Puri\n",
       "node/4862183027        NO CHANGE           clothes        Mercería Puri           clothes    Mercería Puri\n",
       "node/4863095073  POI TYPE CHANGE       hairdresser  Peluquería Low Cost           clothes        Atmósfera\n",
       "node/4863095077        NO CHANGE           laundry          La Artesana           laundry                 \n",
       "node/5274177523          REMOVED               NaN                  NaN           clothes           Tábata\n",
       "node/5274177529        NO CHANGE           clothes       Modas Cambiame           clothes   Modas Cambiame\n",
       "node/6314181264        NO CHANGE           laundry            Lavomatic           laundry     Lavandomatic\n",
       "node/6378501586          REMOVED               NaN                  NaN           laundry        Lavomatic"
      ]
     },
     "execution_count": 34,
     "metadata": {},
     "output_type": "execute_result"
    }
   ],
   "source": [
    "df2[df2['feature_group_old'] == 'shop - clothes'][['comparison',\n",
    "                                                   'feature_value_new', 'name_new', 'feature_value_old', 'name_old']]"
   ]
  },
  {
   "cell_type": "code",
   "execution_count": 35,
   "metadata": {},
   "outputs": [
    {
     "data": {
      "text/html": [
       "<div>\n",
       "<style scoped>\n",
       "    .dataframe tbody tr th:only-of-type {\n",
       "        vertical-align: middle;\n",
       "    }\n",
       "\n",
       "    .dataframe tbody tr th {\n",
       "        vertical-align: top;\n",
       "    }\n",
       "\n",
       "    .dataframe thead th {\n",
       "        text-align: right;\n",
       "    }\n",
       "</style>\n",
       "<table border=\"1\" class=\"dataframe\">\n",
       "  <thead>\n",
       "    <tr style=\"text-align: right;\">\n",
       "      <th></th>\n",
       "      <th>comparison</th>\n",
       "      <th>feature_value_new</th>\n",
       "      <th>name_new</th>\n",
       "      <th>feature_value_old</th>\n",
       "      <th>name_old</th>\n",
       "    </tr>\n",
       "    <tr>\n",
       "      <th>full_id</th>\n",
       "      <th></th>\n",
       "      <th></th>\n",
       "      <th></th>\n",
       "      <th></th>\n",
       "      <th></th>\n",
       "    </tr>\n",
       "  </thead>\n",
       "  <tbody>\n",
       "    <tr>\n",
       "      <th>node/4728164415</th>\n",
       "      <td>NO CHANGE</td>\n",
       "      <td>pharmacy</td>\n",
       "      <td>Farmacia Ferrándiz</td>\n",
       "      <td>pharmacy</td>\n",
       "      <td>Farmacia Ferrándiz</td>\n",
       "    </tr>\n",
       "    <tr>\n",
       "      <th>node/4728164416</th>\n",
       "      <td>NO CHANGE</td>\n",
       "      <td>pharmacy</td>\n",
       "      <td>Farmacia Coronado</td>\n",
       "      <td>pharmacy</td>\n",
       "      <td>Farmacia Coronado</td>\n",
       "    </tr>\n",
       "    <tr>\n",
       "      <th>node/4728164420</th>\n",
       "      <td>NO CHANGE</td>\n",
       "      <td>pharmacy</td>\n",
       "      <td>Farmacia Plaza de la Victoria</td>\n",
       "      <td>pharmacy</td>\n",
       "      <td>Farmacia Plaza Victoria</td>\n",
       "    </tr>\n",
       "    <tr>\n",
       "      <th>node/4796806091</th>\n",
       "      <td>NO CHANGE</td>\n",
       "      <td>pharmacy</td>\n",
       "      <td>Farmacia Laynez</td>\n",
       "      <td>pharmacy</td>\n",
       "      <td></td>\n",
       "    </tr>\n",
       "    <tr>\n",
       "      <th>node/4855451338</th>\n",
       "      <td>NAME CHANGE</td>\n",
       "      <td>dentist</td>\n",
       "      <td>Kantis</td>\n",
       "      <td>dentist</td>\n",
       "      <td>Silvia Bassino</td>\n",
       "    </tr>\n",
       "    <tr>\n",
       "      <th>node/4855451342</th>\n",
       "      <td>NO CHANGE</td>\n",
       "      <td>pharmacy</td>\n",
       "      <td>Farmacia Sanjuan Valero</td>\n",
       "      <td>pharmacy</td>\n",
       "      <td></td>\n",
       "    </tr>\n",
       "    <tr>\n",
       "      <th>node/4856185576</th>\n",
       "      <td>NO CHANGE</td>\n",
       "      <td>dentist</td>\n",
       "      <td>Clínica Dental de la Victoria</td>\n",
       "      <td>dentist</td>\n",
       "      <td>Clínica Dental de la Victoria</td>\n",
       "    </tr>\n",
       "    <tr>\n",
       "      <th>node/4856220372</th>\n",
       "      <td>POI TYPE CHANGE</td>\n",
       "      <td>centre</td>\n",
       "      <td>Centro Médico Conductores</td>\n",
       "      <td>clinic</td>\n",
       "      <td>Europreven</td>\n",
       "    </tr>\n",
       "    <tr>\n",
       "      <th>node/4856539949</th>\n",
       "      <td>NO CHANGE</td>\n",
       "      <td>dentist</td>\n",
       "      <td>Bucaldent</td>\n",
       "      <td>dentist</td>\n",
       "      <td>Bucaldent</td>\n",
       "    </tr>\n",
       "    <tr>\n",
       "      <th>node/4857704412</th>\n",
       "      <td>NO CHANGE</td>\n",
       "      <td>dentist</td>\n",
       "      <td>Institución Dento-estética Dr. Manue...</td>\n",
       "      <td>dentist</td>\n",
       "      <td>Institución Dento-estética Dr. Manue...</td>\n",
       "    </tr>\n",
       "    <tr>\n",
       "      <th>node/4858171014</th>\n",
       "      <td>NO CHANGE</td>\n",
       "      <td>pharmacy</td>\n",
       "      <td>Farmacia Pinosol</td>\n",
       "      <td>pharmacy</td>\n",
       "      <td></td>\n",
       "    </tr>\n",
       "    <tr>\n",
       "      <th>node/4863095072</th>\n",
       "      <td>NO CHANGE</td>\n",
       "      <td>pharmacy</td>\n",
       "      <td>Farmacia López Yerón</td>\n",
       "      <td>pharmacy</td>\n",
       "      <td>Farmacia López</td>\n",
       "    </tr>\n",
       "    <tr>\n",
       "      <th>node/5274177524</th>\n",
       "      <td>NO CHANGE</td>\n",
       "      <td>physiotherapist</td>\n",
       "      <td>Fisio360</td>\n",
       "      <td>physiotherapist</td>\n",
       "      <td>Fisio360</td>\n",
       "    </tr>\n",
       "    <tr>\n",
       "      <th>node/5309938442</th>\n",
       "      <td>NO CHANGE</td>\n",
       "      <td>podiatrist</td>\n",
       "      <td>Amores y Rodríguez</td>\n",
       "      <td>podiatrist</td>\n",
       "      <td>Amores y Rodríguez</td>\n",
       "    </tr>\n",
       "    <tr>\n",
       "      <th>node/5635365021</th>\n",
       "      <td>NO CHANGE</td>\n",
       "      <td>pharmacy</td>\n",
       "      <td>Farmacia Margarita López Rodríguez</td>\n",
       "      <td>pharmacy</td>\n",
       "      <td></td>\n",
       "    </tr>\n",
       "  </tbody>\n",
       "</table>\n",
       "</div>"
      ],
      "text/plain": [
       "                      comparison feature_value_new                                 name_new feature_value_old  \\\n",
       "full_id                                                                                                         \n",
       "node/4728164415        NO CHANGE          pharmacy                       Farmacia Ferrándiz          pharmacy   \n",
       "node/4728164416        NO CHANGE          pharmacy                        Farmacia Coronado          pharmacy   \n",
       "node/4728164420        NO CHANGE          pharmacy            Farmacia Plaza de la Victoria          pharmacy   \n",
       "node/4796806091        NO CHANGE          pharmacy                          Farmacia Laynez          pharmacy   \n",
       "node/4855451338      NAME CHANGE           dentist                                   Kantis           dentist   \n",
       "node/4855451342        NO CHANGE          pharmacy                  Farmacia Sanjuan Valero          pharmacy   \n",
       "node/4856185576        NO CHANGE           dentist            Clínica Dental de la Victoria           dentist   \n",
       "node/4856220372  POI TYPE CHANGE            centre                Centro Médico Conductores            clinic   \n",
       "node/4856539949        NO CHANGE           dentist                                Bucaldent           dentist   \n",
       "node/4857704412        NO CHANGE           dentist  Institución Dento-estética Dr. Manue...           dentist   \n",
       "node/4858171014        NO CHANGE          pharmacy                         Farmacia Pinosol          pharmacy   \n",
       "node/4863095072        NO CHANGE          pharmacy                     Farmacia López Yerón          pharmacy   \n",
       "node/5274177524        NO CHANGE   physiotherapist                                 Fisio360   physiotherapist   \n",
       "node/5309938442        NO CHANGE        podiatrist                       Amores y Rodríguez        podiatrist   \n",
       "node/5635365021        NO CHANGE          pharmacy       Farmacia Margarita López Rodríguez          pharmacy   \n",
       "\n",
       "                                                name_old  \n",
       "full_id                                                   \n",
       "node/4728164415                       Farmacia Ferrándiz  \n",
       "node/4728164416                        Farmacia Coronado  \n",
       "node/4728164420                  Farmacia Plaza Victoria  \n",
       "node/4796806091                                           \n",
       "node/4855451338                           Silvia Bassino  \n",
       "node/4855451342                                           \n",
       "node/4856185576            Clínica Dental de la Victoria  \n",
       "node/4856220372                               Europreven  \n",
       "node/4856539949                                Bucaldent  \n",
       "node/4857704412  Institución Dento-estética Dr. Manue...  \n",
       "node/4858171014                                           \n",
       "node/4863095072                           Farmacia López  \n",
       "node/5274177524                                 Fisio360  \n",
       "node/5309938442                       Amores y Rodríguez  \n",
       "node/5635365021                                           "
      ]
     },
     "execution_count": 35,
     "metadata": {},
     "output_type": "execute_result"
    }
   ],
   "source": [
    "df2[df2['feature_group_old'] == 'healthcare - general'][['comparison',\n",
    "                                                         'feature_value_new', 'name_new', 'feature_value_old', 'name_old']]"
   ]
  },
  {
   "cell_type": "markdown",
   "metadata": {},
   "source": [
    "## Next steps\n",
    "\n",
    "The next steps are more about mapping than coding: having brought these POIs up to date, I need to keep them that way. That should mean that future analyses like this one can focus more on real changes (businesses opening, closing, and changing hands) than on side effects of mapping activity.\n",
    "\n",
    "In the meantime, I plan to tidy up some of this code and move it to a Python script that I can use to monitor changes in local POIs on a recurring basis."
   ]
  }
 ],
 "metadata": {
  "kernelspec": {
   "display_name": ".venv",
   "language": "python",
   "name": "python3"
  },
  "language_info": {
   "codemirror_mode": {
    "name": "ipython",
    "version": 3
   },
   "file_extension": ".py",
   "mimetype": "text/x-python",
   "name": "python",
   "nbconvert_exporter": "python",
   "pygments_lexer": "ipython3",
   "version": "3.11.9"
  }
 },
 "nbformat": 4,
 "nbformat_minor": 4
}
